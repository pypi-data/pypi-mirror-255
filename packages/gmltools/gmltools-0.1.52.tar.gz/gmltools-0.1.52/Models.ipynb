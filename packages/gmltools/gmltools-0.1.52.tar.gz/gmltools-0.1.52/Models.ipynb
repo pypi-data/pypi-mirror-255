{
 "cells": [
  {
   "cell_type": "code",
   "execution_count": 1,
   "metadata": {},
   "outputs": [
    {
     "name": "stderr",
     "output_type": "stream",
     "text": [
      "c:\\Users\\dsanzgadea\\Anaconda3\\envs\\gmlutils\\lib\\site-packages\\xgboost\\compat.py:36: FutureWarning: pandas.Int64Index is deprecated and will be removed from pandas in a future version. Use pandas.Index with the appropriate dtype instead.\n",
      "  from pandas import MultiIndex, Int64Index\n"
     ]
    }
   ],
   "source": [
    "#save as .pkl model\n",
    "import joblib\n",
    "from sklearn.ensemble import GradientBoostingClassifier\n",
    "#import pipelines\n",
    "from sklearn.pipeline import Pipeline\n",
    "from sklearn.preprocessing import StandardScaler\n",
    "from sklearn.preprocessing import OneHotEncoder\n",
    "from sklearn.preprocessing import OrdinalEncoder\n",
    "from sklearn.compose import ColumnTransformer\n",
    "#import 3 class classification dataset\n",
    "from sklearn.datasets import load_iris\n",
    "import pandas as pd\n",
    "#split the data into train and test\n",
    "from sklearn.model_selection import train_test_split\n",
    "#import gridsearch\n",
    "from sklearn.model_selection import GridSearchCV\n",
    "\n",
    "#import logistic regression classifier\n",
    "from sklearn.utils import class_weight\n",
    "import numpy as np\n",
    "from sklearn.linear_model import LogisticRegression\n",
    "from sklearn.utils.class_weight import compute_sample_weight\n",
    "#import stratified shuffle split\n",
    "from sklearn.model_selection import StratifiedShuffleSplit\n",
    "#improt Random Forest Classifier\n",
    "from sklearn.ensemble import RandomForestClassifier\n",
    "from sklearn.inspection import permutation_importance\n",
    "from imblearn.over_sampling import SMOTE\n",
    "import matplotlib.pyplot as plt\n",
    "import seaborn as sns\n",
    "\n",
    "from gmlutils.models.classification import Classification\n",
    "from gmlutils.models_analysis.xai import Xai\n",
    "from gmlutils.models_analysis.classification_analysis import Canalysis"
   ]
  },
  {
   "cell_type": "code",
   "execution_count": 2,
   "metadata": {},
   "outputs": [],
   "source": [
    "#read final.csv\n",
    "df = pd.read_csv('final.csv')\n",
    "df.classification_only_nationals=df.classification_only_nationals.astype('category')\n",
    "\n",
    "df.drop(columns=[\"saldo_fr\",\"classification_only_nationals\"], inplace=True)\n",
    "df.saldo_fr_sign=df.saldo_fr_sign.astype('category')\n",
    "df.set_index('Fecha', inplace=True)\n",
    "X=df.drop(columns=[\"saldo_fr_sign\"])\n",
    "y=df.saldo_fr_sign"
   ]
  },
  {
   "attachments": {},
   "cell_type": "markdown",
   "metadata": {},
   "source": [
    "### SPLIT THE DF STRATIFYING THE DATA"
   ]
  },
  {
   "cell_type": "code",
   "execution_count": 3,
   "metadata": {},
   "outputs": [],
   "source": [
    "split = StratifiedShuffleSplit(n_splits=1, test_size=0.2, random_state=2023)\n",
    "for train_index, test_index in split.split(X, y):\n",
    "    X_train = X.iloc[train_index]\n",
    "    X_test = X.iloc[test_index]\n",
    "    y_train = y.iloc[train_index]\n",
    "    y_test = y.iloc[test_index]"
   ]
  },
  {
   "attachments": {},
   "cell_type": "markdown",
   "metadata": {},
   "source": [
    "### Upsampling"
   ]
  },
  {
   "cell_type": "code",
   "execution_count": 5,
   "metadata": {},
   "outputs": [],
   "source": [
    "SMOTE_ = SMOTE(random_state=2023)\n",
    "X_train_, y_train_ = SMOTE_.fit_resample(X_train, y_train)"
   ]
  },
  {
   "cell_type": "code",
   "execution_count": 6,
   "metadata": {},
   "outputs": [],
   "source": [
    "clf=Classification()"
   ]
  },
  {
   "cell_type": "code",
   "execution_count": 8,
   "metadata": {},
   "outputs": [
    {
     "name": "stdout",
     "output_type": "stream",
     "text": [
      " INFO: Agurments params must start as 'RFC__param'\n",
      "INFO: Default params in Documentation for Random Forest are:  {'n_estimators': 100, 'criterion': 'gini', 'max_depth': None, 'min_samples_split': 2, 'min_samples_leaf': 1, 'min_weight_fraction_leaf': 0.0, 'max_features': 'sqrt', 'max_leaf_nodes': None, 'min_impurity_decrease': 0.0, 'bootstrap': True, 'oob_score': False, 'n_jobs': None, 'random_state': None, 'verbose': 0, 'warm_start': False, 'class_weight': None, 'ccp_alpha': 0.0, 'max_samples': None}\n",
      "\n",
      "INFO: Default params RUN for this model are:  grid_params = {'RFC__n_estimators': [200, 300], 'RFC__max_depth': [None], 'RFC__min_samples_split': [2], 'RFC__max_features': ['sqrt']} scoring = accuracy criterion = gini bayes_n_iter = 30 class_weigth = None bayes_pbounds = None bayes_int_params = None ordinal_cat_cols = None random_state = None n_jobs = -1\n",
      "Grid search is running\n",
      "Fitting 10 folds for each of 2 candidates, totalling 20 fits\n"
     ]
    }
   ],
   "source": [
    "rf_smote=clf.RandomForest_Classifier(X_train_, y_train_, grid_params={'RFC__n_estimators': [200, 300], 'RFC__max_depth': [None], 'RFC__min_samples_split': [2], 'RFC__max_features': ['sqrt']})"
   ]
  },
  {
   "attachments": {},
   "cell_type": "markdown",
   "metadata": {},
   "source": [
    "### Model Analysis"
   ]
  },
  {
   "cell_type": "code",
   "execution_count": 9,
   "metadata": {},
   "outputs": [],
   "source": [
    "analysis=Canalysis(rf_smote, X_train_, y_train_, X_test, y_test)"
   ]
  },
  {
   "cell_type": "code",
   "execution_count": 11,
   "metadata": {},
   "outputs": [
    {
     "name": "stdout",
     "output_type": "stream",
     "text": [
      "Confusion Matrix and Statistics\n",
      "\t   Prediction\n",
      " Reference   -1    0    1\n",
      "        -1 8123    0    0\n",
      "         0    0 8123    0\n",
      "         1    0    0 8123\n",
      "\n",
      " Overall Multiclass Score Using Macro\n",
      "\n",
      "Accuracy: 1.0\n",
      "No Information Rate: 0.333\n",
      "P-Value [Acc > NIR]: 0.0\n",
      "Kappa: 1.0\n",
      "Mcnemar's Test P-Value: 1.0\n",
      "Precision: 1.0\n",
      "Recall: 1.0\n",
      "Balanced accuracy: 1.0\n",
      "F1 Score: 1.0\n",
      "\n",
      "Individual Class Scores\n",
      "Class: -1\n",
      "Recall: 1.0\n",
      "Specificity: 1.0\n",
      "Precision: 1.0\n",
      "F1 Score: 1.0\n",
      "\n",
      "Class: 0\n",
      "Recall: 1.0\n",
      "Specificity: 1.0\n",
      "Precision: 1.0\n",
      "F1 Score: 1.0\n",
      "\n",
      "Class: 1\n",
      "Recall: 1.0\n",
      "Specificity: 1.0\n",
      "Precision: 1.0\n",
      "F1 Score: 1.0\n",
      "\n"
     ]
    },
    {
     "name": "stderr",
     "output_type": "stream",
     "text": [
      "Note that pos_label (set to -1) is ignored when average != 'binary' (got 'macro'). You may use labels=[pos_label] to specify a single positive class.\n",
      "Note that pos_label (set to -1) is ignored when average != 'binary' (got 'macro'). You may use labels=[pos_label] to specify a single positive class.\n",
      "Note that pos_label (set to -1) is ignored when average != 'binary' (got 'macro'). You may use labels=[pos_label] to specify a single positive class.\n"
     ]
    }
   ],
   "source": [
    "analysis.confusion_matrix('train', labels=y_train_.cat.categories)"
   ]
  },
  {
   "cell_type": "code",
   "execution_count": 12,
   "metadata": {},
   "outputs": [
    {
     "name": "stdout",
     "output_type": "stream",
     "text": [
      "Confusion Matrix and Statistics\n",
      "\t   Prediction\n",
      " Reference   -1   0    1\n",
      "        -1 1893 130    8\n",
      "         0   91 371  113\n",
      "         1    9  92 1424\n",
      "\n",
      " Overall Multiclass Score Using Macro\n",
      "\n",
      "Accuracy: 0.893\n",
      "No Information Rate: 0.395\n",
      "P-Value [Acc > NIR]: 0.0\n",
      "Kappa: 0.823\n",
      "Mcnemar's Test P-Value: 0.01\n",
      "Precision: 0.832\n",
      "Recall: 0.837\n",
      "Balanced accuracy: 0.837\n",
      "F1 Score: 0.835\n",
      "\n",
      "Individual Class Scores\n",
      "Class: -1\n",
      "Recall: 0.932\n",
      "Specificity: 0.952\n",
      "Precision: 0.95\n",
      "F1 Score: 0.941\n",
      "\n",
      "Class: 0\n",
      "Recall: 0.645\n",
      "Specificity: 0.938\n",
      "Precision: 0.626\n",
      "F1 Score: 0.635\n",
      "\n",
      "Class: 1\n",
      "Recall: 0.934\n",
      "Specificity: 0.954\n",
      "Precision: 0.922\n",
      "F1 Score: 0.928\n",
      "\n"
     ]
    },
    {
     "name": "stderr",
     "output_type": "stream",
     "text": [
      "Note that pos_label (set to -1) is ignored when average != 'binary' (got 'macro'). You may use labels=[pos_label] to specify a single positive class.\n",
      "Note that pos_label (set to -1) is ignored when average != 'binary' (got 'macro'). You may use labels=[pos_label] to specify a single positive class.\n",
      "Note that pos_label (set to -1) is ignored when average != 'binary' (got 'macro'). You may use labels=[pos_label] to specify a single positive class.\n"
     ]
    }
   ],
   "source": [
    "analysis.confusion_matrix('test', labels=y_train_.cat.categories)"
   ]
  },
  {
   "attachments": {},
   "cell_type": "markdown",
   "metadata": {},
   "source": [
    "#### Permutation importance"
   ]
  },
  {
   "cell_type": "code",
   "execution_count": null,
   "metadata": {},
   "outputs": [],
   "source": [
    "analysis.permutation_importance(n_repeats=30)"
   ]
  },
  {
   "attachments": {},
   "cell_type": "markdown",
   "metadata": {},
   "source": [
    "#### SHAP IMPORTANCE"
   ]
  },
  {
   "cell_type": "code",
   "execution_count": 13,
   "metadata": {},
   "outputs": [],
   "source": [
    "xai=Xai()"
   ]
  },
  {
   "cell_type": "code",
   "execution_count": 14,
   "metadata": {},
   "outputs": [],
   "source": [
    "xai.shap_feature_importance(rf_smote,X_train_,y_train_)"
   ]
  }
 ],
 "metadata": {
  "kernelspec": {
   "display_name": "ml",
   "language": "python",
   "name": "python3"
  },
  "language_info": {
   "codemirror_mode": {
    "name": "ipython",
    "version": 3
   },
   "file_extension": ".py",
   "mimetype": "text/x-python",
   "name": "python",
   "nbconvert_exporter": "python",
   "pygments_lexer": "ipython3",
   "version": "3.9.13"
  },
  "orig_nbformat": 4,
  "vscode": {
   "interpreter": {
    "hash": "8bd842eda68fd67fa86b4d135e4acdd092df82bb9788834a047dc10ad84c2344"
   }
  }
 },
 "nbformat": 4,
 "nbformat_minor": 2
}
