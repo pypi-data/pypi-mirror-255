{
    "cells": [
        {
            "cell_type": "markdown",
            "metadata": {},
            "source": [
                "下記のリンクにアクセスしてください。\n",
                "\n",
                "https://colab.research.google.com/github/nitta-lab-polymer/graph-nitta/blob/main/example/raman.ipynb"
            ]
        },
        {
            "cell_type": "code",
            "execution_count": null,
            "metadata": {},
            "outputs": [],
            "source": [
                "# google colab用のセットアップスクリプト\n",
                "!git clone -q https://github.com/nitta-lab-polymer/graph-nitta.git\n",
                "%pip install -qU pandas 2>/dev/null"
            ]
        },
        {
            "cell_type": "code",
            "execution_count": null,
            "metadata": {},
            "outputs": [],
            "source": [
                "%pip install -U graph-nitta"
            ]
        },
        {
            "cell_type": "code",
            "execution_count": null,
            "metadata": {},
            "outputs": [],
            "source": [
                "import pandas as pd\n",
                "\n",
                "df = pd.read_csv(\"./graph-nitta/sample_data/raman.csv\")"
            ]
        },
        {
            "cell_type": "code",
            "execution_count": null,
            "metadata": {},
            "outputs": [],
            "source": [
                "from graph_nitta import make_graph, apply_ax_config, AxConfig, SpineConfig\n",
                "\n",
                "# グラフ作成\n",
                "fig, axes = make_graph()\n",
                "\n",
                "# グラフにデータを追加\n",
                "axes[0].plot(df[df.columns[1]], df[df.columns[2]], label=\"sample1\")\n",
                "\n",
                "# グラフの設定\n",
                "config = AxConfig(\n",
                "    x=SpineConfig(label=df.columns[1], lim=(400, 1600)),\n",
                "    y=SpineConfig(label=df.columns[2], visible=False, lim=(-1000, 15000)),\n",
                ")\n",
                "apply_ax_config(axes[0], config)\n",
                "\n",
                "\n",
                "fig.show()"
            ]
        }
    ],
    "metadata": {
        "kernelspec": {
            "display_name": "Python 3",
            "language": "python",
            "name": "python3"
        },
        "language_info": {
            "codemirror_mode": {
                "name": "ipython",
                "version": 3
            },
            "file_extension": ".py",
            "mimetype": "text/x-python",
            "name": "python",
            "nbconvert_exporter": "python",
            "pygments_lexer": "ipython3",
            "version": "3.12.1"
        }
    },
    "nbformat": 4,
    "nbformat_minor": 2
}
