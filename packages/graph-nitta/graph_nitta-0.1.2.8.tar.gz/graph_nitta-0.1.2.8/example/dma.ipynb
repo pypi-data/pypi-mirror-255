{
    "cells": [
        {
            "cell_type": "markdown",
            "metadata": {},
            "source": [
                "下記のリンクにアクセスしてください。\n",
                "\n",
                "https://colab.research.google.com/github/nitta-lab-polymer/graph-nitta/blob/main/example/dma.ipynb"
            ]
        },
        {
            "cell_type": "code",
            "execution_count": null,
            "metadata": {},
            "outputs": [],
            "source": [
                "# google colab用のセットアップスクリプト\n",
                "!git clone -q https://github.com/nitta-lab-polymer/graph-nitta.git\n",
                "%pip install -qU pandas 2>/dev/null"
            ]
        },
        {
            "cell_type": "code",
            "execution_count": null,
            "metadata": {},
            "outputs": [],
            "source": [
                "%pip install -U graph-nitta"
            ]
        },
        {
            "cell_type": "code",
            "execution_count": null,
            "metadata": {},
            "outputs": [],
            "source": [
                "import pandas as pd\n",
                "\n",
                "df = pd.read_csv(\"./graph-nitta/sample_data/dma.csv\", index_col=0)"
            ]
        },
        {
            "cell_type": "code",
            "execution_count": null,
            "metadata": {},
            "outputs": [],
            "source": [
                "from graph_nitta import (\n",
                "    make_graph,\n",
                "    apply_ax_config,\n",
                "    arrow,\n",
                "    AxConfig,\n",
                "    SpineConfig,\n",
                "    Scale,\n",
                "    LegendLoc,\n",
                ")\n",
                "from matplotlib.axes import Axes\n",
                "\n",
                "# グラフ作成\n",
                "fig, axes = make_graph()\n",
                "ax2: Axes = axes[0].twinx()  # type: ignore\n",
                "axes.append(ax2)\n",
                "del ax2\n",
                "\n",
                "# グラフにデータを追加\n",
                "axes[0].scatter(\n",
                "    df[df.columns[0]], df[df.columns[1]], label=df.columns[1], color=\"black\"\n",
                ")\n",
                "axes[0].scatter(df[df.columns[0]], df[df.columns[2]], label=df.columns[2], color=\"red\")\n",
                "\n",
                "axes[1].scatter(  # type: ignore\n",
                "    df[df.columns[0]], df[df.columns[3]], label=df.columns[3], color=\"blue\"\n",
                ")\n",
                "\n",
                "# Configurations\n",
                "\n",
                "x_config = SpineConfig(label=df.columns[0], lim=(-150, 150), step=50)\n",
                "\n",
                "config_left = AxConfig(\n",
                "    x=x_config,\n",
                "    y=SpineConfig(\n",
                "        label=df.columns[1][:-4] + \" and \" + df.columns[2],\n",
                "        lim=(1e2, 1e10),\n",
                "        scale=Scale.LOG,\n",
                "    ),\n",
                "    is_visible_legend=False,\n",
                ")\n",
                "\n",
                "apply_ax_config(axes[0], config_left)\n",
                "\n",
                "config_right = AxConfig(\n",
                "    x=x_config,\n",
                "    y=SpineConfig(label=df.columns[3], lim=(0, 4), step=1),\n",
                "    is_visible_legend=False,\n",
                ")\n",
                "\n",
                "apply_ax_config(axes[1], config_right)  # type: ignore\n",
                "\n",
                "# アノテーション\n",
                "arrow(axes[0], x=(0.6, 0.4), y=(0.9, 0.9), color=\"black\")\n",
                "arrow(axes[0], x=(0.6, 0.4), y=(0.8, 0.8), color=\"red\")\n",
                "arrow(axes[1], x=(0.4, 0.6), y=(0.4, 0.4), color=\"blue\")\n",
                "\n",
                "fig.legend(bbox_to_anchor=(1, 1), loc=LegendLoc.UPPER_LEFT)"
            ]
        }
    ],
    "metadata": {
        "kernelspec": {
            "display_name": "Python 3",
            "language": "python",
            "name": "python3"
        },
        "language_info": {
            "codemirror_mode": {
                "name": "ipython",
                "version": 3
            },
            "file_extension": ".py",
            "mimetype": "text/x-python",
            "name": "python",
            "nbconvert_exporter": "python",
            "pygments_lexer": "ipython3",
            "version": "3.12.1"
        }
    },
    "nbformat": 4,
    "nbformat_minor": 2
}
