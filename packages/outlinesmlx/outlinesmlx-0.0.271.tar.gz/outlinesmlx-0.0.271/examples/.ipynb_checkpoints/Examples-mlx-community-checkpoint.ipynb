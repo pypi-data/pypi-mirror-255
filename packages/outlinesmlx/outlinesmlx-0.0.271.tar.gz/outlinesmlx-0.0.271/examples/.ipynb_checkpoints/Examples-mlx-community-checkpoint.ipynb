{
 "cells": [
  {
   "cell_type": "markdown",
   "id": "4791713a-e11e-47c8-9c8f-2fc8a0965eec",
   "metadata": {},
   "source": [
    "# Guided generation from a Regex Schema"
   ]
  },
  {
   "cell_type": "code",
   "execution_count": 14,
   "id": "ffc405bd-53cf-4488-a8b3-72d8e3038767",
   "metadata": {
    "tags": []
   },
   "outputs": [
    {
     "data": {
      "application/vnd.jupyter.widget-view+json": {
       "model_id": "e2fb1941ca014b3786d864cfa52d3280",
       "version_major": 2,
       "version_minor": 0
      },
      "text/plain": [
       "Fetching 8 files:   0%|          | 0/8 [00:00<?, ?it/s]"
      ]
     },
     "metadata": {},
     "output_type": "display_data"
    },
    {
     "data": {
      "application/vnd.jupyter.widget-view+json": {
       "model_id": "188de17fa5ac4433a58a8b583b8a7a22",
       "version_major": 2,
       "version_minor": 0
      },
      "text/plain": [
       "added_tokens.json:   0%|          | 0.00/1.08k [00:00<?, ?B/s]"
      ]
     },
     "metadata": {},
     "output_type": "display_data"
    },
    {
     "data": {
      "application/vnd.jupyter.widget-view+json": {
       "model_id": "89e82e9aa7764b37bc39fa47171b7533",
       "version_major": 2,
       "version_minor": 0
      },
      "text/plain": [
       "special_tokens_map.json:   0%|          | 0.00/99.0 [00:00<?, ?B/s]"
      ]
     },
     "metadata": {},
     "output_type": "display_data"
    },
    {
     "data": {
      "application/vnd.jupyter.widget-view+json": {
       "model_id": "eac1fb9ee2fc415e830b0be4ca0861a0",
       "version_major": 2,
       "version_minor": 0
      },
      "text/plain": [
       "config.json:   0%|          | 0.00/2.58k [00:00<?, ?B/s]"
      ]
     },
     "metadata": {},
     "output_type": "display_data"
    },
    {
     "data": {
      "application/vnd.jupyter.widget-view+json": {
       "model_id": "7c2f31d4630444cc92850f80d4cedffc",
       "version_major": 2,
       "version_minor": 0
      },
      "text/plain": [
       "modeling_phi.py:   0%|          | 0.00/62.5k [00:00<?, ?B/s]"
      ]
     },
     "metadata": {},
     "output_type": "display_data"
    },
    {
     "data": {
      "application/vnd.jupyter.widget-view+json": {
       "model_id": "6e25d5228c594470aea1d527f0fe9805",
       "version_major": 2,
       "version_minor": 0
      },
      "text/plain": [
       "tokenizer_config.json:   0%|          | 0.00/7.34k [00:00<?, ?B/s]"
      ]
     },
     "metadata": {},
     "output_type": "display_data"
    },
    {
     "data": {
      "application/vnd.jupyter.widget-view+json": {
       "model_id": "c8a3aecdd4744d648ba93aba4228dc6f",
       "version_major": 2,
       "version_minor": 0
      },
      "text/plain": [
       "configuration_phi.py:   0%|          | 0.00/9.26k [00:00<?, ?B/s]"
      ]
     },
     "metadata": {},
     "output_type": "display_data"
    },
    {
     "data": {
      "application/vnd.jupyter.widget-view+json": {
       "model_id": "b23969a62ff34ecba7c5c10a39c88bf7",
       "version_major": 2,
       "version_minor": 0
      },
      "text/plain": [
       "tokenizer.json:   0%|          | 0.00/2.11M [00:00<?, ?B/s]"
      ]
     },
     "metadata": {},
     "output_type": "display_data"
    },
    {
     "data": {
      "application/vnd.jupyter.widget-view+json": {
       "model_id": "de02505c83394b28939e390db42e3c59",
       "version_major": 2,
       "version_minor": 0
      },
      "text/plain": [
       "weights.00.safetensors:   0%|          | 0.00/1.75G [00:00<?, ?B/s]"
      ]
     },
     "metadata": {},
     "output_type": "display_data"
    },
    {
     "name": "stderr",
     "output_type": "stream",
     "text": [
      "Special tokens have been added in the vocabulary, make sure the associated word embeddings are fine-tuned or trained.\n"
     ]
    },
    {
     "name": "stdout",
     "output_type": "stream",
     "text": [
      "Prompt:  What is the IP address of the Google DNS servers? \n",
      "\n",
      " Result, unguided: \n",
      " \n",
      "Answer: achieveip.com\n",
      "\n",
      "Exercise: \n",
      "How can JavaScript cause problems with the picture? \n",
      "Answer: JavaScript can change\n",
      "\n",
      " Result, guided: \n",
      " 14.70.0.3\n"
     ]
    }
   ],
   "source": [
    "import outlinesmlx as outlines\n",
    "\n",
    "#model = outlines.models.mlx(\"TinyLlama/TinyLlama-1.1B-Chat-v0.6\")\n",
    "model = outlines.models.mlx(\"mlx-community/Mistral-7B-Instruct-v0.1-4bit-mlx\")\n",
    "model = outlines.models.mlx(\"mlx-community/phi-2-hf-4bit-mlx\")\n",
    "\n",
    "\n",
    "prompt = \"What is the IP address of the Google DNS servers? \"\n",
    "\n",
    "generator = outlines.generate.text(model)\n",
    "unguided = generator(prompt, max_tokens=30)\n",
    "\n",
    "generator = outlines.generate.regex(\n",
    "    model,\n",
    "    r\"((25[0-5]|2[0-4]\\d|[01]?\\d\\d?)\\.){3}(25[0-5]|2[0-4]\\d|[01]?\\d\\d?)\",\n",
    ")\n",
    "guided = generator(prompt, max_tokens=30)\n",
    "\n",
    "print(\"Prompt: \",prompt)\n",
    "\n",
    "print(\"\\n Result, unguided: \\n\",unguided)\n",
    "# What is the IP address of the Google DNS servers?\n",
    "#\n",
    "# Passive DNS servers are at DNS servers that are private.\n",
    "# In other words, both IP servers are private. The database\n",
    "# does not contain Chelsea Manning\n",
    "\n",
    "print(\"\\n Result, guided: \\n\",guided)\n",
    "# What is the IP address of the Google DNS servers?\n",
    "# 2.2.6.1"
   ]
  },
  {
   "cell_type": "markdown",
   "id": "c6c38c5b-7073-40d1-9fb7-f2e7eec7de2d",
   "metadata": {},
   "source": [
    "# Guided generation from a Pydantic Model"
   ]
  },
  {
   "cell_type": "code",
   "execution_count": 16,
   "id": "305a9477-d265-4bb7-ba21-ce3aeb340ee9",
   "metadata": {
    "tags": []
   },
   "outputs": [
    {
     "name": "stdout",
     "output_type": "stream",
     "text": [
      "Character(name='Bob', age=25, armor=<Armor.chainmail: 'chainmail'>, weapon=<Weapon.sword: 'sword'>, strength=100)\n",
      "Character(name='nickjones', age=26, armor=<Armor.chainmail: 'chainmail'>, weapon=<Weapon.mace: 'mace'>, strength=26)\n"
     ]
    }
   ],
   "source": [
    "import outlinesmlx as outlines\n",
    "from enum import Enum\n",
    "from pydantic import BaseModel, constr\n",
    "\n",
    "\n",
    "class Weapon(str, Enum):\n",
    "    sword = \"sword\"\n",
    "    axe = \"axe\"\n",
    "    mace = \"mace\"\n",
    "    spear = \"spear\"\n",
    "    bow = \"bow\"\n",
    "    crossbow = \"crossbow\"\n",
    "\n",
    "\n",
    "class Armor(str, Enum):\n",
    "    leather = \"leather\"\n",
    "    chainmail = \"chainmail\"\n",
    "    plate = \"plate\"\n",
    "\n",
    "\n",
    "class Character(BaseModel):\n",
    "    name: constr(max_length=10)\n",
    "    age: int\n",
    "    armor: Armor\n",
    "    weapon: Weapon\n",
    "    strength: int\n",
    "\n",
    "#model = outlines.models.mlx(\"mlx-community/Mistral-7B-Instruct-v0.1-4bit-mlx\")\n",
    "# Construct guided sequence generator\n",
    "generator = outlines.generate.json(model, Character)\n",
    "\n",
    "# Draw a sample\n",
    "character = generator(\"Give me a character description\")\n",
    "\n",
    "print(repr(character))\n",
    "\n",
    "character = generator(\"Give me an interesting character description\")\n",
    "\n",
    "print(repr(character))"
   ]
  },
  {
   "cell_type": "markdown",
   "id": "c8dd6ab0-7a31-4710-a9f5-b11cab693eb2",
   "metadata": {},
   "source": [
    "# Context free grammars"
   ]
  },
  {
   "cell_type": "code",
   "execution_count": 20,
   "id": "68a6735a-bd2e-4b2e-91ae-7a892ddd3b13",
   "metadata": {
    "tags": []
   },
   "outputs": [
    {
     "name": "stdout",
     "output_type": "stream",
     "text": [
      "3/4*4.4/2.52/0.8234/234.465625624746/132463213645\n"
     ]
    }
   ],
   "source": [
    "import outlinesmlx as outlines\n",
    "\n",
    "arithmetic_grammar = \"\"\"\n",
    "    ?start: expression\n",
    "\n",
    "    ?expression: term ((\"+\" | \"-\") term)*\n",
    "\n",
    "    ?term: factor ((\"*\" | \"/\") factor)*\n",
    "\n",
    "    ?factor: NUMBER\n",
    "           | \"-\" factor\n",
    "           | \"(\" expression \")\"\n",
    "\n",
    "    %import common.NUMBER\n",
    "\"\"\"\n",
    "\n",
    "#model = outlines.models.mlx(\"mlx-community/Mistral-7B-Instruct-v0.1-4bit-mlx\")\n",
    "generator = outlines.generate.cfg(model, arithmetic_grammar)\n",
    "sequence = generator(\"Alice had 4 apples and Bob ate 2. Write an expression for Alice's apples:\", max_tokens=30)\n",
    "\n",
    "print(sequence)"
   ]
  },
  {
   "cell_type": "markdown",
   "id": "ff3412d8-1a94-49af-adb7-8c32958b4bdc",
   "metadata": {},
   "source": [
    "# Open Functions"
   ]
  },
  {
   "cell_type": "code",
   "execution_count": 19,
   "id": "597d8570-18b1-41c5-9418-bc6135481e41",
   "metadata": {
    "tags": []
   },
   "outputs": [
    {
     "name": "stdout",
     "output_type": "stream",
     "text": [
      "result: {'a': 1, 'b': 2}\n",
      "3\n"
     ]
    }
   ],
   "source": [
    "import outlinesmlx as outlines\n",
    "\n",
    "\n",
    "def add(a: int, b: int):\n",
    "    return a + b\n",
    "\n",
    "#model = outlines.models.mlx(\"TinyLlama/TinyLlama-1.1B-Chat-v0.6\")\n",
    "#model = outlines.models.mlx(\"mlx-community/Mistral-7B-Instruct-v0.1-4bit-mlx\")\n",
    "generator = outlines.generate.json(model, add)\n",
    "result = generator(\"Return json with two integers named a and b respectively. a is odd and b even.\")\n",
    "\n",
    "print(\"result:\",result)\n",
    "print(add(**result))\n"
   ]
  },
  {
   "cell_type": "code",
   "execution_count": null,
   "id": "92bdfdb4-bec8-42df-b816-7ad3ff06a44f",
   "metadata": {},
   "outputs": [],
   "source": []
  }
 ],
 "metadata": {
  "kernelspec": {
   "display_name": "Python 3 (ipykernel)",
   "language": "python",
   "name": "python3"
  },
  "language_info": {
   "codemirror_mode": {
    "name": "ipython",
    "version": 3
   },
   "file_extension": ".py",
   "mimetype": "text/x-python",
   "name": "python",
   "nbconvert_exporter": "python",
   "pygments_lexer": "ipython3",
   "version": "3.11.4"
  }
 },
 "nbformat": 4,
 "nbformat_minor": 5
}
