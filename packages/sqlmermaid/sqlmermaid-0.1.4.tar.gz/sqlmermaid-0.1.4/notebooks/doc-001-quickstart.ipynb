{
 "cells": [
  {
   "cell_type": "markdown",
   "id": "f241f38f",
   "metadata": {},
   "source": [
    "# Quickstart"
   ]
  },
  {
   "cell_type": "code",
   "execution_count": 1,
   "id": "optimum-trinidad",
   "metadata": {},
   "outputs": [],
   "source": [
    "from pathlib import Path\n",
    "\n",
    "import sqlalchemy as sa\n",
    "\n",
    "from sqlmermaid import get_mermaid, to_file\n",
    "\n",
    "\n",
    "metadata_obj = sa.MetaData()"
   ]
  },
  {
   "cell_type": "code",
   "execution_count": 2,
   "id": "raised-castle",
   "metadata": {},
   "outputs": [],
   "source": [
    "user = sa.Table(\n",
    "    \"user\",\n",
    "    metadata_obj,\n",
    "    sa.Column(\"user_id\", sa.Integer, primary_key=True),\n",
    "    sa.Column(\"user_name\", sa.String(16), nullable=False),\n",
    "    sa.Column(\"email_address\", sa.String(60)),\n",
    "    sa.Column(\"nickname\", sa.String(50), nullable=False),\n",
    ")"
   ]
  },
  {
   "cell_type": "code",
   "execution_count": 3,
   "id": "joint-lying",
   "metadata": {},
   "outputs": [],
   "source": [
    "departments = sa.Table(\n",
    "    \"departments\",\n",
    "    metadata_obj,\n",
    "    sa.Column(\"department_id\", sa.Integer, primary_key=True),\n",
    "    sa.Column(\"department_name\", sa.String(60), nullable=False),\n",
    ")"
   ]
  },
  {
   "cell_type": "code",
   "execution_count": 4,
   "id": "southern-princeton",
   "metadata": {},
   "outputs": [],
   "source": [
    "employees = sa.Table(\n",
    "    \"employees\",\n",
    "    metadata_obj,\n",
    "    sa.Column(\"employee_id\", sa.Integer, primary_key=True),\n",
    "    sa.Column(\"employee_name\", sa.String(60), nullable=False),\n",
    "    sa.Column(\"employee_dept\", sa.Integer, sa.ForeignKey(\"departments.department_id\")),\n",
    ")"
   ]
  },
  {
   "cell_type": "code",
   "execution_count": 5,
   "id": "pursuant-thousand",
   "metadata": {},
   "outputs": [],
   "source": [
    "user_complaints = sa.Table(\n",
    "    \"complaints\",\n",
    "    metadata_obj,\n",
    "    sa.Column(\"about_dept\", sa.Integer, sa.ForeignKey(\"departments.department_id\")),\n",
    "    sa.Column(\"by_user\", sa.Integer, sa.ForeignKey(\"user.user_id\")),\n",
    "    sa.Column(\"at_time\", sa.DateTime),\n",
    "    sa.Column(\"text\", sa.String(500)),\n",
    "    sa.Index(\"comp_ind\", \"text\"),\n",
    ")"
   ]
  },
  {
   "cell_type": "code",
   "execution_count": 6,
   "id": "tired-smell",
   "metadata": {},
   "outputs": [],
   "source": [
    "db_file = Path(\"db.sqlite\")\n",
    "constr = f\"sqlite:///{db_file}\"\n",
    "engine = sa.create_engine(constr)\n",
    "metadata_obj.create_all(engine)\n",
    "\n",
    "# generates the raw mermaid string\n",
    "mermaid_str = get_mermaid(constr)"
   ]
  },
  {
   "cell_type": "code",
   "execution_count": 7,
   "id": "7f6a7d89",
   "metadata": {},
   "outputs": [],
   "source": [
    "to_file(constr, \"erd.md\")"
   ]
  },
  {
   "cell_type": "code",
   "execution_count": 8,
   "id": "83064aa7",
   "metadata": {},
   "outputs": [],
   "source": [
    "db_file.unlink()\n",
    "Path(\"erd.md\").unlink()"
   ]
  }
 ],
 "metadata": {
  "kernelspec": {
   "display_name": "Python 3 (ipykernel)",
   "language": "python",
   "name": "python3"
  },
  "language_info": {
   "codemirror_mode": {
    "name": "ipython",
    "version": 3
   },
   "file_extension": ".py",
   "mimetype": "text/x-python",
   "name": "python",
   "nbconvert_exporter": "python",
   "pygments_lexer": "ipython3",
   "version": "3.8.10"
  }
 },
 "nbformat": 4,
 "nbformat_minor": 5
}
