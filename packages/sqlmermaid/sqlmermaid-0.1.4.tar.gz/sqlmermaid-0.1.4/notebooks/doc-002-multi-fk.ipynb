{
 "cells": [
  {
   "cell_type": "markdown",
   "id": "f241f38f",
   "metadata": {},
   "source": [
    "# Multiple Foreign Keys"
   ]
  },
  {
   "cell_type": "code",
   "execution_count": 1,
   "id": "fundamental-tennis",
   "metadata": {},
   "outputs": [],
   "source": [
    "from pathlib import Path\n",
    "\n",
    "import sqlalchemy as sa\n",
    "\n",
    "from sqlmermaid import get_mermaid, open_in_browser"
   ]
  },
  {
   "cell_type": "code",
   "execution_count": 2,
   "id": "optimum-trinidad",
   "metadata": {},
   "outputs": [],
   "source": [
    "metadata_obj = sa.MetaData()"
   ]
  },
  {
   "cell_type": "code",
   "execution_count": 3,
   "id": "raised-castle",
   "metadata": {},
   "outputs": [],
   "source": [
    "user = sa.Table(\n",
    "    \"user\",\n",
    "    metadata_obj,\n",
    "    sa.Column(\"user_name\", sa.String(16), primary_key=True),\n",
    "    sa.Column(\"email_address\", sa.String(60), primary_key=True),\n",
    "    sa.Column(\"nickname\", sa.String(50), nullable=False),\n",
    ")"
   ]
  },
  {
   "cell_type": "code",
   "execution_count": 4,
   "id": "missing-abuse",
   "metadata": {},
   "outputs": [],
   "source": [
    "user_buddy = sa.Table(\n",
    "    \"other\",\n",
    "    metadata_obj,\n",
    "    sa.Column(\"num\", sa.Integer),\n",
    "    sa.Column(\"buddy_name\", sa.String, sa.ForeignKey(\"user.user_name\")),\n",
    "    sa.Column(\"buddy_email\", sa.String, sa.ForeignKey(\"user.email_address\")),\n",
    ")"
   ]
  },
  {
   "cell_type": "code",
   "execution_count": 5,
   "id": "tired-smell",
   "metadata": {},
   "outputs": [],
   "source": [
    "db_file = Path(\"db2.sqlite\")\n",
    "constr = f\"sqlite:///{db_file}\"\n",
    "engine = sa.create_engine(constr)\n",
    "metadata_obj.create_all(engine)\n",
    "\n",
    "# generates the raw mermaid string\n",
    "mermaid_str = get_mermaid(constr)"
   ]
  },
  {
   "cell_type": "code",
   "execution_count": 6,
   "id": "sunrise-adaptation",
   "metadata": {},
   "outputs": [],
   "source": [
    "# open_in_browser(constr)"
   ]
  },
  {
   "cell_type": "code",
   "execution_count": 8,
   "id": "83064aa7",
   "metadata": {},
   "outputs": [],
   "source": [
    "db_file.unlink()"
   ]
  }
 ],
 "metadata": {
  "kernelspec": {
   "display_name": "Python 3",
   "language": "python",
   "name": "python3"
  },
  "language_info": {
   "codemirror_mode": {
    "name": "ipython",
    "version": 3
   },
   "file_extension": ".py",
   "mimetype": "text/x-python",
   "name": "python",
   "nbconvert_exporter": "python",
   "pygments_lexer": "ipython3",
   "version": "3.8.10"
  }
 },
 "nbformat": 4,
 "nbformat_minor": 5
}
