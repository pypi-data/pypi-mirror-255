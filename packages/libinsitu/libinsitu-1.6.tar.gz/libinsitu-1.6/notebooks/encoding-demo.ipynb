{
 "cells": [
  {
   "cell_type": "markdown",
   "id": "e4961573",
   "metadata": {},
   "source": [
    "# Encoding Excel data with *libinsitu*\n",
    "\n",
    "This notebook demonstrates how to encode Excel data to NetCDF data following [in-situ standards](https://libinsitu.readthedocs.io/en/latest/conventions.html).\n",
    "\n",
    "In this example, we take meteorogical data of [CAR-NASRDA](https://carnasrda.com/) : National Space Research and Development Agency of **Nigeria**\n",
    "\n",
    "<p style=\"background-color:yellow\">\n",
    "Cells starting with a \"!\" are CLI commands (are run from a system shell).\n",
    "Other cells are Python code.\n",
    "</p> "
   ]
  },
  {
   "cell_type": "code",
   "execution_count": 2,
   "id": "1e7fa236",
   "metadata": {
    "ExecuteTime": {
     "end_time": "2024-02-07T11:55:55.082942847Z",
     "start_time": "2024-02-07T11:55:53.608540266Z"
    }
   },
   "outputs": [],
   "source": [
    "# Imports\n",
    "import xarray as xr\n",
    "import matplotlib.pyplot as plt\n",
    "import pandas as pd"
   ]
  },
  {
   "cell_type": "markdown",
   "id": "9be1bf7d",
   "metadata": {},
   "source": [
    "# Explore data\n",
    "\n",
    "Let see what's in this Excel file"
   ]
  },
  {
   "cell_type": "code",
   "execution_count": 3,
   "id": "cab9b30c",
   "metadata": {
    "ExecuteTime": {
     "end_time": "2024-02-07T11:55:56.650241675Z",
     "start_time": "2024-02-07T11:55:56.603099603Z"
    }
   },
   "outputs": [
    {
     "data": {
      "text/plain": "                      0                 1\n0                  TOA5  CPU:5MinProg.CR1\n1             TIMESTAMP         AirTC_Avg\n2                    TS             Deg C\n3                   NaN               Avg\n4                   NaN               NaN\n5   2008-08-01 00:05:00             24.68\n6   2008-08-01 00:10:00             24.64\n7   2008-08-01 00:15:00             24.59\n8   2008-08-01 00:20:00             24.53\n9   2008-08-01 00:25:00             24.44\n10  2008-08-01 00:30:00             24.26\n11  2008-08-01 00:35:00              24.1\n12  2008-08-01 00:40:00                24\n13  2008-08-01 00:45:00             23.97\n14  2008-08-01 00:50:00             23.93",
      "text/html": "<div>\n<style scoped>\n    .dataframe tbody tr th:only-of-type {\n        vertical-align: middle;\n    }\n\n    .dataframe tbody tr th {\n        vertical-align: top;\n    }\n\n    .dataframe thead th {\n        text-align: right;\n    }\n</style>\n<table border=\"1\" class=\"dataframe\">\n  <thead>\n    <tr style=\"text-align: right;\">\n      <th></th>\n      <th>0</th>\n      <th>1</th>\n    </tr>\n  </thead>\n  <tbody>\n    <tr>\n      <th>0</th>\n      <td>TOA5</td>\n      <td>CPU:5MinProg.CR1</td>\n    </tr>\n    <tr>\n      <th>1</th>\n      <td>TIMESTAMP</td>\n      <td>AirTC_Avg</td>\n    </tr>\n    <tr>\n      <th>2</th>\n      <td>TS</td>\n      <td>Deg C</td>\n    </tr>\n    <tr>\n      <th>3</th>\n      <td>NaN</td>\n      <td>Avg</td>\n    </tr>\n    <tr>\n      <th>4</th>\n      <td>NaN</td>\n      <td>NaN</td>\n    </tr>\n    <tr>\n      <th>5</th>\n      <td>2008-08-01 00:05:00</td>\n      <td>24.68</td>\n    </tr>\n    <tr>\n      <th>6</th>\n      <td>2008-08-01 00:10:00</td>\n      <td>24.64</td>\n    </tr>\n    <tr>\n      <th>7</th>\n      <td>2008-08-01 00:15:00</td>\n      <td>24.59</td>\n    </tr>\n    <tr>\n      <th>8</th>\n      <td>2008-08-01 00:20:00</td>\n      <td>24.53</td>\n    </tr>\n    <tr>\n      <th>9</th>\n      <td>2008-08-01 00:25:00</td>\n      <td>24.44</td>\n    </tr>\n    <tr>\n      <th>10</th>\n      <td>2008-08-01 00:30:00</td>\n      <td>24.26</td>\n    </tr>\n    <tr>\n      <th>11</th>\n      <td>2008-08-01 00:35:00</td>\n      <td>24.1</td>\n    </tr>\n    <tr>\n      <th>12</th>\n      <td>2008-08-01 00:40:00</td>\n      <td>24</td>\n    </tr>\n    <tr>\n      <th>13</th>\n      <td>2008-08-01 00:45:00</td>\n      <td>23.97</td>\n    </tr>\n    <tr>\n      <th>14</th>\n      <td>2008-08-01 00:50:00</td>\n      <td>23.93</td>\n    </tr>\n  </tbody>\n</table>\n</div>"
     },
     "execution_count": 3,
     "metadata": {},
     "output_type": "execute_result"
    }
   ],
   "source": [
    "df = pd.read_excel(\"data/abuja-air-2008-08-01.xls\", header=None)\n",
    "df.head(15)"
   ]
  },
  {
   "cell_type": "markdown",
   "id": "41a74526",
   "metadata": {},
   "source": [
    "This file contains only timestamp & air temperature.\n",
    "\n",
    "Column names are in line 2.\n",
    "\n",
    "Line 1 and 3, 4, 5 should be skipped."
   ]
  },
  {
   "cell_type": "markdown",
   "id": "6bea0eef",
   "metadata": {
    "ExecuteTime": {
     "end_time": "2023-06-12T15:24:32.760006Z",
     "start_time": "2023-06-12T15:24:32.749648Z"
    }
   },
   "source": [
    "# Prepare config files\n",
    "\n",
    "The folder [config](./config) contains config files that will be useful for the transformation :\n",
    "\n",
    " * **schema.cdl** : A custom NetCDF schema\n",
    " * **station.csv** : Station meta data\n",
    " * **mapping.json** : A config file for mapping Excel column of the source file to NetCDF variables\n",
    "\n",
    "## schema.cdl : NetCDF  schema (Common Data Langage)\n",
    "\n",
    "A CDL schema defines the structure (dimensions), variables and metadata of a NetCDF file. \n",
    "\n",
    "`libinsitu` comes with an embedded default [NetCDF Shema (CDL file)](https://git.sophia.mines-paristech.fr/oie/libinsitu/-/blob/main/libinsitu/res/base.cdl?ref_type=heads). It is well suited or solar irradiance data but not so much for our example. We can (and will) use a custom schema for this example.\n",
    "\n",
    "This schema should respect our [proposed convention](https://libinsitu.readthedocs.io/en/latest/conventions.html). in particular :\n",
    "* The meta data in this schema should be organized following [CF conventions](http://cfconventions.org/).\n",
    "* There should be a unique time dimension, expressed as seconds since epoch, in UTC\n",
    "* Variables names should be searched in [CF standard names](http://cfconventions.org/Data/cf-standard-names/current/build/cf-standard-name-table.html) and named accordingly.\n",
    "* Global attributes should follow [ACDD](https://wiki.esipfed.org/Attribute_Convention_for_Data_Discovery_1-3) (Attribute Convention for Data Discovery)\n",
    "\n",
    "For each station, the placeholders `{Station_<Param>}` will be replaced by the values found in `stations.csv`"
   ]
  },
  {
   "cell_type": "code",
   "execution_count": 4,
   "id": "42bf5176",
   "metadata": {
    "scrolled": false,
    "ExecuteTime": {
     "end_time": "2024-02-07T11:55:59.309976453Z",
     "start_time": "2024-02-07T11:55:59.189863604Z"
    }
   },
   "outputs": [
    {
     "name": "stdout",
     "output_type": "stream",
     "text": [
      "netcdf base {\r\n",
      "\r\n",
      "    dimensions:\r\n",
      "        time = UNLIMITED ; # Main dimension\r\n",
      "\r\n",
      "    variables:\r\n",
      "\r\n",
      "        # --------------------------------------\r\n",
      "        # Static scalar values\r\n",
      "        # --------------------------------------\r\n",
      "\r\n",
      "        # Station name, filled from metadata\r\n",
      "        string station_name;\r\n",
      "            *:standard_name = \"platform_name\" ;\r\n",
      "            *:long_name = \"station_name\" ;\r\n",
      "            *:cf_role = \"timeseries_id\" ;\r\n",
      "            *:_value = {!Station_ID};\r\n",
      "\r\n",
      "        # Latitude, static scalar value filled from metadata\r\n",
      "        float latitude;\r\n",
      "            *:long_name = \"station latitude\" ;\r\n",
      "            *:standard_name = \"latitude\" ;\r\n",
      "            *:units = \"degrees_north\" ;\r\n",
      "            *:_value = {!Station_Latitude};\r\n",
      "            *:_CoordinateAxisType = \"Lat\" ;\r\n",
      "            *:axis = \"Y\" ;\r\n",
      "\r\n",
      "        # Longitude, static scalar value filled from metadata\r\n",
      "        float longitude;\r\n",
      "            *:long_name = \"station longitude\" ;\r\n",
      "            *:standard_name = \"longitude\" ;\r\n",
      "            *:units = \"degrees_east\" ;\r\n",
      "            *:_CoordinateAxisType = \"Lon\" ;\r\n",
      "            *:_value = {!Station_Longitude};\r\n",
      "            *:axis = \"X\" ;\r\n",
      "\r\n",
      "        # Elevation, static scalar value filled from metadata\r\n",
      "        float elevation;\r\n",
      "            *:long_name = \"Elevation above mean seal level\" ;\r\n",
      "            *:standard_name = \"height_above_mean_sea_level\" ;\r\n",
      "            *:_CoordinateAxisType = \"Z\";\r\n",
      "            *:_value = {!Station_Elevation};\r\n",
      "            *:units = \"m\";\r\n",
      "            *:axis = \"Z\";\r\n",
      "\r\n",
      "        # Projection : static values.for  WGS 84/EPSG:4326\r\n",
      "        # Required by some GIS software\r\n",
      "        double crs;\r\n",
      "            *:grid_mapping_name = \"latitude_longitude\" ;\r\n",
      "            *:longitude_of_prime_meridian = 0.0 ;\r\n",
      "            *:semi_major_axis = 6378137.0 ;\r\n",
      "            *:inverse_flattening = 298.257223563 ;\r\n",
      "            *:epsg_code = \"EPSG:4326\";\r\n",
      "            *:_FillValue = -999.0;\r\n",
      "\r\n",
      "        # --------------------------------------\r\n",
      "        # Time series variables\r\n",
      "        # --------------------------------------\r\n",
      "\r\n",
      "        # Time variable, in seconds since epoch\r\n",
      "        uint time(time) ;\r\n",
      "            *:long_name = \"Time of measurement\" ;\r\n",
      "            *:standard_name = \"time\" ;\r\n",
      "            *:units = \"seconds since 1970-01-01 00:00:00\";\r\n",
      "            *:time_origin = \"1970-01-01 00:00:00\" ;\r\n",
      "            *:time_zone= \"UTC\"\r\n",
      "            *:abbreviation = \"Date/Time\" ;\r\n",
      "            *:_CoordinateAxisType = \"Time\" ;\r\n",
      "            *:axis = \"T\" ;\r\n",
      "            *:calendar = \"gregorian\" ;\r\n",
      "\r\n",
      "        # Temperatures\r\n",
      "        float temperature(time) ;\r\n",
      "            *:long_name = \"Air temperature at 2 m height\" ;\r\n",
      "            *:standard_name = \"air_temperature\" ;\r\n",
      "            *:coordinates = \"time latitude longitude elevation \"\r\n",
      "            *:abbreviation = \"temp\" ;\r\n",
      "            *:units = \"K\" ;\r\n",
      "            *:grid_mapping = \"crs\" ;\r\n",
      "            *:least_significant_digit=1;\r\n",
      "            *:_FillValue = -999.0;\r\n",
      "\r\n",
      "    # -------------------\r\n",
      "    # Global attributes\r\n",
      "    # -------------------\r\n",
      "        # Main info\r\n",
      "        :id = \"CARNASRDA-{Station_ID}\";\r\n",
      "        :title = \"Timeseries of CARNASRDA. Station : {Station_Name}\";\r\n",
      "        :summary = \"Test dataset for encoding data of carnasrda\" ;\r\n",
      "        :keywords = \"meteorology, station, time, Earth Science > Atmosphere > Atmospheric Radiation > Incoming Solar Radiation, Earth Science > Atmosphere > Atmospheric Temperature > Surface Temperature > Air Temperature, Earth Science > Atmosphere > Atmospheric Pressure > Sea Level Pressure\"\r\n",
      "        :keywords_vocabulary = \"GCMD Science Keywords\" ;\r\n",
      "        :keywords_vocabulary_url = \"https://gcmd.earthdata.nasa.gov/static/kms/\" ;\r\n",
      "        :record = \"Basic measurements (air temperature)\" ;\r\n",
      "        :featureType = \"timeSeries\" ;\r\n",
      "        :cdm_data_type = \"timeSeries\";\r\n",
      "        :product_version = \"libinsitu {Version}\"\r\n",
      "\r\n",
      "        # Conventions\r\n",
      "        :Conventions = \"CF-1.10 ACDD-1.3\";\r\n",
      "\r\n",
      "        # Publisher [ACDD1.3]\r\n",
      "        :publisher_name = \"Your name\";\r\n",
      "        :publisher_email = \"publisher@email\";\r\n",
      "        :publisher_url = \"https://your-website/\" ;\r\n",
      "        :publisher_institution = \"Name of institution\"\r\n",
      "\r\n",
      "        # Creator info [ACDD1.3]\r\n",
      "        :creator_name =  \"carnasrda\" ;\r\n",
      "        :institution =  \"carnasrda\" ;\r\n",
      "        :metadata_link =  \"{Station_Url}\";\r\n",
      "        :creator_email = \"carnasrdaa@gmail.com\";\r\n",
      "        :creator_url = \"https://carnasrda.com\" ;\r\n",
      "\r\n",
      "        # Station info & coordinates [ACDD1.3]\r\n",
      "        :platform = \"{Station_Name}\" ; # Should be a long / full name\r\n",
      "        :geospatial_lat_min = {Station_Latitude} ;\r\n",
      "        :geospatial_lon_min = {Station_Longitude} ;\r\n",
      "        :geospatial_lat_max = {Station_Latitude} ;\r\n",
      "        :geospatial_lon_max = {Station_Longitude} ;\r\n",
      "        :geospatial_vertical_min = {Station_Elevation};\r\n",
      "        :geospatial_vertical_max = {Station_Elevation};\r\n",
      "        :geospatial_bounds = \"POINT({Station_Latitude} {Station_Longitude})\";\r\n",
      "        :geospatial_bounds_crs = \"EPSG:4326\";\r\n",
      "\r\n",
      "        # Time information\r\n",
      "        :time_coverage_start = \"{!Station_StartDate}T00:00:00\" ;  # First data [Dataset Discovery v1.0]\r\n",
      "        :time_coverage_end = \"{LastData}\";  # Last data [Dataset Discovery v1.0]\r\n",
      "        :time_coverage_resolution = \"PT{!Station_TimeResolution}\"; # Resolution in  ISO 8601:2004 duration format [Dataset Discovery v1.0]\r\n",
      "        :date_created = \"{CreationTime}\";\r\n",
      "        :date_modified = \"{UpdateTime}\";\r\n",
      "\r\n",
      "        #\r\n",
      "        # -- Additional metadata (custom to insitu)\r\n",
      "        #\r\n",
      "\r\n",
      "        # IDs\r\n",
      "        :network_id = \"CARNASRDA\"; # Short ID\r\n",
      "        :station_id = \"{Station_ID}\"; # Short ID\r\n",
      "\r\n",
      "\r\n",
      "}\r\n"
     ]
    }
   ],
   "source": [
    "# Here is the content of our custom schema :\n",
    "# It contains a some variables with no dimensions (station_name, latitude, longitude, elevation)\n",
    "# It has a unique dimension 'time' and two varaibles along it : \n",
    "# The time itself (as seconds since epoch) and the temprature (in kelvin)\n",
    "\n",
    "!cat data/config/schema.cdl"
   ]
  },
  {
   "cell_type": "markdown",
   "id": "c8781be1",
   "metadata": {
    "ExecuteTime": {
     "end_time": "2023-06-12T15:25:06.144984Z",
     "start_time": "2023-06-12T15:25:06.139852Z"
    }
   },
   "source": [
    "## Station meta data \n",
    "\n",
    "The meta data of your network should be gathered in a separate CSV file.\n",
    "It should contain at least the following columns\n",
    "* **ID** : Short unique ID \n",
    "* **Name** : full name\n",
    "* **TimeResolution** : Resolution of data, following [ISO8601 (time intervals)](https://en.wikipedia.org/wiki/ISO_8601#Time_intervals)\n",
    "* **Latitude**, **Longitude** : GPS coordinates\n",
    "* **Elevation**: Station altitude in meters\n",
    "* **StartDate** : First data of available data\n",
    "* **Timezone** : Time zone of the source file - used to transform to UTC\n",
    "\n",
    "You can add any other column and use it in the *schema* as `{Station_<Column>}`. \n"
   ]
  },
  {
   "cell_type": "code",
   "execution_count": 5,
   "id": "e6bedd15",
   "metadata": {
    "ExecuteTime": {
     "end_time": "2024-02-07T11:56:00.294137223Z",
     "start_time": "2024-02-07T11:56:00.264387966Z"
    }
   },
   "outputs": [
    {
     "data": {
      "text/plain": "             Name   ID   Latitude  Longitude  Elevation TimeResolution  \\\n0           Abuja  ABJ   9.066700   7.483300        536             5M   \n1         Akungba  AKB   6.984833   5.597842        175             5M   \n2           Akure  AKR   6.964125   4.604775        131             5M   \n3         Anyigba  ANY   7.298861   6.829728        420             5M   \n4          Bauchi  BAU  10.036086   9.693964        575             5M   \n5           Enugu  ENG   6.857817   7.407819        359             5M   \n6             Jos  JOS  10.700000   8.963858        981             5M   \n7           Lagos  LAG   6.434389   3.322639          7             5M   \n8           Lapai  LAP   9.059333   6.829728        242             5M   \n9        Markurdi  MKD   7.373553   8.811881        140             5M   \n10          Minna  MIN   9.572394   6.422447        223             5M   \n11         Nsukka  NPS   6.857817   7.407819        359             5M   \n12         Nsukka  NSK   6.857817   7.407819        359             5M   \n13       Ogbomoso  OGM   6.770808   3.429056         78             5M   \n14  Port Harcourt  PTH   4.784836   6.991839         20             5M   \n15     Redeemer's  RDM   6.874108   3.543475         88             5M   \n16         Sokoto  SOK  13.130525   5.315022        302             5M   \n17           Yola  YOL   9.292661  12.390747        260             5M   \n\n     StartDate   Timezone  \n0   2008-07-30  UTC+01:00  \n1   2008-07-30  UTC+01:00  \n2   2008-07-30  UTC+01:00  \n3   2008-07-30  UTC+01:00  \n4   2008-07-30  UTC+01:00  \n5   2008-07-30  UTC+01:00  \n6   2008-07-30  UTC+01:00  \n7   2008-07-30  UTC+01:00  \n8   2008-07-30  UTC+01:00  \n9   2008-07-30  UTC+01:00  \n10  2008-07-30  UTC+01:00  \n11  2008-07-30  UTC+01:00  \n12  2008-07-30  UTC+01:00  \n13  2008-07-30  UTC+01:00  \n14  2008-07-30  UTC+01:00  \n15  2008-07-30  UTC+01:00  \n16  2008-07-30  UTC+01:00  \n17  2008-07-30  UTC+01:00  ",
      "text/html": "<div>\n<style scoped>\n    .dataframe tbody tr th:only-of-type {\n        vertical-align: middle;\n    }\n\n    .dataframe tbody tr th {\n        vertical-align: top;\n    }\n\n    .dataframe thead th {\n        text-align: right;\n    }\n</style>\n<table border=\"1\" class=\"dataframe\">\n  <thead>\n    <tr style=\"text-align: right;\">\n      <th></th>\n      <th>Name</th>\n      <th>ID</th>\n      <th>Latitude</th>\n      <th>Longitude</th>\n      <th>Elevation</th>\n      <th>TimeResolution</th>\n      <th>StartDate</th>\n      <th>Timezone</th>\n    </tr>\n  </thead>\n  <tbody>\n    <tr>\n      <th>0</th>\n      <td>Abuja</td>\n      <td>ABJ</td>\n      <td>9.066700</td>\n      <td>7.483300</td>\n      <td>536</td>\n      <td>5M</td>\n      <td>2008-07-30</td>\n      <td>UTC+01:00</td>\n    </tr>\n    <tr>\n      <th>1</th>\n      <td>Akungba</td>\n      <td>AKB</td>\n      <td>6.984833</td>\n      <td>5.597842</td>\n      <td>175</td>\n      <td>5M</td>\n      <td>2008-07-30</td>\n      <td>UTC+01:00</td>\n    </tr>\n    <tr>\n      <th>2</th>\n      <td>Akure</td>\n      <td>AKR</td>\n      <td>6.964125</td>\n      <td>4.604775</td>\n      <td>131</td>\n      <td>5M</td>\n      <td>2008-07-30</td>\n      <td>UTC+01:00</td>\n    </tr>\n    <tr>\n      <th>3</th>\n      <td>Anyigba</td>\n      <td>ANY</td>\n      <td>7.298861</td>\n      <td>6.829728</td>\n      <td>420</td>\n      <td>5M</td>\n      <td>2008-07-30</td>\n      <td>UTC+01:00</td>\n    </tr>\n    <tr>\n      <th>4</th>\n      <td>Bauchi</td>\n      <td>BAU</td>\n      <td>10.036086</td>\n      <td>9.693964</td>\n      <td>575</td>\n      <td>5M</td>\n      <td>2008-07-30</td>\n      <td>UTC+01:00</td>\n    </tr>\n    <tr>\n      <th>5</th>\n      <td>Enugu</td>\n      <td>ENG</td>\n      <td>6.857817</td>\n      <td>7.407819</td>\n      <td>359</td>\n      <td>5M</td>\n      <td>2008-07-30</td>\n      <td>UTC+01:00</td>\n    </tr>\n    <tr>\n      <th>6</th>\n      <td>Jos</td>\n      <td>JOS</td>\n      <td>10.700000</td>\n      <td>8.963858</td>\n      <td>981</td>\n      <td>5M</td>\n      <td>2008-07-30</td>\n      <td>UTC+01:00</td>\n    </tr>\n    <tr>\n      <th>7</th>\n      <td>Lagos</td>\n      <td>LAG</td>\n      <td>6.434389</td>\n      <td>3.322639</td>\n      <td>7</td>\n      <td>5M</td>\n      <td>2008-07-30</td>\n      <td>UTC+01:00</td>\n    </tr>\n    <tr>\n      <th>8</th>\n      <td>Lapai</td>\n      <td>LAP</td>\n      <td>9.059333</td>\n      <td>6.829728</td>\n      <td>242</td>\n      <td>5M</td>\n      <td>2008-07-30</td>\n      <td>UTC+01:00</td>\n    </tr>\n    <tr>\n      <th>9</th>\n      <td>Markurdi</td>\n      <td>MKD</td>\n      <td>7.373553</td>\n      <td>8.811881</td>\n      <td>140</td>\n      <td>5M</td>\n      <td>2008-07-30</td>\n      <td>UTC+01:00</td>\n    </tr>\n    <tr>\n      <th>10</th>\n      <td>Minna</td>\n      <td>MIN</td>\n      <td>9.572394</td>\n      <td>6.422447</td>\n      <td>223</td>\n      <td>5M</td>\n      <td>2008-07-30</td>\n      <td>UTC+01:00</td>\n    </tr>\n    <tr>\n      <th>11</th>\n      <td>Nsukka</td>\n      <td>NPS</td>\n      <td>6.857817</td>\n      <td>7.407819</td>\n      <td>359</td>\n      <td>5M</td>\n      <td>2008-07-30</td>\n      <td>UTC+01:00</td>\n    </tr>\n    <tr>\n      <th>12</th>\n      <td>Nsukka</td>\n      <td>NSK</td>\n      <td>6.857817</td>\n      <td>7.407819</td>\n      <td>359</td>\n      <td>5M</td>\n      <td>2008-07-30</td>\n      <td>UTC+01:00</td>\n    </tr>\n    <tr>\n      <th>13</th>\n      <td>Ogbomoso</td>\n      <td>OGM</td>\n      <td>6.770808</td>\n      <td>3.429056</td>\n      <td>78</td>\n      <td>5M</td>\n      <td>2008-07-30</td>\n      <td>UTC+01:00</td>\n    </tr>\n    <tr>\n      <th>14</th>\n      <td>Port Harcourt</td>\n      <td>PTH</td>\n      <td>4.784836</td>\n      <td>6.991839</td>\n      <td>20</td>\n      <td>5M</td>\n      <td>2008-07-30</td>\n      <td>UTC+01:00</td>\n    </tr>\n    <tr>\n      <th>15</th>\n      <td>Redeemer's</td>\n      <td>RDM</td>\n      <td>6.874108</td>\n      <td>3.543475</td>\n      <td>88</td>\n      <td>5M</td>\n      <td>2008-07-30</td>\n      <td>UTC+01:00</td>\n    </tr>\n    <tr>\n      <th>16</th>\n      <td>Sokoto</td>\n      <td>SOK</td>\n      <td>13.130525</td>\n      <td>5.315022</td>\n      <td>302</td>\n      <td>5M</td>\n      <td>2008-07-30</td>\n      <td>UTC+01:00</td>\n    </tr>\n    <tr>\n      <th>17</th>\n      <td>Yola</td>\n      <td>YOL</td>\n      <td>9.292661</td>\n      <td>12.390747</td>\n      <td>260</td>\n      <td>5M</td>\n      <td>2008-07-30</td>\n      <td>UTC+01:00</td>\n    </tr>\n  </tbody>\n</table>\n</div>"
     },
     "execution_count": 5,
     "metadata": {},
     "output_type": "execute_result"
    }
   ],
   "source": [
    "pd.read_csv(\"data/config/stations.csv\")"
   ]
  },
  {
   "cell_type": "markdown",
   "id": "a406ea89",
   "metadata": {
    "ExecuteTime": {
     "end_time": "2023-06-12T15:44:57.307260Z",
     "start_time": "2023-06-12T15:44:57.303354Z"
    }
   },
   "source": [
    "## Mapping file\n",
    "\n",
    "This file should provide the mapping between input Excel file and the variables defined in the NetCDF schema.\n",
    "It can be either a `json` or `yaml` file.\n",
    "\n",
    "You can use the optional arguments `offset` and `scale` to transform between units."
   ]
  },
  {
   "cell_type": "code",
   "execution_count": 6,
   "id": "ee76580a",
   "metadata": {
    "ExecuteTime": {
     "end_time": "2024-02-07T11:56:02.618572449Z",
     "start_time": "2024-02-07T11:56:02.507566808Z"
    }
   },
   "outputs": [
    {
     "name": "stdout",
     "output_type": "stream",
     "text": [
      "- mapping:\r\n",
      "    - time: TIMESTAMP\r\n",
      "    - temperature:\r\n",
      "        - col: AirTC_Avg\r\n",
      "        - offset: 273.15\r\n",
      "- skip_lines: [1, 3, 4, 5]\r\n"
     ]
    }
   ],
   "source": [
    "!cat data/config/mapping.yaml"
   ]
  },
  {
   "cell_type": "markdown",
   "id": "d343a19b",
   "metadata": {
    "ExecuteTime": {
     "end_time": "2023-06-12T15:26:58.997455Z",
     "start_time": "2023-06-12T15:26:58.987788Z"
    }
   },
   "source": [
    "# Encode to NetCDF file\n",
    "\n",
    "`ins-transform` is a CLI command that comes with libinsitu. It allows to encode data to NetCDF, following in-situ standard, without requiring Python knowledge. \n",
    "\n",
    "**Options** : \n",
    "* **--cdl** : Filename of the custom Schema. If not provided the default embedded schema is used by default.\n",
    "* **--mapping** : Mapping file, in JSON\n",
    "* **--metadata** : Station meta data\n",
    "* **--network** : Name of the network (can be anything)\n",
    "* **--no-qc** : No not process QC flags\n",
    "* **--station-id** : Id of the station to process\n",
    "* [output-file] : Name of the output NetCDF file\n",
    "* [input-files].. : List of input files\n",
    "\n",
    "Note that if the output file already exists, it is updated with input data, enabling incremental updates."
   ]
  },
  {
   "cell_type": "code",
   "execution_count": 7,
   "id": "8b13831e",
   "metadata": {
    "ExecuteTime": {
     "end_time": "2024-02-07T11:56:06.156949776Z",
     "start_time": "2024-02-07T11:56:04.289819155Z"
    }
   },
   "outputs": [
    {
     "name": "stdout",
     "output_type": "stream",
     "text": [
      "\u001B[2;36m[12:56:05]\u001B[0m\u001B[2;36m \u001B[0m\u001B[1;7;31mCRITICAL\u001B[0m carnasr\u001B[1;92mda:AB\u001B[0mJ   Unhandled exception. \u001B[1m<\u001B[0m\u001B[1;95mclass\u001B[0m\u001B[39m \u001B[0m\u001B[32m'Exception'\u001B[0m\u001B[1m>\u001B[0m :  \r\n",
      "\u001B[2;36m           \u001B[0m         Exception: list indices must be integers or slices, not str.\r\n",
      "\u001B[2;36m           \u001B[0m         Context : \u001B[1m{\u001B[0m\u001B[32m'network'\u001B[0m: \u001B[32m'carnasrda'\u001B[0m, \u001B[32m'station_id'\u001B[0m: \u001B[32m'ABJ'\u001B[0m,     \r\n",
      "\u001B[2;36m           \u001B[0m         \u001B[32m'file'\u001B[0m: \u001B[3;35mNone\u001B[0m\u001B[1m}\u001B[0m.                                              \r\n",
      "\u001B[2;36m           \u001B[0m         Traceback \u001B[1m(\u001B[0mmost recent call last\u001B[1m)\u001B[0m:                          \r\n",
      "\u001B[2;36m           \u001B[0m           File                                                      \r\n",
      "\u001B[2;36m           \u001B[0m         \u001B[32m\"/home/rjolivet/libinsitu/libinsitu/cli/transform.py\"\u001B[0m, line \r\n",
      "\u001B[2;36m           \u001B[0m         \u001B[1;36m486\u001B[0m, in main                                                \r\n",
      "\u001B[2;36m           \u001B[0m             \u001B[1;35mprocess_network\u001B[0m\u001B[1m(\u001B[0mnetwork, station_id, args\u001B[1m)\u001B[0m              \r\n",
      "\u001B[2;36m           \u001B[0m           File                                                      \r\n",
      "\u001B[2;36m           \u001B[0m         \u001B[32m\"/home/rjolivet/libinsitu/libinsitu/cli/transform.py\"\u001B[0m, line \r\n",
      "\u001B[2;36m           \u001B[0m         \u001B[1;36m84\u001B[0m, in process_network                                      \r\n",
      "\u001B[2;36m           \u001B[0m             handler = \u001B[1;35mGenericCSVHandler\u001B[0m\u001B[1m(\u001B[0mproperties, args.mapping\u001B[1m)\u001B[0m   \r\n",
      "\u001B[2;36m           \u001B[0m           File \u001B[32m\"/home/rjolivet/libinsitu/libinsitu/handlers/GenericC\u001B[0m\r\n",
      "\u001B[2;36m           \u001B[0m         \u001B[32mSVHandler.py\"\u001B[0m, line \u001B[1;36m147\u001B[0m, in __init__                        \r\n",
      "\u001B[2;36m           \u001B[0m             mapping = js\u001B[1m[\u001B[0m\u001B[32m\"mapping\"\u001B[0m\u001B[1m]\u001B[0m                                 \r\n",
      "\u001B[2;36m           \u001B[0m         TypeError: list indices must be integers or slices, not str \r\n",
      "\u001B[2;36m           \u001B[0m                                                                     \r\n",
      "\u001B[2;36m           \u001B[0m         The above exception was the direct cause of the following   \r\n",
      "\u001B[2;36m           \u001B[0m         exception:                                                  \r\n",
      "\u001B[2;36m           \u001B[0m                                                                     \r\n",
      "\u001B[2;36m           \u001B[0m         Traceback \u001B[1m(\u001B[0mmost recent call last\u001B[1m)\u001B[0m:                          \r\n",
      "\u001B[2;36m           \u001B[0m           File \u001B[32m\"/home/rjolivet/libinsitu/.venv/bin/ins-transform\"\u001B[0m,  \r\n",
      "\u001B[2;36m           \u001B[0m         line \u001B[1;36m8\u001B[0m, in \u001B[1m<\u001B[0m\u001B[1;95mmodule\u001B[0m\u001B[1m>\u001B[0m                                         \r\n",
      "\u001B[2;36m           \u001B[0m             \u001B[1;35msys.exit\u001B[0m\u001B[1m(\u001B[0m\u001B[1;35mmain\u001B[0m\u001B[1m(\u001B[0m\u001B[1m)\u001B[0m\u001B[1m)\u001B[0m                                        \r\n",
      "\u001B[2;36m           \u001B[0m           File                                                      \r\n",
      "\u001B[2;36m           \u001B[0m         \u001B[32m\"/home/rjolivet/libinsitu/libinsitu/cli/transform.py\"\u001B[0m, line \r\n",
      "\u001B[2;36m           \u001B[0m         \u001B[1;36m485\u001B[0m, in main                                                \r\n",
      "\u001B[2;36m           \u001B[0m             with \u001B[1;35mLogContext\u001B[0m\u001B[1m(\u001B[0m\u001B[33mnetwork\u001B[0m=\u001B[35mnetwork\u001B[0m, \u001B[33mstation_id\u001B[0m=\u001B[35mstation_id\u001B[0m\u001B[1m)\u001B[0m:\r\n",
      "\u001B[2;36m           \u001B[0m           File \u001B[32m\"/home/rjolivet/libinsitu/libinsitu/log.py\"\u001B[0m, line \u001B[1;36m79\u001B[0m,\r\n",
      "\u001B[2;36m           \u001B[0m         in __exit__                                                 \r\n",
      "\u001B[2;36m           \u001B[0m             \u001B[1;35mraise_from\u001B[0m\u001B[1m(\u001B[0m\u001B[1;35mException\u001B[0m\u001B[1m(\u001B[0m                                   \r\n",
      "\u001B[2;36m           \u001B[0m           File \u001B[32m\"\u001B[0m\u001B[32m<\u001B[0m\u001B[32mstring\u001B[0m\u001B[32m>\u001B[0m\u001B[32m\"\u001B[0m, line \u001B[1;36m3\u001B[0m, in raise_from                    \r\n",
      "\u001B[2;36m           \u001B[0m         Exception: Exception: list indices must be integers or      \r\n",
      "\u001B[2;36m           \u001B[0m         slices, not str. Context : \u001B[1m{\u001B[0m\u001B[32m'network'\u001B[0m: \u001B[32m'carnasrda'\u001B[0m,         \r\n",
      "\u001B[2;36m           \u001B[0m         \u001B[32m'station_id'\u001B[0m: \u001B[32m'ABJ'\u001B[0m, \u001B[32m'file'\u001B[0m: \u001B[3;35mNone\u001B[0m\u001B[1m}\u001B[0m                          \r\n",
      "\u001B[2;36m           \u001B[0m                                                                     \r\n"
     ]
    }
   ],
   "source": [
    "# Assumes libinsitu is already installed with pip.\n",
    "\n",
    "!ins-transform \\\n",
    "    --cdl data/config/schema.cdl \\\n",
    "    --mapping data/config/mapping.yaml \\\n",
    "    --station-metadata data/config/stations.csv \\\n",
    "    --network carnasrda \\\n",
    "    --no-qc \\\n",
    "    --station-id ABJ \\\n",
    "    ABJ.nc data/*.xls"
   ]
  },
  {
   "cell_type": "markdown",
   "id": "a37e48b2",
   "metadata": {},
   "source": [
    "# Read output NetCDF file  \n",
    "\n",
    "Now we can explore the result file. Since the output NetCDF file respects the CF convention it is correctly read by most applications (Panoply, QGis, ...), and librairies."
   ]
  },
  {
   "cell_type": "markdown",
   "id": "3e9bf846",
   "metadata": {
    "ExecuteTime": {
     "end_time": "2023-06-12T15:28:05.333776Z",
     "start_time": "2023-06-12T15:28:05.328421Z"
    }
   },
   "source": [
    "## Using Python *xarray* library\n",
    "\n",
    "`xarray` is popular librairy to read and manipulated gridded data. It works fine NetCDF files.  "
   ]
  },
  {
   "cell_type": "code",
   "execution_count": 7,
   "id": "4750486c",
   "metadata": {
    "ExecuteTime": {
     "end_time": "2024-02-07T10:17:14.496916497Z",
     "start_time": "2024-02-07T10:17:13.924527183Z"
    }
   },
   "outputs": [
    {
     "ename": "FileNotFoundError",
     "evalue": "[Errno 2] No such file or directory: b'/home/rjolivet/libinsitu/ABJ.nc'",
     "output_type": "error",
     "traceback": [
      "\u001B[0;31m---------------------------------------------------------------------------\u001B[0m",
      "\u001B[0;31mKeyError\u001B[0m                                  Traceback (most recent call last)",
      "File \u001B[0;32m~/libinsitu/.venv-demo/lib/python3.10/site-packages/xarray/backends/file_manager.py:211\u001B[0m, in \u001B[0;36mCachingFileManager._acquire_with_cache_info\u001B[0;34m(self, needs_lock)\u001B[0m\n\u001B[1;32m    210\u001B[0m \u001B[38;5;28;01mtry\u001B[39;00m:\n\u001B[0;32m--> 211\u001B[0m     file \u001B[38;5;241m=\u001B[39m \u001B[38;5;28;43mself\u001B[39;49m\u001B[38;5;241;43m.\u001B[39;49m\u001B[43m_cache\u001B[49m\u001B[43m[\u001B[49m\u001B[38;5;28;43mself\u001B[39;49m\u001B[38;5;241;43m.\u001B[39;49m\u001B[43m_key\u001B[49m\u001B[43m]\u001B[49m\n\u001B[1;32m    212\u001B[0m \u001B[38;5;28;01mexcept\u001B[39;00m \u001B[38;5;167;01mKeyError\u001B[39;00m:\n",
      "File \u001B[0;32m~/libinsitu/.venv-demo/lib/python3.10/site-packages/xarray/backends/lru_cache.py:56\u001B[0m, in \u001B[0;36mLRUCache.__getitem__\u001B[0;34m(self, key)\u001B[0m\n\u001B[1;32m     55\u001B[0m \u001B[38;5;28;01mwith\u001B[39;00m \u001B[38;5;28mself\u001B[39m\u001B[38;5;241m.\u001B[39m_lock:\n\u001B[0;32m---> 56\u001B[0m     value \u001B[38;5;241m=\u001B[39m \u001B[38;5;28;43mself\u001B[39;49m\u001B[38;5;241;43m.\u001B[39;49m\u001B[43m_cache\u001B[49m\u001B[43m[\u001B[49m\u001B[43mkey\u001B[49m\u001B[43m]\u001B[49m\n\u001B[1;32m     57\u001B[0m     \u001B[38;5;28mself\u001B[39m\u001B[38;5;241m.\u001B[39m_cache\u001B[38;5;241m.\u001B[39mmove_to_end(key)\n",
      "\u001B[0;31mKeyError\u001B[0m: [<class 'netCDF4._netCDF4.Dataset'>, ('/home/rjolivet/libinsitu/ABJ.nc',), 'r', (('clobber', True), ('diskless', False), ('format', 'NETCDF4'), ('persist', False)), '5319da14-8ba7-41a9-a2bd-2dd4747a4869']",
      "\nDuring handling of the above exception, another exception occurred:\n",
      "\u001B[0;31mFileNotFoundError\u001B[0m                         Traceback (most recent call last)",
      "Cell \u001B[0;32mIn[7], line 2\u001B[0m\n\u001B[1;32m      1\u001B[0m \u001B[38;5;66;03m# Load NetCDF file\u001B[39;00m\n\u001B[0;32m----> 2\u001B[0m ds \u001B[38;5;241m=\u001B[39m \u001B[43mxr\u001B[49m\u001B[38;5;241;43m.\u001B[39;49m\u001B[43mload_dataset\u001B[49m\u001B[43m(\u001B[49m\u001B[38;5;124;43m\"\u001B[39;49m\u001B[38;5;124;43mABJ.nc\u001B[39;49m\u001B[38;5;124;43m\"\u001B[39;49m\u001B[43m)\u001B[49m\n\u001B[1;32m      4\u001B[0m \u001B[38;5;66;03m# \"Attributes\" contains all metadata\u001B[39;00m\n\u001B[1;32m      5\u001B[0m \u001B[38;5;28mprint\u001B[39m(ds\u001B[38;5;241m.\u001B[39mattrs)\n",
      "File \u001B[0;32m~/libinsitu/.venv-demo/lib/python3.10/site-packages/xarray/backends/api.py:278\u001B[0m, in \u001B[0;36mload_dataset\u001B[0;34m(filename_or_obj, **kwargs)\u001B[0m\n\u001B[1;32m    275\u001B[0m \u001B[38;5;28;01mif\u001B[39;00m \u001B[38;5;124m\"\u001B[39m\u001B[38;5;124mcache\u001B[39m\u001B[38;5;124m\"\u001B[39m \u001B[38;5;129;01min\u001B[39;00m kwargs:\n\u001B[1;32m    276\u001B[0m     \u001B[38;5;28;01mraise\u001B[39;00m \u001B[38;5;167;01mTypeError\u001B[39;00m(\u001B[38;5;124m\"\u001B[39m\u001B[38;5;124mcache has no effect in this context\u001B[39m\u001B[38;5;124m\"\u001B[39m)\n\u001B[0;32m--> 278\u001B[0m \u001B[38;5;28;01mwith\u001B[39;00m \u001B[43mopen_dataset\u001B[49m\u001B[43m(\u001B[49m\u001B[43mfilename_or_obj\u001B[49m\u001B[43m,\u001B[49m\u001B[43m \u001B[49m\u001B[38;5;241;43m*\u001B[39;49m\u001B[38;5;241;43m*\u001B[39;49m\u001B[43mkwargs\u001B[49m\u001B[43m)\u001B[49m \u001B[38;5;28;01mas\u001B[39;00m ds:\n\u001B[1;32m    279\u001B[0m     \u001B[38;5;28;01mreturn\u001B[39;00m ds\u001B[38;5;241m.\u001B[39mload()\n",
      "File \u001B[0;32m~/libinsitu/.venv-demo/lib/python3.10/site-packages/xarray/backends/api.py:572\u001B[0m, in \u001B[0;36mopen_dataset\u001B[0;34m(filename_or_obj, engine, chunks, cache, decode_cf, mask_and_scale, decode_times, decode_timedelta, use_cftime, concat_characters, decode_coords, drop_variables, inline_array, chunked_array_type, from_array_kwargs, backend_kwargs, **kwargs)\u001B[0m\n\u001B[1;32m    560\u001B[0m decoders \u001B[38;5;241m=\u001B[39m _resolve_decoders_kwargs(\n\u001B[1;32m    561\u001B[0m     decode_cf,\n\u001B[1;32m    562\u001B[0m     open_backend_dataset_parameters\u001B[38;5;241m=\u001B[39mbackend\u001B[38;5;241m.\u001B[39mopen_dataset_parameters,\n\u001B[0;32m   (...)\u001B[0m\n\u001B[1;32m    568\u001B[0m     decode_coords\u001B[38;5;241m=\u001B[39mdecode_coords,\n\u001B[1;32m    569\u001B[0m )\n\u001B[1;32m    571\u001B[0m overwrite_encoded_chunks \u001B[38;5;241m=\u001B[39m kwargs\u001B[38;5;241m.\u001B[39mpop(\u001B[38;5;124m\"\u001B[39m\u001B[38;5;124moverwrite_encoded_chunks\u001B[39m\u001B[38;5;124m\"\u001B[39m, \u001B[38;5;28;01mNone\u001B[39;00m)\n\u001B[0;32m--> 572\u001B[0m backend_ds \u001B[38;5;241m=\u001B[39m \u001B[43mbackend\u001B[49m\u001B[38;5;241;43m.\u001B[39;49m\u001B[43mopen_dataset\u001B[49m\u001B[43m(\u001B[49m\n\u001B[1;32m    573\u001B[0m \u001B[43m    \u001B[49m\u001B[43mfilename_or_obj\u001B[49m\u001B[43m,\u001B[49m\n\u001B[1;32m    574\u001B[0m \u001B[43m    \u001B[49m\u001B[43mdrop_variables\u001B[49m\u001B[38;5;241;43m=\u001B[39;49m\u001B[43mdrop_variables\u001B[49m\u001B[43m,\u001B[49m\n\u001B[1;32m    575\u001B[0m \u001B[43m    \u001B[49m\u001B[38;5;241;43m*\u001B[39;49m\u001B[38;5;241;43m*\u001B[39;49m\u001B[43mdecoders\u001B[49m\u001B[43m,\u001B[49m\n\u001B[1;32m    576\u001B[0m \u001B[43m    \u001B[49m\u001B[38;5;241;43m*\u001B[39;49m\u001B[38;5;241;43m*\u001B[39;49m\u001B[43mkwargs\u001B[49m\u001B[43m,\u001B[49m\n\u001B[1;32m    577\u001B[0m \u001B[43m\u001B[49m\u001B[43m)\u001B[49m\n\u001B[1;32m    578\u001B[0m ds \u001B[38;5;241m=\u001B[39m _dataset_from_backend_dataset(\n\u001B[1;32m    579\u001B[0m     backend_ds,\n\u001B[1;32m    580\u001B[0m     filename_or_obj,\n\u001B[0;32m   (...)\u001B[0m\n\u001B[1;32m    590\u001B[0m     \u001B[38;5;241m*\u001B[39m\u001B[38;5;241m*\u001B[39mkwargs,\n\u001B[1;32m    591\u001B[0m )\n\u001B[1;32m    592\u001B[0m \u001B[38;5;28;01mreturn\u001B[39;00m ds\n",
      "File \u001B[0;32m~/libinsitu/.venv-demo/lib/python3.10/site-packages/xarray/backends/netCDF4_.py:593\u001B[0m, in \u001B[0;36mNetCDF4BackendEntrypoint.open_dataset\u001B[0;34m(self, filename_or_obj, mask_and_scale, decode_times, concat_characters, decode_coords, drop_variables, use_cftime, decode_timedelta, group, mode, format, clobber, diskless, persist, lock, autoclose)\u001B[0m\n\u001B[1;32m    572\u001B[0m \u001B[38;5;28;01mdef\u001B[39;00m \u001B[38;5;21mopen_dataset\u001B[39m(  \u001B[38;5;66;03m# type: ignore[override]  # allow LSP violation, not supporting **kwargs\u001B[39;00m\n\u001B[1;32m    573\u001B[0m     \u001B[38;5;28mself\u001B[39m,\n\u001B[1;32m    574\u001B[0m     filename_or_obj: \u001B[38;5;28mstr\u001B[39m \u001B[38;5;241m|\u001B[39m os\u001B[38;5;241m.\u001B[39mPathLike[Any] \u001B[38;5;241m|\u001B[39m BufferedIOBase \u001B[38;5;241m|\u001B[39m AbstractDataStore,\n\u001B[0;32m   (...)\u001B[0m\n\u001B[1;32m    590\u001B[0m     autoclose\u001B[38;5;241m=\u001B[39m\u001B[38;5;28;01mFalse\u001B[39;00m,\n\u001B[1;32m    591\u001B[0m ) \u001B[38;5;241m-\u001B[39m\u001B[38;5;241m>\u001B[39m Dataset:\n\u001B[1;32m    592\u001B[0m     filename_or_obj \u001B[38;5;241m=\u001B[39m _normalize_path(filename_or_obj)\n\u001B[0;32m--> 593\u001B[0m     store \u001B[38;5;241m=\u001B[39m \u001B[43mNetCDF4DataStore\u001B[49m\u001B[38;5;241;43m.\u001B[39;49m\u001B[43mopen\u001B[49m\u001B[43m(\u001B[49m\n\u001B[1;32m    594\u001B[0m \u001B[43m        \u001B[49m\u001B[43mfilename_or_obj\u001B[49m\u001B[43m,\u001B[49m\n\u001B[1;32m    595\u001B[0m \u001B[43m        \u001B[49m\u001B[43mmode\u001B[49m\u001B[38;5;241;43m=\u001B[39;49m\u001B[43mmode\u001B[49m\u001B[43m,\u001B[49m\n\u001B[1;32m    596\u001B[0m \u001B[43m        \u001B[49m\u001B[38;5;28;43mformat\u001B[39;49m\u001B[38;5;241;43m=\u001B[39;49m\u001B[38;5;28;43mformat\u001B[39;49m\u001B[43m,\u001B[49m\n\u001B[1;32m    597\u001B[0m \u001B[43m        \u001B[49m\u001B[43mgroup\u001B[49m\u001B[38;5;241;43m=\u001B[39;49m\u001B[43mgroup\u001B[49m\u001B[43m,\u001B[49m\n\u001B[1;32m    598\u001B[0m \u001B[43m        \u001B[49m\u001B[43mclobber\u001B[49m\u001B[38;5;241;43m=\u001B[39;49m\u001B[43mclobber\u001B[49m\u001B[43m,\u001B[49m\n\u001B[1;32m    599\u001B[0m \u001B[43m        \u001B[49m\u001B[43mdiskless\u001B[49m\u001B[38;5;241;43m=\u001B[39;49m\u001B[43mdiskless\u001B[49m\u001B[43m,\u001B[49m\n\u001B[1;32m    600\u001B[0m \u001B[43m        \u001B[49m\u001B[43mpersist\u001B[49m\u001B[38;5;241;43m=\u001B[39;49m\u001B[43mpersist\u001B[49m\u001B[43m,\u001B[49m\n\u001B[1;32m    601\u001B[0m \u001B[43m        \u001B[49m\u001B[43mlock\u001B[49m\u001B[38;5;241;43m=\u001B[39;49m\u001B[43mlock\u001B[49m\u001B[43m,\u001B[49m\n\u001B[1;32m    602\u001B[0m \u001B[43m        \u001B[49m\u001B[43mautoclose\u001B[49m\u001B[38;5;241;43m=\u001B[39;49m\u001B[43mautoclose\u001B[49m\u001B[43m,\u001B[49m\n\u001B[1;32m    603\u001B[0m \u001B[43m    \u001B[49m\u001B[43m)\u001B[49m\n\u001B[1;32m    605\u001B[0m     store_entrypoint \u001B[38;5;241m=\u001B[39m StoreBackendEntrypoint()\n\u001B[1;32m    606\u001B[0m     \u001B[38;5;28;01mwith\u001B[39;00m close_on_error(store):\n",
      "File \u001B[0;32m~/libinsitu/.venv-demo/lib/python3.10/site-packages/xarray/backends/netCDF4_.py:400\u001B[0m, in \u001B[0;36mNetCDF4DataStore.open\u001B[0;34m(cls, filename, mode, format, group, clobber, diskless, persist, lock, lock_maker, autoclose)\u001B[0m\n\u001B[1;32m    394\u001B[0m kwargs \u001B[38;5;241m=\u001B[39m \u001B[38;5;28mdict\u001B[39m(\n\u001B[1;32m    395\u001B[0m     clobber\u001B[38;5;241m=\u001B[39mclobber, diskless\u001B[38;5;241m=\u001B[39mdiskless, persist\u001B[38;5;241m=\u001B[39mpersist, \u001B[38;5;28mformat\u001B[39m\u001B[38;5;241m=\u001B[39m\u001B[38;5;28mformat\u001B[39m\n\u001B[1;32m    396\u001B[0m )\n\u001B[1;32m    397\u001B[0m manager \u001B[38;5;241m=\u001B[39m CachingFileManager(\n\u001B[1;32m    398\u001B[0m     netCDF4\u001B[38;5;241m.\u001B[39mDataset, filename, mode\u001B[38;5;241m=\u001B[39mmode, kwargs\u001B[38;5;241m=\u001B[39mkwargs\n\u001B[1;32m    399\u001B[0m )\n\u001B[0;32m--> 400\u001B[0m \u001B[38;5;28;01mreturn\u001B[39;00m \u001B[38;5;28;43mcls\u001B[39;49m\u001B[43m(\u001B[49m\u001B[43mmanager\u001B[49m\u001B[43m,\u001B[49m\u001B[43m \u001B[49m\u001B[43mgroup\u001B[49m\u001B[38;5;241;43m=\u001B[39;49m\u001B[43mgroup\u001B[49m\u001B[43m,\u001B[49m\u001B[43m \u001B[49m\u001B[43mmode\u001B[49m\u001B[38;5;241;43m=\u001B[39;49m\u001B[43mmode\u001B[49m\u001B[43m,\u001B[49m\u001B[43m \u001B[49m\u001B[43mlock\u001B[49m\u001B[38;5;241;43m=\u001B[39;49m\u001B[43mlock\u001B[49m\u001B[43m,\u001B[49m\u001B[43m \u001B[49m\u001B[43mautoclose\u001B[49m\u001B[38;5;241;43m=\u001B[39;49m\u001B[43mautoclose\u001B[49m\u001B[43m)\u001B[49m\n",
      "File \u001B[0;32m~/libinsitu/.venv-demo/lib/python3.10/site-packages/xarray/backends/netCDF4_.py:347\u001B[0m, in \u001B[0;36mNetCDF4DataStore.__init__\u001B[0;34m(self, manager, group, mode, lock, autoclose)\u001B[0m\n\u001B[1;32m    345\u001B[0m \u001B[38;5;28mself\u001B[39m\u001B[38;5;241m.\u001B[39m_group \u001B[38;5;241m=\u001B[39m group\n\u001B[1;32m    346\u001B[0m \u001B[38;5;28mself\u001B[39m\u001B[38;5;241m.\u001B[39m_mode \u001B[38;5;241m=\u001B[39m mode\n\u001B[0;32m--> 347\u001B[0m \u001B[38;5;28mself\u001B[39m\u001B[38;5;241m.\u001B[39mformat \u001B[38;5;241m=\u001B[39m \u001B[38;5;28;43mself\u001B[39;49m\u001B[38;5;241;43m.\u001B[39;49m\u001B[43mds\u001B[49m\u001B[38;5;241m.\u001B[39mdata_model\n\u001B[1;32m    348\u001B[0m \u001B[38;5;28mself\u001B[39m\u001B[38;5;241m.\u001B[39m_filename \u001B[38;5;241m=\u001B[39m \u001B[38;5;28mself\u001B[39m\u001B[38;5;241m.\u001B[39mds\u001B[38;5;241m.\u001B[39mfilepath()\n\u001B[1;32m    349\u001B[0m \u001B[38;5;28mself\u001B[39m\u001B[38;5;241m.\u001B[39mis_remote \u001B[38;5;241m=\u001B[39m is_remote_uri(\u001B[38;5;28mself\u001B[39m\u001B[38;5;241m.\u001B[39m_filename)\n",
      "File \u001B[0;32m~/libinsitu/.venv-demo/lib/python3.10/site-packages/xarray/backends/netCDF4_.py:409\u001B[0m, in \u001B[0;36mNetCDF4DataStore.ds\u001B[0;34m(self)\u001B[0m\n\u001B[1;32m    407\u001B[0m \u001B[38;5;129m@property\u001B[39m\n\u001B[1;32m    408\u001B[0m \u001B[38;5;28;01mdef\u001B[39;00m \u001B[38;5;21mds\u001B[39m(\u001B[38;5;28mself\u001B[39m):\n\u001B[0;32m--> 409\u001B[0m     \u001B[38;5;28;01mreturn\u001B[39;00m \u001B[38;5;28;43mself\u001B[39;49m\u001B[38;5;241;43m.\u001B[39;49m\u001B[43m_acquire\u001B[49m\u001B[43m(\u001B[49m\u001B[43m)\u001B[49m\n",
      "File \u001B[0;32m~/libinsitu/.venv-demo/lib/python3.10/site-packages/xarray/backends/netCDF4_.py:403\u001B[0m, in \u001B[0;36mNetCDF4DataStore._acquire\u001B[0;34m(self, needs_lock)\u001B[0m\n\u001B[1;32m    402\u001B[0m \u001B[38;5;28;01mdef\u001B[39;00m \u001B[38;5;21m_acquire\u001B[39m(\u001B[38;5;28mself\u001B[39m, needs_lock\u001B[38;5;241m=\u001B[39m\u001B[38;5;28;01mTrue\u001B[39;00m):\n\u001B[0;32m--> 403\u001B[0m     \u001B[38;5;28;01mwith\u001B[39;00m \u001B[38;5;28mself\u001B[39m\u001B[38;5;241m.\u001B[39m_manager\u001B[38;5;241m.\u001B[39macquire_context(needs_lock) \u001B[38;5;28;01mas\u001B[39;00m root:\n\u001B[1;32m    404\u001B[0m         ds \u001B[38;5;241m=\u001B[39m _nc4_require_group(root, \u001B[38;5;28mself\u001B[39m\u001B[38;5;241m.\u001B[39m_group, \u001B[38;5;28mself\u001B[39m\u001B[38;5;241m.\u001B[39m_mode)\n\u001B[1;32m    405\u001B[0m     \u001B[38;5;28;01mreturn\u001B[39;00m ds\n",
      "File \u001B[0;32m/usr/lib/python3.10/contextlib.py:135\u001B[0m, in \u001B[0;36m_GeneratorContextManager.__enter__\u001B[0;34m(self)\u001B[0m\n\u001B[1;32m    133\u001B[0m \u001B[38;5;28;01mdel\u001B[39;00m \u001B[38;5;28mself\u001B[39m\u001B[38;5;241m.\u001B[39margs, \u001B[38;5;28mself\u001B[39m\u001B[38;5;241m.\u001B[39mkwds, \u001B[38;5;28mself\u001B[39m\u001B[38;5;241m.\u001B[39mfunc\n\u001B[1;32m    134\u001B[0m \u001B[38;5;28;01mtry\u001B[39;00m:\n\u001B[0;32m--> 135\u001B[0m     \u001B[38;5;28;01mreturn\u001B[39;00m \u001B[38;5;28;43mnext\u001B[39;49m\u001B[43m(\u001B[49m\u001B[38;5;28;43mself\u001B[39;49m\u001B[38;5;241;43m.\u001B[39;49m\u001B[43mgen\u001B[49m\u001B[43m)\u001B[49m\n\u001B[1;32m    136\u001B[0m \u001B[38;5;28;01mexcept\u001B[39;00m \u001B[38;5;167;01mStopIteration\u001B[39;00m:\n\u001B[1;32m    137\u001B[0m     \u001B[38;5;28;01mraise\u001B[39;00m \u001B[38;5;167;01mRuntimeError\u001B[39;00m(\u001B[38;5;124m\"\u001B[39m\u001B[38;5;124mgenerator didn\u001B[39m\u001B[38;5;124m'\u001B[39m\u001B[38;5;124mt yield\u001B[39m\u001B[38;5;124m\"\u001B[39m) \u001B[38;5;28;01mfrom\u001B[39;00m \u001B[38;5;28;01mNone\u001B[39;00m\n",
      "File \u001B[0;32m~/libinsitu/.venv-demo/lib/python3.10/site-packages/xarray/backends/file_manager.py:199\u001B[0m, in \u001B[0;36mCachingFileManager.acquire_context\u001B[0;34m(self, needs_lock)\u001B[0m\n\u001B[1;32m    196\u001B[0m \u001B[38;5;129m@contextlib\u001B[39m\u001B[38;5;241m.\u001B[39mcontextmanager\n\u001B[1;32m    197\u001B[0m \u001B[38;5;28;01mdef\u001B[39;00m \u001B[38;5;21macquire_context\u001B[39m(\u001B[38;5;28mself\u001B[39m, needs_lock\u001B[38;5;241m=\u001B[39m\u001B[38;5;28;01mTrue\u001B[39;00m):\n\u001B[1;32m    198\u001B[0m \u001B[38;5;250m    \u001B[39m\u001B[38;5;124;03m\"\"\"Context manager for acquiring a file.\"\"\"\u001B[39;00m\n\u001B[0;32m--> 199\u001B[0m     file, cached \u001B[38;5;241m=\u001B[39m \u001B[38;5;28;43mself\u001B[39;49m\u001B[38;5;241;43m.\u001B[39;49m\u001B[43m_acquire_with_cache_info\u001B[49m\u001B[43m(\u001B[49m\u001B[43mneeds_lock\u001B[49m\u001B[43m)\u001B[49m\n\u001B[1;32m    200\u001B[0m     \u001B[38;5;28;01mtry\u001B[39;00m:\n\u001B[1;32m    201\u001B[0m         \u001B[38;5;28;01myield\u001B[39;00m file\n",
      "File \u001B[0;32m~/libinsitu/.venv-demo/lib/python3.10/site-packages/xarray/backends/file_manager.py:217\u001B[0m, in \u001B[0;36mCachingFileManager._acquire_with_cache_info\u001B[0;34m(self, needs_lock)\u001B[0m\n\u001B[1;32m    215\u001B[0m     kwargs \u001B[38;5;241m=\u001B[39m kwargs\u001B[38;5;241m.\u001B[39mcopy()\n\u001B[1;32m    216\u001B[0m     kwargs[\u001B[38;5;124m\"\u001B[39m\u001B[38;5;124mmode\u001B[39m\u001B[38;5;124m\"\u001B[39m] \u001B[38;5;241m=\u001B[39m \u001B[38;5;28mself\u001B[39m\u001B[38;5;241m.\u001B[39m_mode\n\u001B[0;32m--> 217\u001B[0m file \u001B[38;5;241m=\u001B[39m \u001B[38;5;28;43mself\u001B[39;49m\u001B[38;5;241;43m.\u001B[39;49m\u001B[43m_opener\u001B[49m\u001B[43m(\u001B[49m\u001B[38;5;241;43m*\u001B[39;49m\u001B[38;5;28;43mself\u001B[39;49m\u001B[38;5;241;43m.\u001B[39;49m\u001B[43m_args\u001B[49m\u001B[43m,\u001B[49m\u001B[43m \u001B[49m\u001B[38;5;241;43m*\u001B[39;49m\u001B[38;5;241;43m*\u001B[39;49m\u001B[43mkwargs\u001B[49m\u001B[43m)\u001B[49m\n\u001B[1;32m    218\u001B[0m \u001B[38;5;28;01mif\u001B[39;00m \u001B[38;5;28mself\u001B[39m\u001B[38;5;241m.\u001B[39m_mode \u001B[38;5;241m==\u001B[39m \u001B[38;5;124m\"\u001B[39m\u001B[38;5;124mw\u001B[39m\u001B[38;5;124m\"\u001B[39m:\n\u001B[1;32m    219\u001B[0m     \u001B[38;5;66;03m# ensure file doesn't get overridden when opened again\u001B[39;00m\n\u001B[1;32m    220\u001B[0m     \u001B[38;5;28mself\u001B[39m\u001B[38;5;241m.\u001B[39m_mode \u001B[38;5;241m=\u001B[39m \u001B[38;5;124m\"\u001B[39m\u001B[38;5;124ma\u001B[39m\u001B[38;5;124m\"\u001B[39m\n",
      "File \u001B[0;32msrc/netCDF4/_netCDF4.pyx:2307\u001B[0m, in \u001B[0;36mnetCDF4._netCDF4.Dataset.__init__\u001B[0;34m()\u001B[0m\n",
      "File \u001B[0;32msrc/netCDF4/_netCDF4.pyx:1925\u001B[0m, in \u001B[0;36mnetCDF4._netCDF4._ensure_nc_success\u001B[0;34m()\u001B[0m\n",
      "\u001B[0;31mFileNotFoundError\u001B[0m: [Errno 2] No such file or directory: b'/home/rjolivet/libinsitu/ABJ.nc'"
     ]
    }
   ],
   "source": [
    "# Load NetCDF file\n",
    "ds = xr.load_dataset(\"ABJ.nc\")\n",
    "\n",
    "# \"Attributes\" contains all metadata\n",
    "print(ds.attrs)\n",
    "\n",
    "# Xarray can be transformed into 'flat' pandas Dataframe\n",
    "# Show 10 first rows\n",
    "ds.to_pandas()[0:10]"
   ]
  },
  {
   "cell_type": "markdown",
   "id": "836db719",
   "metadata": {
    "ExecuteTime": {
     "end_time": "2023-06-12T15:28:41.529375Z",
     "start_time": "2023-06-12T15:28:41.519188Z"
    }
   },
   "source": [
    "### Plot data"
   ]
  },
  {
   "cell_type": "code",
   "execution_count": 43,
   "id": "d3ad3edd",
   "metadata": {
    "ExecuteTime": {
     "end_time": "2023-11-02T11:10:04.361121990Z",
     "start_time": "2023-11-02T11:10:04.211948629Z"
    }
   },
   "outputs": [
    {
     "data": {
      "image/png": "[encoded data removed]",
      "text/plain": [
       "<Figure size 640x480 with 1 Axes>"
      ]
     },
     "metadata": {},
     "output_type": "display_data"
    }
   ],
   "source": [
    "# Plot data\n",
    "ds.temperature.plot()\n",
    "plt.show()"
   ]
  },
  {
   "cell_type": "markdown",
   "id": "22d14df4",
   "metadata": {},
   "source": [
    "## Via command line tools (CLI)\n",
    "\n",
    "### Using ncdump\n",
    "\n",
    "\n",
    "`ncdump` is a command line utility that comes with NCE utils to display the content of the file. However it is a bit \"raw\" and not user friendly."
   ]
  },
  {
   "cell_type": "code",
   "execution_count": 44,
   "id": "056f3893",
   "metadata": {
    "ExecuteTime": {
     "end_time": "2023-11-02T11:10:06.042809024Z",
     "start_time": "2023-11-02T11:10:05.908051879Z"
    }
   },
   "outputs": [
    {
     "name": "stdout",
     "output_type": "stream",
     "text": [
      "netcdf ABJ {\r\n",
      "dimensions:\r\n",
      "\ttime = UNLIMITED ; // (852 currently)\r\n",
      "variables:\r\n",
      "\tstring station_name ;\r\n",
      "\t\tstation_name:standard_name = \"platform_name\" ;\r\n",
      "\t\tstation_name:long_name = \"station_name\" ;\r\n",
      "\t\tstation_name:cf_role = \"timeseries_id\" ;\r\n",
      "\tfloat latitude ;\r\n",
      "\t\tlatitude:long_name = \"station latitude\" ;\r\n",
      "\t\tlatitude:standard_name = \"latitude\" ;\r\n",
      "\t\tlatitude:units = \"degrees_north\" ;\r\n",
      "\t\tlatitude:_CoordinateAxisType = \"Lat\" ;\r\n",
      "\t\tlatitude:axis = \"Y\" ;\r\n",
      "\tfloat longitude ;\r\n",
      "\t\tlongitude:long_name = \"station longitude\" ;\r\n",
      "\t\tlongitude:standard_name = \"longitude\" ;\r\n",
      "\t\tlongitude:units = \"degrees_east\" ;\r\n",
      "\t\tlongitude:_CoordinateAxisType = \"Lon\" ;\r\n",
      "\t\tlongitude:axis = \"X\" ;\r\n",
      "\tfloat elevation ;\r\n",
      "\t\televation:long_name = \"Elevation above mean seal level\" ;\r\n",
      "\t\televation:standard_name = \"height_above_mean_sea_level\" ;\r\n",
      "\t\televation:_CoordinateAxisType = \"Z\" ;\r\n",
      "\t\televation:units = \"m\" ;\r\n",
      "\t\televation:axis = \"Z\" ;\r\n",
      "\tdouble crs ;\r\n",
      "\t\tcrs:_FillValue = -999. ;\r\n",
      "\t\tcrs:grid_mapping_name = \"latitude_longitude\" ;\r\n",
      "\t\tcrs:longitude_of_prime_meridian = 0. ;\r\n",
      "\t\tcrs:semi_major_axis = 6378137. ;\r\n",
      "\t\tcrs:inverse_flattening = 298.257223563 ;\r\n",
      "\t\tcrs:epsg_code = \"EPSG:4326\" ;\r\n",
      "\tuint time(time) ;\r\n",
      "\t\ttime:long_name = \"Time of measurement\" ;\r\n",
      "\t\ttime:standard_name = \"time\" ;\r\n",
      "\t\ttime:units = \"seconds since 1970-01-01 00:00:00\" ;\r\n",
      "\t\ttime:time_origin = \"1970-01-01 00:00:00\" ;\r\n",
      "\t\ttime:time_zone = \"UTC\" ;\r\n",
      "\t\ttime:abbreviation = \"Date/Time\" ;\r\n",
      "\t\ttime:_CoordinateAxisType = \"Time\" ;\r\n",
      "\t\ttime:axis = \"T\" ;\r\n",
      "\t\ttime:calendar = \"gregorian\" ;\r\n",
      "\tfloat temperature(time) ;\r\n",
      "\t\ttemperature:_FillValue = -999.f ;\r\n",
      "\t\ttemperature:least_significant_digit = 1LL ;\r\n",
      "\t\ttemperature:long_name = \"Air temperature at 2 m height\" ;\r\n",
      "\t\ttemperature:standard_name = \"air_temperature\" ;\r\n",
      "\t\ttemperature:coordinates = \"time latitude longitude elevation\" ;\r\n",
      "\t\ttemperature:abbreviation = \"temp\" ;\r\n",
      "\t\ttemperature:units = \"K\" ;\r\n",
      "\t\ttemperature:grid_mapping = \"crs\" ;\r\n",
      "\r\n",
      "// global attributes:\r\n",
      "\t\t:id = \"CARNASRDA-ABJ\" ;\r\n",
      "\t\t:title = \"Timeseries of CARNASRDA. Station : Abuja\" ;\r\n",
      "\t\t:summary = \"Archive of solar radiation networks worldwide provided by the Webservice-Energy initiative supported by MINES Paris PSL. Files are provided as NetCDF file format with the support of a Thredds Data Server.\" ;\r\n",
      "\t\t:keywords = \"meteorology, station, time, Earth Science > Atmosphere > Atmospheric Radiation > Incoming Solar Radiation, Earth Science > Atmosphere > Atmospheric Temperature > Surface Temperature > Air Temperature, Earth Science > Atmosphere > Atmospheric Pressure > Sea Level Pressure\" ;\r\n",
      "\t\t:keywords_vocabulary = \"GCMD Science Keywords\" ;\r\n",
      "\t\t:keywords_vocabulary_url = \"https://gcmd.earthdata.nasa.gov/static/kms/\" ;\r\n",
      "\t\t:record = \"Basic measurements (global irradiance, direct irradiance, diffuse irradiance, air temperature, relative humidity, pressure)\" ;\r\n",
      "\t\t:featureType = \"timeSeries\" ;\r\n",
      "\t\t:cdm_data_type = \"timeSeries\" ;\r\n",
      "\t\t:product_version = \"libinsitu unset (local)\" ;\r\n",
      "\t\t:Conventions = \"CF-1.10 ACDD-1.3\" ;\r\n",
      "\t\t:publisher_name = \"Lionel MENARD, Raphael JOLIVET, Yves-Marie SAINT-DRENAN, Philippe BLANC\" ;\r\n",
      "\t\t:publisher_email = \"lionel.menard@mines-paristech.fr, raphael.jolivet@mines-paristech.fr, saint-drenan@mines-paristech.fr, philippe.blanc@mines-paristech.fr\" ;\r\n",
      "\t\t:publisher_url = \"https://www.oie.minesparis.psl.eu/\" ;\r\n",
      "\t\t:publisher_institution = \"Mines Paristech - PSL\" ;\r\n",
      "\t\t:creator_name = \"carnasrda\" ;\r\n",
      "\t\t:institution = \"carnasrda\" ;\r\n",
      "\t\t:creator_email = \"carnasrdaa@gmail.com\" ;\r\n",
      "\t\t:creator_url = \"https://carnasrda.com\" ;\r\n",
      "\t\t:platform = \"Abuja\" ;\r\n",
      "\t\t:geospatial_lat_min = \"9.0667\" ;\r\n",
      "\t\t:geospatial_lon_min = \"7.4833\" ;\r\n",
      "\t\t:geospatial_lat_max = \"9.0667\" ;\r\n",
      "\t\t:geospatial_lon_max = \"7.4833\" ;\r\n",
      "\t\t:geospatial_vertical_min = \"536\" ;\r\n",
      "\t\t:geospatial_vertical_max = \"536\" ;\r\n",
      "\t\t:geospatial_bounds = \"POINT(9.0667 7.4833)\" ;\r\n",
      "\t\t:geospatial_bounds_crs = \"EPSG:4326\" ;\r\n",
      "\t\t:time_coverage_start = \"2008-07-30T00:00:00\" ;\r\n",
      "\t\t:time_coverage_resolution = \"PT5M\" ;\r\n",
      "\t\t:date_created = \"2023-11-02T10:43:49.917922\" ;\r\n",
      "\t\t:date_modified = \"2023-11-02T10:43:49.917922\" ;\r\n",
      "\t\t:network_id = \"CARNASRDA\" ;\r\n",
      "\t\t:station_id = \"ABJ\" ;\r\n",
      "data:\r\n",
      "\r\n",
      " station_name = \"ABJ\" ;\r\n",
      "\r\n",
      " latitude = 9.0667 ;\r\n",
      "\r\n",
      " longitude = 7.4833 ;\r\n",
      "\r\n",
      " elevation = 536 ;\r\n",
      "\r\n",
      " crs = _ ;\r\n",
      "\r\n",
      " time = 1217376000, 1217376300, 1217376600, 1217376900, 1217377200, \r\n",
      "    1217377500, 1217377800, 1217378100, 1217378400, 1217378700, 1217379000, \r\n",
      "    1217379300, 1217379600, 1217379900, 1217380200, 1217380500, 1217380800, \r\n",
      "    1217381100, 1217381400, 1217381700, 1217382000, 1217382300, 1217382600, \r\n",
      "    1217382900, 1217383200, 1217383500, 1217383800, 1217384100, 1217384400, \r\n",
      "    1217384700, 1217385000, 1217385300, 1217385600, 1217385900, 1217386200, \r\n",
      "    1217386500, 1217386800, 1217387100, 1217387400, 1217387700, 1217388000, \r\n",
      "    1217388300, 1217388600, 1217388900, 1217389200, 1217389500, 1217389800, \r\n",
      "    1217390100, 1217390400, 1217390700, 1217391000, 1217391300, 1217391600, \r\n",
      "    1217391900, 1217392200, 1217392500, 1217392800, 1217393100, 1217393400, \r\n",
      "    1217393700, 1217394000, 1217394300, 1217394600, 1217394900, 1217395200, \r\n",
      "    1217395500, 1217395800, 1217396100, 1217396400, 1217396700, 1217397000, \r\n",
      "    1217397300, 1217397600, 1217397900, 1217398200, 1217398500, 1217398800, \r\n",
      "    1217399100, 1217399400, 1217399700, 1217400000, 1217400300, 1217400600, \r\n",
      "    1217400900, 1217401200, 1217401500, 1217401800, 1217402100, 1217402400, \r\n",
      "    1217402700, 1217403000, 1217403300, 1217403600, 1217403900, 1217404200, \r\n",
      "    1217404500, 1217404800, 1217405100, 1217405400, 1217405700, 1217406000, \r\n",
      "    1217406300, 1217406600, 1217406900, 1217407200, 1217407500, 1217407800, \r\n",
      "    1217408100, 1217408400, 1217408700, 1217409000, 1217409300, 1217409600, \r\n",
      "    1217409900, 1217410200, 1217410500, 1217410800, 1217411100, 1217411400, \r\n",
      "    1217411700, 1217412000, 1217412300, 1217412600, 1217412900, 1217413200, \r\n",
      "    1217413500, 1217413800, 1217414100, 1217414400, 1217414700, 1217415000, \r\n",
      "    1217415300, 1217415600, 1217415900, 1217416200, 1217416500, 1217416800, \r\n",
      "    1217417100, 1217417400, 1217417700, 1217418000, 1217418300, 1217418600, \r\n",
      "    1217418900, 1217419200, 1217419500, 1217419800, 1217420100, 1217420400, \r\n",
      "    1217420700, 1217421000, 1217421300, 1217421600, 1217421900, 1217422200, \r\n",
      "    1217422500, 1217422800, 1217423100, 1217423400, 1217423700, 1217424000, \r\n",
      "    1217424300, 1217424600, 1217424900, 1217425200, 1217425500, 1217425800, \r\n",
      "    1217426100, 1217426400, 1217426700, 1217427000, 1217427300, 1217427600, \r\n",
      "    1217427900, 1217428200, 1217428500, 1217428800, 1217429100, 1217429400, \r\n",
      "    1217429700, 1217430000, 1217430300, 1217430600, 1217430900, 1217431200, \r\n",
      "    1217431500, 1217431800, 1217432100, 1217432400, 1217432700, 1217433000, \r\n",
      "    1217433300, 1217433600, 1217433900, 1217434200, 1217434500, 1217434800, \r\n",
      "    1217435100, 1217435400, 1217435700, 1217436000, 1217436300, 1217436600, \r\n",
      "    1217436900, 1217437200, 1217437500, 1217437800, 1217438100, 1217438400, \r\n",
      "    1217438700, 1217439000, 1217439300, 1217439600, 1217439900, 1217440200, \r\n",
      "    1217440500, 1217440800, 1217441100, 1217441400, 1217441700, 1217442000, \r\n",
      "    1217442300, 1217442600, 1217442900, 1217443200, 1217443500, 1217443800, \r\n",
      "    1217444100, 1217444400, 1217444700, 1217445000, 1217445300, 1217445600, \r\n",
      "    1217445900, 1217446200, 1217446500, 1217446800, 1217447100, 1217447400, \r\n",
      "    1217447700, 1217448000, 1217448300, 1217448600, 1217448900, 1217449200, \r\n",
      "    1217449500, 1217449800, 1217450100, 1217450400, 1217450700, 1217451000, \r\n",
      "    1217451300, 1217451600, 1217451900, 1217452200, 1217452500, 1217452800, \r\n",
      "    1217453100, 1217453400, 1217453700, 1217454000, 1217454300, 1217454600, \r\n",
      "    1217454900, 1217455200, 1217455500, 1217455800, 1217456100, 1217456400, \r\n",
      "    1217456700, 1217457000, 1217457300, 1217457600, 1217457900, 1217458200, \r\n",
      "    1217458500, 1217458800, 1217459100, 1217459400, 1217459700, 1217460000, \r\n",
      "    1217460300, 1217460600, 1217460900, 1217461200, 1217461500, 1217461800, \r\n",
      "    1217462100, 1217462400, 1217462700, 1217463000, 1217463300, 1217463600, \r\n",
      "    1217463900, 1217464200, 1217464500, 1217464800, 1217465100, 1217465400, \r\n"
     ]
    }
   ],
   "source": [
    "!ncdump ABJ.nc | head -150"
   ]
  },
  {
   "cell_type": "markdown",
   "id": "a5437201",
   "metadata": {},
   "source": [
    "### With *ins-cat* (libinsitu)\n",
    "\n",
    "[`ins-cat`](https://libinsitu.readthedocs.io/en/latest/cli/ins-cat.html) is a command line tool provided by libinsitu to read and dump NetCDF of timeseries into various formats."
   ]
  },
  {
   "cell_type": "code",
   "execution_count": 45,
   "id": "afda6302",
   "metadata": {
    "ExecuteTime": {
     "end_time": "2023-11-02T11:10:09.115090286Z",
     "start_time": "2023-11-02T11:10:07.417350847Z"
    }
   },
   "outputs": [
    {
     "name": "stdout",
     "output_type": "stream",
     "text": [
      "                    temperature\r\n",
      "2008-07-31 23:05:00 297.8      \r\n",
      "2008-07-31 23:10:00 297.8      \r\n",
      "2008-07-31 23:15:00 297.8      \r\n",
      "2008-07-31 23:20:00 297.7      \r\n",
      "2008-07-31 23:25:00 297.6      \r\n",
      "2008-07-31 23:30:00 297.4      \r\n",
      "2008-07-31 23:35:00 297.2      \r\n",
      "2008-07-31 23:40:00 297.1      \r\n",
      "2008-07-31 23:45:00 297.1      \r\n",
      "Exception ignored in: <_io.TextIOWrapper name='<stdout>' mode='w' encoding='utf-8'>\r\n",
      "BrokenPipeError: [Errno 32] Broken pipe\r\n"
     ]
    }
   ],
   "source": [
    "# -s skip NaN values \n",
    "!ins-cat ABJ.nc -s | head -10"
   ]
  },
  {
   "cell_type": "code",
   "execution_count": 46,
   "id": "d2a626f9",
   "metadata": {
    "ExecuteTime": {
     "end_time": "2023-11-02T11:10:10.783375370Z",
     "start_time": "2023-11-02T11:10:09.124852490Z"
    }
   },
   "outputs": [
    {
     "name": "stdout",
     "output_type": "stream",
     "text": [
      "# id = CARNASRDA-ABJ\r\n",
      "# title = Timeseries of CARNASRDA. Station : Abuja\r\n",
      "# summary = Archive of solar radiation networks worldwide provided by the Webservice-Energy initiative supported by MINES Paris PSL. Files are provided as NetCDF file format with the support of a Thredds Data Server.\r\n",
      "# keywords = meteorology, station, time, Earth Science > Atmosphere > Atmospheric Radiation > Incoming Solar Radiation, Earth Science > Atmosphere > Atmospheric Temperature > Surface Temperature > Air Temperature, Earth Science > Atmosphere > Atmospheric Pressure > Sea Level Pressure\r\n",
      "# keywords_vocabulary = GCMD Science Keywords\r\n",
      "# keywords_vocabulary_url = https://gcmd.earthdata.nasa.gov/static/kms/\r\n",
      "# record = Basic measurements (global irradiance, direct irradiance, diffuse irradiance, air temperature, relative humidity, pressure)\r\n",
      "# featureType = timeSeries\r\n",
      "# cdm_data_type = timeSeries\r\n",
      "# product_version = libinsitu unset (local)\r\n",
      "# Conventions = CF-1.10 ACDD-1.3\r\n",
      "# publisher_name = Lionel MENARD, Raphael JOLIVET, Yves-Marie SAINT-DRENAN, Philippe BLANC\r\n",
      "# publisher_email = lionel.menard@mines-paristech.fr, raphael.jolivet@mines-paristech.fr, saint-drenan@mines-paristech.fr, philippe.blanc@mines-paristech.fr\r\n",
      "# publisher_url = https://www.oie.minesparis.psl.eu/\r\n",
      "# publisher_institution = Mines Paristech - PSL\r\n",
      "# creator_name = carnasrda\r\n",
      "# institution = carnasrda\r\n",
      "# creator_email = carnasrdaa@gmail.com\r\n",
      "# creator_url = https://carnasrda.com\r\n",
      "# platform = Abuja\r\n",
      "# geospatial_lat_min = 9.0667\r\n",
      "# geospatial_lon_min = 7.4833\r\n",
      "# geospatial_lat_max = 9.0667\r\n",
      "# geospatial_lon_max = 7.4833\r\n",
      "# geospatial_vertical_min = 536\r\n",
      "# geospatial_vertical_max = 536\r\n",
      "# geospatial_bounds = POINT(9.0667 7.4833)\r\n",
      "# geospatial_bounds_crs = EPSG:4326\r\n",
      "# time_coverage_start = 2008-07-30T00:00:00\r\n",
      "# time_coverage_resolution = 300\r\n",
      "# date_created = 2023-11-02T10:43:49.917922\r\n",
      "# date_modified = 2023-11-02T10:43:49.917922\r\n",
      "# network_id = CARNASRDA\r\n",
      "# station_id = ABJ\r\n",
      "# latitude = 9.0667\r\n",
      "# longitude = 7.4833\r\n",
      "# elevation = 536.0\r\n",
      "# station_name = ABJ\r\n",
      "# variables:\r\n",
      "#   station_name:\r\n",
      "#     standard_name = platform_name\r\n",
      "#     long_name = station_name\r\n",
      "#     cf_role = timeseries_id\r\n",
      "#   latitude:\r\n",
      "#     long_name = station latitude\r\n",
      "#     standard_name = latitude\r\n",
      "#     units = degrees_north\r\n",
      "#     _CoordinateAxisType = Lat\r\n",
      "#     axis = Y\r\n",
      "#   longitude:\r\n",
      "#     long_name = station longitude\r\n",
      "#     standard_name = longitude\r\n",
      "#     units = degrees_east\r\n",
      "#     _CoordinateAxisType = Lon\r\n",
      "#     axis = X\r\n",
      "#   elevation:\r\n",
      "#     long_name = Elevation above mean seal level\r\n",
      "#     standard_name = height_above_mean_sea_level\r\n",
      "#     _CoordinateAxisType = Z\r\n",
      "#     units = m\r\n",
      "#     axis = Z\r\n",
      "#   crs:\r\n",
      "#     _FillValue = -999.0\r\n",
      "#     grid_mapping_name = latitude_longitude\r\n",
      "#     longitude_of_prime_meridian = 0.0\r\n",
      "#     semi_major_axis = 6378137.0\r\n",
      "#     inverse_flattening = 298.257223563\r\n",
      "#     epsg_code = EPSG:4326\r\n",
      "#   time:\r\n",
      "#     long_name = Time of measurement\r\n",
      "#     standard_name = time\r\n",
      "#     units = seconds since 1970-01-01 00:00:00\r\n",
      "#     time_origin = 1970-01-01 00:00:00\r\n",
      "#     time_zone = UTC\r\n",
      "#     abbreviation = Date/Time\r\n",
      "#     _CoordinateAxisType = Time\r\n",
      "#     axis = T\r\n",
      "#     calendar = gregorian\r\n",
      "#   temperature:\r\n",
      "#     _FillValue = -999.0\r\n",
      "#     least_significant_digit = 1\r\n",
      "#     long_name = Air temperature at 2 m height\r\n",
      "#     standard_name = air_temperature\r\n",
      "#     coordinates = time latitude longitude elevation\r\n",
      "#     abbreviation = temp\r\n",
      "#     units = K\r\n",
      "#     grid_mapping = crs\r\n",
      "time,temperature\r\n",
      "2008-07-30 00:00:00,\r\n",
      "2008-07-30 00:05:00,\r\n",
      "2008-07-30 00:10:00,\r\n",
      "2008-07-30 00:15:00,\r\n",
      "2008-07-30 00:20:00,\r\n",
      "2008-07-30 00:25:00,\r\n",
      "2008-07-30 00:30:00,\r\n",
      "2008-07-30 00:35:00,\r\n",
      "2008-07-30 00:40:00,\r\n",
      "2008-07-30 00:45:00,\r\n",
      "2008-07-30 00:50:00,\r\n",
      "2008-07-30 00:55:00,\r\n"
     ]
    }
   ],
   "source": [
    "# As CSV / with header \n",
    "!ins-cat ABJ.nc  --type csv -hd | head -100"
   ]
  },
  {
   "cell_type": "code",
   "execution_count": 47,
   "id": "789701df",
   "metadata": {
    "ExecuteTime": {
     "end_time": "2023-11-02T11:10:12.250089397Z",
     "start_time": "2023-11-02T11:10:10.786307037Z"
    }
   },
   "outputs": [
    {
     "name": "stdout",
     "output_type": "stream",
     "text": [
      "                    temperature\r\n",
      "2008-08-01 22:00:00 296.8      \r\n",
      "2008-08-01 22:05:00 296.8      \r\n",
      "2008-08-01 22:10:00 296.9      \r\n",
      "2008-08-01 22:15:00 296.9      \r\n",
      "2008-08-01 22:20:00 297.0      \r\n",
      "2008-08-01 22:25:00 297.0      \r\n",
      "2008-08-01 22:30:00 297.1      \r\n",
      "2008-08-01 22:35:00 297.0      \r\n",
      "2008-08-01 22:40:00 296.9      \r\n",
      "2008-08-01 22:45:00 296.9      \r\n",
      "2008-08-01 22:50:00 296.9      \r\n",
      "2008-08-01 22:55:00 296.8      \r\n"
     ]
    }
   ],
   "source": [
    "# Filter on single hour \n",
    "!ins-cat ABJ.nc -f 2008-08-01T22"
   ]
  },
  {
   "cell_type": "code",
   "execution_count": 48,
   "id": "5298e846",
   "metadata": {
    "ExecuteTime": {
     "end_time": "2023-11-02T11:10:13.667555520Z",
     "start_time": "2023-11-02T11:10:12.259961682Z"
    }
   },
   "outputs": [
    {
     "name": "stdout",
     "output_type": "stream",
     "text": [
      "┏━━━━━━━━━━━━━┳━━━━━━━┳━━━━━━━━┳━━━━━━━━┳━━━━━━━━┓\r\n",
      "┃\u001B[1m \u001B[0m\u001B[1mcolumn     \u001B[0m\u001B[1m \u001B[0m┃\u001B[1m \u001B[0m\u001B[1mcount\u001B[0m\u001B[1m \u001B[0m┃\u001B[1m \u001B[0m\u001B[1mmin   \u001B[0m\u001B[1m \u001B[0m┃\u001B[1m \u001B[0m\u001B[1mmax   \u001B[0m\u001B[1m \u001B[0m┃\u001B[1m \u001B[0m\u001B[1mmean  \u001B[0m\u001B[1m \u001B[0m┃\r\n",
      "┡━━━━━━━━━━━━━╇━━━━━━━╇━━━━━━━━╇━━━━━━━━╇━━━━━━━━┩\r\n",
      "│ temperature │ 287   │ 296.38 │ 305.38 │ 299.33 │\r\n",
      "└─────────────┴───────┴────────┴────────┴────────┘\r\n"
     ]
    }
   ],
   "source": [
    "# Show statistics\n",
    "!ins-cat ABJ.nc -z"
   ]
  },
  {
   "cell_type": "code",
   "execution_count": null,
   "id": "538ddc26",
   "metadata": {},
   "outputs": [],
   "source": []
  }
 ],
 "metadata": {
  "kernelspec": {
   "name": "libinsitu",
   "language": "python",
   "display_name": "libinsitu"
  },
  "language_info": {
   "codemirror_mode": {
    "name": "ipython",
    "version": 3
   },
   "file_extension": ".py",
   "mimetype": "text/x-python",
   "name": "python",
   "nbconvert_exporter": "python",
   "pygments_lexer": "ipython3",
   "version": "3.10.12"
  },
  "toc": {
   "base_numbering": 1,
   "nav_menu": {},
   "number_sections": true,
   "sideBar": true,
   "skip_h1_title": false,
   "title_cell": "Table of Contents",
   "title_sidebar": "Contents",
   "toc_cell": false,
   "toc_position": {},
   "toc_section_display": true,
   "toc_window_display": true
  },
  "varInspector": {
   "cols": {
    "lenName": 16,
    "lenType": 16,
    "lenVar": 40
   },
   "kernels_config": {
    "python": {
     "delete_cmd_postfix": "",
     "delete_cmd_prefix": "del ",
     "library": "var_list.py",
     "varRefreshCmd": "print(var_dic_list())"
    },
    "r": {
     "delete_cmd_postfix": ") ",
     "delete_cmd_prefix": "rm(",
     "library": "var_list.r",
     "varRefreshCmd": "cat(var_dic_list()) "
    }
   },
   "types_to_exclude": [
    "module",
    "function",
    "builtin_function_or_method",
    "instance",
    "_Feature"
   ],
   "window_display": false
  }
 },
 "nbformat": 4,
 "nbformat_minor": 5
}
