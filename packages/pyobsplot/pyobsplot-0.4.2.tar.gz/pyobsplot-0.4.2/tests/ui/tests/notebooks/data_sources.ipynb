{
 "cells": [
  {
   "cell_type": "code",
   "execution_count": null,
   "metadata": {},
   "outputs": [],
   "source": [
    "from pyobsplot import Obsplot, Plot, d3, Math, js\n",
    "op = Obsplot()\n",
    "\n",
    "import polars as pl\n",
    "import pandas as pd\n",
    "\n",
    "simpsons_pl = pl.read_csv(\"data/simpsons.csv\")\n",
    "simpsons_pd = simpsons_pl.to_pandas()\n",
    "\n",
    "# polars dataframe\n",
    "op({\n",
    "  \"marks\": [\n",
    "    Plot.dot(simpsons_pl, {\"x\": \"number_in_season\", \"y\": \"imdb_rating\"}),\n",
    "  ]    \n",
    "})\n"
   ]
  },
  {
   "cell_type": "code",
   "execution_count": null,
   "metadata": {},
   "outputs": [],
   "source": [
    "# pandas dataframe\n",
    "op({\n",
    "  \"marks\": [\n",
    "    Plot.dot(simpsons_pd, {\"x\": \"number_in_season\", \"y\": \"imdb_rating\"}),\n",
    "  ]    \n",
    "})\n"
   ]
  },
  {
   "cell_type": "code",
   "execution_count": null,
   "metadata": {},
   "outputs": [],
   "source": [
    "# polars series\n",
    "op({\n",
    "  \"marks\": [\n",
    "    Plot.tickX(simpsons_pl.get_column(\"imdb_rating\"), {\"x\": \"imdb_rating\"}),\n",
    "  ]    \n",
    "})\n"
   ]
  },
  {
   "cell_type": "code",
   "execution_count": null,
   "metadata": {},
   "outputs": [],
   "source": [
    "# pandas series\n",
    "op({\n",
    "  \"marks\": [\n",
    "    Plot.tickX(simpsons_pd[\"imdb_rating\"], {\"x\": \"imdb_rating\"}),\n",
    "  ]    \n",
    "})\n"
   ]
  }
 ],
 "metadata": {
  "kernelspec": {
   "display_name": "Python 3",
   "language": "python",
   "name": "python3"
  },
  "language_info": {
   "codemirror_mode": {
    "name": "ipython",
    "version": 3
   },
   "file_extension": ".py",
   "mimetype": "text/x-python",
   "name": "python",
   "nbconvert_exporter": "python",
   "pygments_lexer": "ipython3",
   "version": "3.10.10"
  },
  "orig_nbformat": 4
 },
 "nbformat": 4,
 "nbformat_minor": 2
}
