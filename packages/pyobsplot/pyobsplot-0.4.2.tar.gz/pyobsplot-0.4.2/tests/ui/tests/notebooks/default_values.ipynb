{
 "cells": [
  {
   "cell_type": "code",
   "execution_count": null,
   "metadata": {},
   "outputs": [],
   "source": [
    "import polars as pl\n",
    "from pyobsplot import Obsplot, Plot\n",
    "default = {\"width\": 200, \"style\": {\"color\": \"white\", \"background-color\": \"#005\"}}\n",
    "opw = Obsplot(renderer=\"widget\")\n",
    "\n",
    "df = pl.DataFrame({\"x\": range(4), \"col\": list(\"AABB\")})\n",
    "\n",
    "opw(Plot.lineY(range(4)))"
   ]
  },
  {
   "cell_type": "code",
   "execution_count": null,
   "metadata": {},
   "outputs": [],
   "source": [
    "opwd = Obsplot(renderer=\"widget\", default=default)\n",
    "opwd(Plot.lineY(range(4)))"
   ]
  },
  {
   "cell_type": "code",
   "execution_count": null,
   "metadata": {},
   "outputs": [],
   "source": [
    "opw({\n",
    "    \"color\": {\"legend\": True},\n",
    "    \"marks\": [Plot.dot(df, {\"x\": \"x\", \"fill\": \"col\"})]\n",
    "})"
   ]
  },
  {
   "cell_type": "code",
   "execution_count": null,
   "metadata": {},
   "outputs": [],
   "source": [
    "opwd({\n",
    "    \"color\": {\"legend\": True},\n",
    "    \"marks\": [Plot.dot(df, {\"x\": \"x\", \"fill\": \"col\"})]\n",
    "})"
   ]
  },
  {
   "cell_type": "code",
   "execution_count": null,
   "metadata": {},
   "outputs": [],
   "source": [
    "opj = Obsplot(renderer=\"jsdom\")\n",
    "opj(Plot.lineY(range(4)))"
   ]
  },
  {
   "cell_type": "code",
   "execution_count": null,
   "metadata": {},
   "outputs": [],
   "source": [
    "opjd = Obsplot(renderer=\"jsdom\", default=default)\n",
    "opjd(Plot.lineY(range(4)))"
   ]
  },
  {
   "cell_type": "code",
   "execution_count": null,
   "metadata": {},
   "outputs": [],
   "source": [
    "opj({\n",
    "    \"color\": {\"legend\": True},\n",
    "    \"marks\": [Plot.dot(df, {\"x\": \"x\", \"fill\": \"col\"})]\n",
    "})"
   ]
  },
  {
   "cell_type": "code",
   "execution_count": null,
   "metadata": {},
   "outputs": [],
   "source": [
    "opjd({\n",
    "    \"color\": {\"legend\": True},\n",
    "    \"marks\": [Plot.dot(df, {\"x\": \"x\", \"fill\": \"col\"})]\n",
    "})"
   ]
  }
 ],
 "metadata": {
  "kernelspec": {
   "display_name": "Python 3",
   "language": "python",
   "name": "python3"
  },
  "language_info": {
   "codemirror_mode": {
    "name": "ipython",
    "version": 3
   },
   "file_extension": ".py",
   "mimetype": "text/x-python",
   "name": "python",
   "nbconvert_exporter": "python",
   "pygments_lexer": "ipython3",
   "version": "3.10.10"
  },
  "orig_nbformat": 4
 },
 "nbformat": 4,
 "nbformat_minor": 2
}
