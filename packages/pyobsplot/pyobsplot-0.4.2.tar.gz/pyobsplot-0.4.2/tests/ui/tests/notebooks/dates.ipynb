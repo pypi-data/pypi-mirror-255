{
 "cells": [
  {
   "cell_type": "code",
   "execution_count": null,
   "metadata": {},
   "outputs": [],
   "source": [
    "from pyobsplot import Obsplot, Plot, d3, Math, js\n",
    "op = Obsplot()\n",
    "\n",
    "import polars as pl\n",
    "import pandas as pd\n",
    "import datetime\n",
    "\n",
    "# Dates passed as JS array\n",
    "op({\"x\": {\"domain\": js(\"[new Date('2021-01-01'), new Date('2022-01-01')]\")}, \"grid\": True})"
   ]
  },
  {
   "cell_type": "code",
   "execution_count": null,
   "metadata": {},
   "outputs": [],
   "source": [
    "# Dates passed as array of JS\n",
    "op({\"x\": {\"domain\": [js(\"new Date('2021-01-01')\"), js(\"new Date('2022-01-01')\")]}, \"grid\": True})"
   ]
  },
  {
   "cell_type": "code",
   "execution_count": null,
   "metadata": {},
   "outputs": [],
   "source": [
    "# Dates passed as datetime.date\n",
    "op({\"x\": {\"domain\": [datetime.date(2021,1,1), datetime.date(2022,1,1)]}, \"grid\": True})"
   ]
  },
  {
   "cell_type": "code",
   "execution_count": null,
   "metadata": {},
   "outputs": [],
   "source": [
    "# datetime.datetime\n",
    "op(\n",
    "    {\n",
    "        \"x\": {\n",
    "            \"type\": \"time\",\n",
    "            \"domain\": [\n",
    "                datetime.datetime(2021, 1, 1, 8, 0, 0),\n",
    "                datetime.datetime(2021, 1, 1, 8, 1, 0),\n",
    "            ],\n",
    "        },\n",
    "        \"grid\": True,\n",
    "    }\n",
    ")"
   ]
  },
  {
   "cell_type": "code",
   "execution_count": null,
   "metadata": {},
   "outputs": [],
   "source": [
    "# datetime.date in polars DataFrame\n",
    "d_pl = pl.DataFrame({\n",
    "    \"Date\": [datetime.date(2021,1,1), datetime.date(2021,1,2), datetime.date(2021,1,3)],\n",
    "    \"value\": [1,2,3]\n",
    "})\n",
    "op({\n",
    "    \"marks\": [Plot.dot(d_pl, {\"x\": \"Date\", \"y\": \"value\"})]\n",
    "})"
   ]
  },
  {
   "cell_type": "code",
   "execution_count": null,
   "metadata": {},
   "outputs": [],
   "source": [
    "# datetime.datetime in polars DataFrame\n",
    "d_pl = pl.DataFrame({\n",
    "    \"Date\": [datetime.datetime(2021,1,1,8,0,0), datetime.datetime(2021,1,1,8,0,1), datetime.datetime(2021,1,1,8,0,2)],\n",
    "    \"value\": [1,2,3]\n",
    "})\n",
    "op({\n",
    "    \"marks\": [Plot.dot(d_pl, {\"x\": \"Date\", \"y\": \"value\"})]\n",
    "})"
   ]
  },
  {
   "cell_type": "code",
   "execution_count": null,
   "metadata": {},
   "outputs": [],
   "source": [
    "# datetime.date in pandas DataFrame\n",
    "d_pd = pd.DataFrame({\n",
    "    \"Date\": [datetime.date(2021,1,1), datetime.date(2021,1,2), datetime.date(2021,1,3)],\n",
    "    \"value\": [1,2,3]\n",
    "})\n",
    "op({\n",
    "    \"marks\": [Plot.dot(d_pd, {\"x\": \"Date\", \"y\": \"value\"})]\n",
    "})"
   ]
  },
  {
   "cell_type": "code",
   "execution_count": null,
   "metadata": {},
   "outputs": [],
   "source": [
    "# datetime.datetime in pandas DataFrame\n",
    "d_pd = pd.DataFrame({\n",
    "    \"Date\": [datetime.datetime(2021,1,1,8,0,0), datetime.datetime(2021,1,1,8,0,1), datetime.datetime(2021,1,1,8,0,2)],\n",
    "    \"value\": [1,2,3]\n",
    "})\n",
    "op({\n",
    "    \"marks\": [Plot.dot(d_pd, {\"x\": \"Date\", \"y\": \"value\"})]\n",
    "})"
   ]
  }
 ],
 "metadata": {
  "kernelspec": {
   "display_name": "Python 3",
   "language": "python",
   "name": "python3"
  },
  "language_info": {
   "codemirror_mode": {
    "name": "ipython",
    "version": 3
   },
   "file_extension": ".py",
   "mimetype": "text/x-python",
   "name": "python",
   "nbconvert_exporter": "python",
   "pygments_lexer": "ipython3",
   "version": "3.10.12"
  },
  "orig_nbformat": 4
 },
 "nbformat": 4,
 "nbformat_minor": 2
}
