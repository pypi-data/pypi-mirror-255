{
 "cells": [
  {
   "cell_type": "code",
   "execution_count": 1,
   "metadata": {},
   "outputs": [],
   "source": [
    "from pyobsplot import Obsplot, Plot, d3, Math, js\n",
    "op = Obsplot()\n",
    "\n",
    "import polars as pl\n",
    "\n",
    "penguins = pl.read_csv(\"data/penguins.csv\")\n",
    "\n",
    "# Transform with two dict args\n",
    "op({\n",
    "  \"y\": {\n",
    "    \"grid\": True\n",
    "  },\n",
    "  \"marks\": [\n",
    "    Plot.barY(penguins, Plot.groupX({\"y\": \"count\"}, {\"x\": \"species\"})),\n",
    "    Plot.ruleY([0])\n",
    "  ]\n",
    "})"
   ]
  }
 ],
 "metadata": {
  "kernelspec": {
   "display_name": "Python 3",
   "language": "python",
   "name": "python3"
  },
  "language_info": {
   "codemirror_mode": {
    "name": "ipython",
    "version": 3
   },
   "file_extension": ".py",
   "mimetype": "text/x-python",
   "name": "python",
   "nbconvert_exporter": "python",
   "pygments_lexer": "ipython3",
   "version": "3.10.10"
  },
  "orig_nbformat": 4
 },
 "nbformat": 4,
 "nbformat_minor": 2
}
