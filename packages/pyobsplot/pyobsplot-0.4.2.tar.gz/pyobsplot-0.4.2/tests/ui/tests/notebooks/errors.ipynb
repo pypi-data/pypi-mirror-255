{
 "cells": [
  {
   "cell_type": "code",
   "execution_count": null,
   "metadata": {},
   "outputs": [],
   "source": [
    "from pyobsplot import Obsplot, Plot, d3, Math, js\n",
    "op = Obsplot()\n",
    "\n",
    "import polars as pl\n",
    "\n",
    "df = pl.DataFrame(\n",
    "    {\"x\": list(range(10)), \"y\": list(range(10))[::-1], \"type\": list(\"aaabbbccdd\")}\n",
    ")\n",
    "\n",
    "# Missing array for marks\n",
    "op(\n",
    "    {\n",
    "        \"marks\": Plot.dot(df, {\"x\": \"x\", \"y\": \"y\", \"fill\": \"type\"}),\n",
    "    }\n",
    ")\n"
   ]
  },
  {
   "cell_type": "code",
   "execution_count": null,
   "metadata": {},
   "outputs": [],
   "source": [
    "# null data\n",
    "op(\n",
    "    {\n",
    "        \"marks\": [Plot.dot(None)]\n",
    "    }\n",
    ")\n"
   ]
  }
 ],
 "metadata": {
  "kernelspec": {
   "display_name": "Python 3",
   "language": "python",
   "name": "python3"
  },
  "language_info": {
   "codemirror_mode": {
    "name": "ipython",
    "version": 3
   },
   "file_extension": ".py",
   "mimetype": "text/x-python",
   "name": "python",
   "nbconvert_exporter": "python",
   "pygments_lexer": "ipython3",
   "version": "3.10.10"
  },
  "orig_nbformat": 4
 },
 "nbformat": 4,
 "nbformat_minor": 2
}
