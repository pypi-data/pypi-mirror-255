{
 "cells": [
  {
   "cell_type": "code",
   "execution_count": 2,
   "metadata": {},
   "outputs": [
    {
     "name": "stdout",
     "output_type": "stream",
     "text": [
      "The Full Query is: python\n"
     ]
    },
    {
     "data": {
      "application/vnd.jupyter.widget-view+json": {
       "model_id": "887c7ed1c60e4be48fd599e121131ad8",
       "version_major": 2,
       "version_minor": 0
      },
      "text/plain": [
       "Fetching Repositories:   0%|          | 0/4 [00:00<?, ?it/s]"
      ]
     },
     "metadata": {},
     "output_type": "display_data"
    },
    {
     "name": "stdout",
     "output_type": "stream",
     "text": [
      "fetching repositories: 0\n",
      "fetching repositories: 30\n",
      "fetching repositories: 60\n",
      "fetching repositories: 90\n",
      "fetched 100 repositories\n",
      "Saved to fetched_repos.csv\n"
     ]
    }
   ],
   "source": [
    "\n",
    "from enigma_ai.data import scrape\n",
    "\n",
    "# Set up your GitHub API token\n",
    "github_token = 'your_github_api_token'\n",
    "\n",
    "# Define your search query and parameters\n",
    "search_term = 'pentest'\n",
    "max_results = 100\n",
    "filename = 'fetched_repos.csv'\n",
    "\n",
    "# Fetch repositories matching the query\n",
    "repos_df = scrape.fetch_repos(github_token, max_results, filename, search_term, min_stars=100)\n"
   ]
  },
  {
   "cell_type": "code",
   "execution_count": null,
   "metadata": {},
   "outputs": [],
   "source": [
    "from enigma_ai.data import process\n",
    "import pandas as pd\n",
    "\n",
    "# Load the previously fetched repository data\n",
    "filename = 'fetched_repos.csv'\n",
    "repos_df = pd.read_csv(filename)\n",
    "\n",
    "#Limit the number of repositories to process\n",
    "repos_df = repos_df.head(1)\n",
    "\n",
    "# Extract code files from the repositories\n",
    "repos_with_code = process.extract_code_from_repos(repos_df, filename, github_token)\n",
    "\n",
    "#Print the first 1000 characters of the README.md file of the first repository\n",
    "print(repos_with_code['code'].values[0]['Markdown']['README.md'][:1000])\n"
   ]
  },
  {
   "cell_type": "code",
   "execution_count": null,
   "metadata": {},
   "outputs": [],
   "source": []
  },
  {
   "cell_type": "code",
   "execution_count": null,
   "metadata": {},
   "outputs": [],
   "source": []
  }
 ],
 "metadata": {
  "kernelspec": {
   "display_name": "amazon",
   "language": "python",
   "name": "python3"
  },
  "language_info": {
   "codemirror_mode": {
    "name": "ipython",
    "version": 3
   },
   "file_extension": ".py",
   "mimetype": "text/x-python",
   "name": "python",
   "nbconvert_exporter": "python",
   "pygments_lexer": "ipython3",
   "version": "3.9.16"
  }
 },
 "nbformat": 4,
 "nbformat_minor": 2
}
