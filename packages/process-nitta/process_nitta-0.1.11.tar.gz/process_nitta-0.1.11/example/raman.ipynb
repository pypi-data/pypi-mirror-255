{
 "cells": [
  {
   "cell_type": "markdown",
   "metadata": {},
   "source": [
    "下記のリンクにアクセスしてください。\n",
    "\n",
    "https://colab.research.google.com/github/nitta-lab-polymer/process-nitta/blob/main/example/raman.ipynb"
   ]
  },
  {
   "cell_type": "code",
   "execution_count": null,
   "metadata": {},
   "outputs": [],
   "source": [
    "# google colab用のセットアップスクリプト\n",
    "!git clone -q https://github.com/nitta-lab-polymer/process-nitta.git\n",
    "%pip install -qU pydantic 2>/dev/null"
   ]
  },
  {
   "cell_type": "code",
   "execution_count": null,
   "metadata": {},
   "outputs": [],
   "source": [
    "%pip install -U process-nitta"
   ]
  },
  {
   "cell_type": "code",
   "execution_count": null,
   "metadata": {},
   "outputs": [],
   "source": [
    "from process_nitta import RamanSample\n",
    "\n",
    "sample = RamanSample(\n",
    "    file_path=\"./process-nitta/sample_data/raman.txt\",\n",
    "    name=\"sample\",\n",
    ")\n",
    "df = sample.get_result_df()\n",
    "df"
   ]
  }
 ],
 "metadata": {
  "kernelspec": {
   "display_name": "Python 3",
   "language": "python",
   "name": "python3"
  },
  "language_info": {
   "codemirror_mode": {
    "name": "ipython",
    "version": 3
   },
   "file_extension": ".py",
   "mimetype": "text/x-python",
   "name": "python",
   "nbconvert_exporter": "python",
   "pygments_lexer": "ipython3",
   "version": "3.12.1"
  }
 },
 "nbformat": 4,
 "nbformat_minor": 2
}
