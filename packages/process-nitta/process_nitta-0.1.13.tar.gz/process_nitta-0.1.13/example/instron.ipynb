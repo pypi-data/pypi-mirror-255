{
 "cells": [
  {
   "cell_type": "markdown",
   "metadata": {},
   "source": [
    "下記のリンクにアクセスしてください。\n",
    "\n",
    "https://colab.research.google.com/github/nitta-lab-polymer/process-nitta/blob/main/example/instron.ipynb"
   ]
  },
  {
   "cell_type": "code",
   "execution_count": null,
   "metadata": {},
   "outputs": [],
   "source": [
    "# google colab用のセットアップスクリプト\n",
    "!git clone -q https://github.com/nitta-lab-polymer/process-nitta.git\n",
    "%pip install -qU pydantic 2>/dev/null"
   ]
  },
  {
   "cell_type": "code",
   "execution_count": null,
   "metadata": {},
   "outputs": [],
   "source": [
    "%pip install -U process-nitta"
   ]
  },
  {
   "cell_type": "code",
   "execution_count": null,
   "metadata": {},
   "outputs": [],
   "source": [
    "from process_nitta import InstronSample\n",
    "\n",
    "sample = InstronSample(\n",
    "    file_path=\"./process-nitta/sample_data/instron.csv\",\n",
    "    name=\"sample\",\n",
    "    width_mm=2,\n",
    "    length_mm=10,\n",
    "    thickness_μm=2000,\n",
    "    speed_mm_per_min=10,\n",
    ")\n",
    "df = sample.get_result_df()\n",
    "df"
   ]
  }
 ],
 "metadata": {
  "kernelspec": {
   "display_name": "Python 3",
   "language": "python",
   "name": "python3"
  },
  "language_info": {
   "codemirror_mode": {
    "name": "ipython",
    "version": 3
   },
   "file_extension": ".py",
   "mimetype": "text/x-python",
   "name": "python",
   "nbconvert_exporter": "python",
   "pygments_lexer": "ipython3",
   "version": "3.12.1"
  }
 },
 "nbformat": 4,
 "nbformat_minor": 2
}
