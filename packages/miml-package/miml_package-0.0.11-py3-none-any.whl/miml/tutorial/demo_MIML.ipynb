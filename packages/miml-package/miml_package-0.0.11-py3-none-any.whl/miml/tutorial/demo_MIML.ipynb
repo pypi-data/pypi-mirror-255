{
  "nbformat": 4,
  "nbformat_minor": 0,
  "metadata": {
    "colab": {
      "provenance": [],
      "authorship_tag": "ABX9TyOF1/ZhmjxUdRQpHiovQpwl",
      "include_colab_link": true
    },
    "kernelspec": {
      "name": "python3",
      "display_name": "Python 3"
    },
    "language_info": {
      "name": "python"
    }
  },
  "cells": [
    {
      "cell_type": "markdown",
      "metadata": {
        "id": "view-in-github",
        "colab_type": "text"
      },
      "source": [
        "<a href=\"https://colab.research.google.com/github/p82maavd/MIML/blob/main/demo_MIML.ipynb\" target=\"_parent\"><img src=\"https://colab.research.google.com/assets/colab-badge.svg\" alt=\"Open In Colab\"/></a>"
      ]
    },
    {
      "cell_type": "markdown",
      "source": [
        "# Imports"
      ],
      "metadata": {
        "id": "EIHdWivo_A-O"
      }
    },
    {
      "cell_type": "code",
      "source": [
        "import numpy as np\n",
        "import requests\n",
        "from sklearn.multioutput import MultiOutputClassifier\n",
        "from sklearn.ensemble import RandomForestClassifier\n",
        "from sklearn.metrics import classification_report\n",
        "from sklearn.metrics import hamming_loss\n"
      ],
      "metadata": {
        "id": "QzNO0umJMSfM"
      },
      "execution_count": 7,
      "outputs": []
    },
    {
      "cell_type": "markdown",
      "source": [
        "# Obtención de datasets"
      ],
      "metadata": {
        "id": "l1cCIhXu_Jzx"
      }
    },
    {
      "cell_type": "code",
      "source": [
        "toy = requests.get('https://drive.google.com/uc?export=download&confirm=9_s_&id=' + '1WDnCfmX20-Oyc7wowTqh6Xvl_tTgok-Z').text\n",
        "miml_birds = requests.get('https://drive.google.com/uc?export=download&confirm=9_s_&id=' + '1FVf-cJQxNBQnKss1GMuLcDmQtD0qoRJ5').text\n",
        "miml_birds_train = requests.get('https://drive.google.com/uc?export=download&confirm=9_s_&id=' + '1BCt6Ohz3x3tFYfrjFfvlNV0sovkEmLn8').text\n",
        "miml_birds_test = requests.get('https://drive.google.com/uc?export=download&confirm=9_s_&id=' + '108SLl5pog-V1nkhAgJxp2aFmVJVl4azP').text"
      ],
      "metadata": {
        "id": "BUorgIV2_Qoq"
      },
      "execution_count": 6,
      "outputs": []
    },
    {
      "cell_type": "markdown",
      "source": [
        "# Clase para gestionar datasets MIML en .arff"
      ],
      "metadata": {
        "id": "AYTbl78HBtuZ"
      }
    },
    {
      "cell_type": "code",
      "execution_count": 8,
      "metadata": {
        "id": "L-_qkpnOxj_V"
      },
      "outputs": [],
      "source": [
        "class MIMLArff:\n",
        "    def __init__(self) -> None:\n",
        "        self.name = \"undefined\"\n",
        "        self.attributes = []\n",
        "        self.data = dict()\n",
        "        self.numberlabels=0\n",
        "\n",
        "    def setName(self, name):\n",
        "        self.name = name\n",
        "    def getName(self):\n",
        "        return self.name\n",
        "\n",
        "    def setAttributes(self, attributes):\n",
        "        self.attributes=attributes\n",
        "    def getAttributes(self):\n",
        "        return self.attributes\n",
        "\n",
        "    def setNumberLabels(self, labels):\n",
        "        self.numberlabels=labels\n",
        "    def getNumberLabels(self):\n",
        "        return self.numberlabels\n",
        "\n",
        "    def addBag(self,key,values,labels):\n",
        "        self.data[key]=(values,labels)\n",
        "\n",
        "    def showArff(self):\n",
        "        #TODO: Improve this to table style\n",
        "        for keys,values in self.data.items():\n",
        "            print(keys)\n",
        "            print(values)\n"
      ]
    },
    {
      "cell_type": "markdown",
      "source": [
        "# Lectura datasets"
      ],
      "metadata": {
        "id": "LU8tMd3JCgHd"
      }
    },
    {
      "cell_type": "code",
      "source": [
        "def arffMIMLReader(file,delimiter=\"'\"):\n",
        "\n",
        "    arff = MIMLArff()\n",
        "    #arff_file = open(file)\n",
        "    file=file.split(\"\\n\")\n",
        "    attrib=[]\n",
        "    flag=0\n",
        "    for line in file:\n",
        "\n",
        "            #Comprobamos que la cadena no contenga espacios en blanco a la izquierda ni que sea vacía\n",
        "            line=line.lstrip()\n",
        "            if line==\"\":\n",
        "                continue\n",
        "\n",
        "\n",
        "            if line.startswith(\"@\"):\n",
        "                if not (line.startswith(\"%\")):\n",
        "                    if line.startswith(\"@relation\"):\n",
        "                        arff.setName(line[line.find(\" \")+1:])\n",
        "                    elif line.startswith(\"@attribute bag relational\"):\n",
        "                        flag = 1\n",
        "                    elif line.startswith(\"@end bag\"):\n",
        "                        flag = 0\n",
        "                    elif flag==1:\n",
        "                        if line.startswith(\"@attribute\"):\n",
        "\n",
        "                            attrib.append(line[line.find(\" \")+1:line.find(\" \",line.find(\" \")+1)])\n",
        "\n",
        "\n",
        "            else:\n",
        "                #Eliminanos el salto de línea del final de la cadena\n",
        "                line=line.strip(\"\\n\")\n",
        "\n",
        "                #Asumimos que el primer elemento de cada instancia es el identificador de la bolsa\n",
        "                key = line[0:line.find(\",\")]\n",
        "                #print(\"Key: \", key)\n",
        "\n",
        "                #Empiezan los datos de la bolsa cuando encontremos la primera '\"' y terminan con la segunda '\"'\n",
        "                line=line[line.find(delimiter)+1:]\n",
        "                #TODO: Testeo con toy.arff\n",
        "                values = line[:line.find(delimiter,line.find(delimiter,line.find(delimiter)))]\n",
        "                #Separamos los valores por instancias de la bolsa\n",
        "                values=values.split(\"\\\\n\")\n",
        "                #print(\"Values \", values)\n",
        "\n",
        "                #El resto de la cadena se trata de las etiquetas\n",
        "                labels=line[line.find(delimiter,line.find(delimiter,line.find(delimiter)))+2:]\n",
        "                arff.setNumberLabels(len(labels.split(\",\")))\n",
        "                #print(\"Labels: \", labels)\n",
        "\n",
        "                valueslist=[]\n",
        "                for v in values:\n",
        "                    valueslist.append(np.array([float(i) for i in v.split(',')]))\n",
        "\n",
        "                arff.addBag(key,np.array(valueslist),np.array([int(i) for i in labels.split(',')]))\n",
        "                    #TODO: añadir gestion atributos\n",
        "                    #TODO: quizas separar en funciones para data y para atributos\n",
        "                    #TODO: incluso diccionario aparte para stats\n",
        "\n",
        "    arff.setAttributes(attrib)\n",
        "    return arff"
      ],
      "metadata": {
        "id": "k5NdUIqGYT-X"
      },
      "execution_count": 35,
      "outputs": []
    },
    {
      "cell_type": "markdown",
      "source": [
        "# Transformación MIML a ML"
      ],
      "metadata": {
        "id": "4lWdMNxTEMmD"
      }
    },
    {
      "cell_type": "code",
      "source": [
        "def convertToMultiLabel(arff):\n",
        "    #TODO: Media aritmetica, geometrica, min-max\n",
        "    x = np.empty(shape=(len(arff.data.keys()),len(arff.getAttributes())))\n",
        "    y = np.empty(shape=(len(arff.data.keys()),arff.getNumberLabels()))\n",
        "    count=0\n",
        "    for keys,pattern in arff.data.items():\n",
        "            newinstance=np.empty(pattern[0][0].shape[0])\n",
        "            for instance in pattern[0]:\n",
        "                newinstance+=instance\n",
        "            newinstance/=pattern[0].shape[0]\n",
        "            #print(newinstance)\n",
        "            x[count]=newinstance\n",
        "            y[count]=pattern[1]\n",
        "            count+=1\n",
        "    #print(\"X Data: \",x)\n",
        "    #print(\"Y Data: \",y)\n",
        "\n",
        "    return x,y"
      ],
      "metadata": {
        "id": "tt9bxmyvEUdv"
      },
      "execution_count": 31,
      "outputs": []
    },
    {
      "cell_type": "markdown",
      "source": [
        "# Demo de ejecución"
      ],
      "metadata": {
        "id": "Rf5EX0HXEtZA"
      }
    },
    {
      "cell_type": "code",
      "source": [
        "birdstrain=arffMIMLReader(miml_birds_train)\n",
        "X_train,y_train = convertToMultiLabel(birdstrain)\n",
        "\n",
        "birdstest=arffMIMLReader(miml_birds_test)\n",
        "X_test, y_test= convertToMultiLabel(birdstest)\n",
        "\n",
        "\n",
        "classifier = MultiOutputClassifier(RandomForestClassifier(random_state=27))\n",
        "classifier.fit(X_train, y_train)\n",
        "\n",
        "# Predicciones\n",
        "y_pred = classifier.predict(X_test)\n",
        "\n",
        "# Evaluación del modelo\n",
        "print(\"Reporte de clasificación:\\n\", classification_report(y_test, y_pred, zero_division=0))\n",
        "\n",
        "#print(\"Y TEST:\",y_test)\n",
        "#print(\"Y Pred:\",y_pred)\n",
        "\n",
        "print('Hamming Loss: ', round(hamming_loss(y_test, y_pred),2))"
      ],
      "metadata": {
        "colab": {
          "base_uri": "https://localhost:8080/"
        },
        "id": "c1OvYWW9Eyhw",
        "outputId": "8263879f-7ba4-486c-a886-64846e73bd01"
      },
      "execution_count": 36,
      "outputs": [
        {
          "output_type": "stream",
          "name": "stdout",
          "text": [
            "Reporte de clasificación:\n",
            "               precision    recall  f1-score   support\n",
            "\n",
            "           0       0.00      0.00      0.00         3\n",
            "           1       0.92      0.75      0.83        16\n",
            "           2       1.00      0.25      0.40         4\n",
            "           3       0.00      0.00      0.00         0\n",
            "           4       0.00      0.00      0.00         2\n",
            "           5       0.00      0.00      0.00         0\n",
            "           6       1.00      0.60      0.75         5\n",
            "           7       0.00      0.00      0.00         7\n",
            "           8       0.80      0.40      0.53        10\n",
            "           9       0.00      0.00      0.00        10\n",
            "          10       0.62      0.29      0.40        17\n",
            "          11       1.00      0.33      0.50         3\n",
            "          12       0.50      0.33      0.40         3\n",
            "          13       0.00      0.00      0.00         3\n",
            "          14       1.00      0.14      0.25         7\n",
            "          15       0.00      0.00      0.00         3\n",
            "          16       0.00      0.00      0.00         1\n",
            "          17       0.00      0.00      0.00         3\n",
            "          18       1.00      1.00      1.00         3\n",
            "\n",
            "   micro avg       0.82      0.31      0.45       100\n",
            "   macro avg       0.41      0.22      0.27       100\n",
            "weighted avg       0.57      0.31      0.38       100\n",
            " samples avg       0.48      0.34      0.38       100\n",
            "\n",
            "Hamming Loss:  0.08\n"
          ]
        }
      ]
    }
  ]
}