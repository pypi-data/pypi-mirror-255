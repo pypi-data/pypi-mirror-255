{
 "cells": [
  {
   "cell_type": "markdown",
   "id": "cddbeced-dc0c-46c6-b748-8fc20287f340",
   "metadata": {},
   "source": [
    "# Examples from \"Chiral discrimination in helicity-preserving Fabry-Pérot cavities\"\n",
    "These examples show how to calculate the data corresponding to the corrected figures published in the erratum [Phys. Rev. A 108, 069902 (2023)](https://doi.org/10.1103/PhysRevA.108.069902) for the article [\"Chiral discrimination in helicity-preserving Fabry-Pérot cavities\", Phys. Rev. A 107, L021501 (2023)](https://doi.org/10.1103/PhysRevA.107.L021501).\n",
    "\n",
    "For simplicity, we do not include the plotting code to reproduce the exact figures, which feature more complex layouts, annotations, subfigures with cuts of the data, etc."
   ]
  },
  {
   "cell_type": "markdown",
   "id": "f6056797-d2cc-4da3-a287-dc36cca08397",
   "metadata": {},
   "source": [
    "## Import modules"
   ]
  },
  {
   "cell_type": "code",
   "execution_count": null,
   "id": "26ff9010-ad56-4818-9969-b863bd5837ca",
   "metadata": {},
   "outputs": [],
   "source": [
    "import chiral_transfermatrix as ct\n",
    "import numpy as np\n",
    "import matplotlib.pyplot as plt"
   ]
  },
  {
   "cell_type": "markdown",
   "id": "2c1b52cc-cb3c-45c0-a415-f18e6c09a535",
   "metadata": {},
   "source": [
    "## Dielectric permeability $\\varepsilon$ "
   ]
  },
  {
   "cell_type": "code",
   "execution_count": null,
   "id": "58793813-6573-4dd4-acae-895a6b3508c2",
   "metadata": {},
   "outputs": [],
   "source": [
    "def eps_DL(omega, epsinf, omegap, omega0=0, gamma=0):\n",
    "    \"\"\"Drude-Lorentz model for the dielectric function of a material.\"\"\"\n",
    "    eps = epsinf + omegap**2 / (omega0**2 - omega**2 - 1j * gamma * omega)\n",
    "    return eps"
   ]
  },
  {
   "cell_type": "markdown",
   "id": "f9112c61-fddf-479f-8b0c-b7a1163fdef5",
   "metadata": {},
   "source": [
    "## Erratum Fig. 1 and Fig. 2 (corresponding to Fig. 2 and Fig. 4 of the article)"
   ]
  },
  {
   "cell_type": "code",
   "execution_count": null,
   "id": "cf85c5f2-7795-4719-a930-e718196b4d4a",
   "metadata": {},
   "outputs": [],
   "source": [
    "# use numpy broadcasting rules to scan over 3D grid of parameters, results will have indices [i_kappa, i_omega, i_omegap]\n",
    "omegap = np.linspace(0, 1, 401) # in eV\n",
    "omega  = np.linspace(1.65, 2.2, 2400)[:,None] # in eV\n",
    "kappa  = np.linspace(0, -1e-3, 2)[:,None,None]\n",
    "\n",
    "lambda_vac = 1239.8419843320028 / omega # in nm, \"magic\" constant is hc in eV*nm\n",
    "\n",
    "eps_Ag  = eps_DL(omega, epsinf=4.77574276, omegap=9.48300763, omega0=0,   gamma=0.17486845)\n",
    "eps_mol = eps_DL(omega, epsinf=2.89,       omegap=omegap,     omega0=1.9, gamma=0.1)\n",
    "\n",
    "air_infty = ct.MaterialLayer(d=np.inf, eps=1)\n",
    "air_thin  = ct.MaterialLayer(d=0,      eps=1)\n",
    "Ag_mirror = ct.MaterialLayer(d=16,     eps=eps_Ag)\n",
    "molecules = ct.MaterialLayer(d=130,    eps=eps_mol, kappa=kappa)\n",
    "\n",
    "omegaPR = 2\n",
    "gammaPR = 0.05\n",
    "mirror_1 = ct.helicity_preserving_mirror(omega,omegaPR=omegaPR,gammaPR=gammaPR,enantiomer=False)\n",
    "mirror_2 = ct.helicity_preserving_mirror(omega,omegaPR=omegaPR,gammaPR=gammaPR,enantiomer=True)\n",
    "\n",
    "mls_Ag = ct.MultiLayerScatt([air_infty, Ag_mirror,          molecules, Ag_mirror,          air_infty], lambda_vac, theta0=0.)\n",
    "mls_HP = ct.MultiLayerScatt([air_infty, mirror_1, air_thin, molecules, air_thin, mirror_2, air_infty], lambda_vac, theta0=0.)\n",
    "\n",
    "# calculate ΔDCTs corresponding to the difference in DCTs between kappa=-1e-3 and kappa=0\n",
    "# assign them to variables within the result objects mls_Ag and mls_HP\n",
    "mls_Ag.ΔDCTs = mls_Ag.DCTs[1] - mls_Ag.DCTs[0]\n",
    "mls_HP.ΔDCTs = mls_HP.DCTs[1] - mls_HP.DCTs[0]"
   ]
  },
  {
   "cell_type": "markdown",
   "id": "a24dad59-9624-4af8-a89a-fe2e842507c9",
   "metadata": {},
   "source": [
    "## Erratum Fig. 1"
   ]
  },
  {
   "cell_type": "code",
   "execution_count": null,
   "id": "8e1f75d0-1b5a-4ccd-ba5c-704cc6f997b5",
   "metadata": {},
   "outputs": [],
   "source": [
    "fig, axs = plt.subplots(1,3,figsize=(13,4),layout=\"constrained\")\n",
    "\n",
    "for (ax, data, vmax, clabel) in zip(axs,\n",
    "                                    [(mls_Ag.Tsp[1]+mls_Ag.Tsm[1])/2, mls_HP.Tsm[1], mls_HP.Tsp[1]],\n",
    "                                    [0.52, 0.26, 1],\n",
    "                                    [\"$T$\", \"$T_-$\", \"$T_+$\"]):\n",
    "    im = ax.pcolormesh(omegap, omega, data, vmin=0, vmax=vmax, cmap=\"inferno\", shading=\"gouraud\", rasterized=True)\n",
    "    cb = plt.colorbar(im,ax=ax,fraction=0.10,pad=0.01)\n",
    "    cb.ax.set_title(clabel)\n",
    "    ax.set_xlabel(r\"$\\omega_p \\sqrt{f}$ (eV/$\\hbar$)\")\n",
    "axs[0].set_ylabel(r\"$\\omega$ (eV/$\\hbar$)\");"
   ]
  },
  {
   "cell_type": "markdown",
   "id": "8d384a3b-1e18-4008-8640-430298d168be",
   "metadata": {},
   "source": [
    "## Erratum Fig. 2"
   ]
  },
  {
   "cell_type": "code",
   "execution_count": null,
   "id": "e0d3302b-9431-4543-92c4-989424ccb3f9",
   "metadata": {},
   "outputs": [],
   "source": [
    "vmax = abs(mls_HP.ΔDCTs).max()\n",
    "plt.pcolormesh(omegap, omega, mls_HP.ΔDCTs, vmin=-vmax, vmax=vmax, cmap='seismic', shading='gouraud', rasterized=True)\n",
    "cb = plt.colorbar()\n",
    "cb.ax.set_title(r'$\\Delta\\mathrm{DCT}$')\n",
    "plt.xlabel(r\"$\\omega_p \\sqrt{f}$ (eV/$\\hbar$)\")\n",
    "plt.ylabel(r\"$\\omega$ (eV/$\\hbar$)\")\n",
    "plt.xlim(0,0.55)\n",
    "plt.ylim(1.85,2.1);"
   ]
  }
 ],
 "metadata": {
  "language_info": {
   "name": "python"
  }
 },
 "nbformat": 4,
 "nbformat_minor": 5
}
