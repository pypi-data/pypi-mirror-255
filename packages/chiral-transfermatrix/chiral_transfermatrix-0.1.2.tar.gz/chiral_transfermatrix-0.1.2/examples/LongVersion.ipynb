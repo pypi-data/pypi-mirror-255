{
 "cells": [
  {
   "cell_type": "markdown",
   "id": "101ef904-ef3c-403a-8e6e-8d5213a96c02",
   "metadata": {},
   "source": [
    "# Examples from \"Classical Approaches to Chiral Polaritonics\""
   ]
  },
  {
   "cell_type": "markdown",
   "id": "c71507c9-07bf-48e2-a92c-35f3baf953c9",
   "metadata": {},
   "source": [
    "## Import modules"
   ]
  },
  {
   "cell_type": "code",
   "execution_count": null,
   "id": "93fb2608-ac27-4c41-b429-788cc4e0a4e9",
   "metadata": {},
   "outputs": [],
   "source": [
    "import chiral_transfermatrix as ct\n",
    "import numpy as np\n",
    "import matplotlib.pyplot as plt"
   ]
  },
  {
   "cell_type": "markdown",
   "id": "0f034b7e-2252-41ae-aac2-598ce404841c",
   "metadata": {},
   "source": [
    "## Dielectric permeability $\\varepsilon$ and chiral coupling $\\kappa$"
   ]
  },
  {
   "cell_type": "code",
   "execution_count": null,
   "id": "9d621eb0-2df1-4ca7-acf4-7a3586f8167a",
   "metadata": {},
   "outputs": [],
   "source": [
    "def eps_DL(omega, epsinf, omegap, omega0=0, gamma=0, kappa0=0):\n",
    "    \"\"\"Drude-Lorentz model for the dielectric function of a material.\"\"\"\n",
    "    eps = epsinf + omegap**2 / (omega0**2 - omega**2 - 1j * gamma * omega)\n",
    "    # the +1e-200 prevents division by zero when omega0=0 (which is only valid if kappa0=0)\n",
    "    kappa = kappa0 * omega / (omega0+1e-200) * (eps-epsinf)\n",
    "    return eps, kappa"
   ]
  },
  {
   "cell_type": "markdown",
   "id": "ba93a643-7bc8-4297-8ae8-51c36a5b1f39",
   "metadata": {},
   "source": [
    "## Fig. 9a"
   ]
  },
  {
   "cell_type": "code",
   "execution_count": null,
   "id": "0be60b45-b313-4538-94c1-870f8c9d6756",
   "metadata": {},
   "outputs": [],
   "source": [
    "# use numpy broadcasting rules to scan over d and omega, results will have indices [i_omega, i_d]\n",
    "d = np.linspace(10, 500, 500)\n",
    "omega = np.linspace(1.6, 2.4, 500)[:,None] # in eV\n",
    "lambda_vac = 1239.8419843320028 / omega # lambda in nm, \"magic\" constant is hc in eV*nm\n",
    "\n",
    "eps_Ag,  k_Ag  = eps_DL(omega, epsinf=4.77574276, omegap=9.48300763, omega0=0,   gamma=0.17486845, kappa0=0.0)\n",
    "eps_mol, k_mol = eps_DL(omega, epsinf=2.89,       omegap=0.05,       omega0=2.0, gamma=0.05,       kappa0=1e-3)\n",
    "\n",
    "air_infty = ct.MaterialLayer(d=np.inf, eps=1)\n",
    "Ag_mirror = ct.MaterialLayer(d=30,     eps=eps_Ag)\n",
    "molecules = ct.MaterialLayer(d=d,      eps=eps_mol, kappa=k_mol)\n",
    "\n",
    "mls_Ag = ct.MultiLayerScatt([air_infty, Ag_mirror, molecules, Ag_mirror, air_infty], lambda_vac, theta0=0.)"
   ]
  },
  {
   "cell_type": "markdown",
   "id": "8748a23b-bf9f-4342-af14-3cd43c677f41",
   "metadata": {},
   "source": [
    "### Plot"
   ]
  },
  {
   "cell_type": "code",
   "execution_count": null,
   "id": "afb186aa-1f90-4a81-9e0b-3f60f5ffae36",
   "metadata": {},
   "outputs": [],
   "source": [
    "plt.pcolormesh(d, omega, mls_Ag.Tsp, cmap = \"turbo\", shading = \"gouraud\")\n",
    "plt.axhline(y=2.0, color='w', linestyle='--', linewidth=2)\n",
    "cbar = plt.colorbar()\n",
    "plt.xlabel(r\"$L$ (nm)\")\n",
    "plt.ylabel(r\"$\\hbar\\omega$ (eV)\")\n",
    "cbar.set_label(r\"$T_{\\perp,+}$\");"
   ]
  },
  {
   "cell_type": "markdown",
   "id": "269ce803-dca4-4575-962a-4f78c9db12b0",
   "metadata": {},
   "source": [
    "## Fig. 14a"
   ]
  },
  {
   "cell_type": "code",
   "execution_count": null,
   "id": "5b9ceba2-2b9c-4a4a-a172-f0d57b3cada0",
   "metadata": {},
   "outputs": [],
   "source": [
    "d = np.linspace(70, 450, 500)\n",
    "omega  = np.linspace(1.5, 2.9, 500)[:,None]\n",
    "lambda_vac = 1239.8419843320028 / omega # lambda in nm, \"magic\" constant is hc in eV*nm\n",
    "\n",
    "eps_mol, k_mol = eps_DL(omega=omega, epsinf=2.89, omegap=0.5, omega0=2.2, gamma=0.05, kappa0=1e-3)\n",
    "\n",
    "air_infty = ct.MaterialLayer(d=np.inf, eps=1)\n",
    "air_thin  = ct.MaterialLayer(d=0,      eps=1)\n",
    "molecules = ct.MaterialLayer(d=d,      eps=eps_mol, kappa=k_mol)\n",
    "\n",
    "omegaPR = 2\n",
    "gammaPR = 0.01\n",
    "mirror_1 = ct.helicity_preserving_mirror(omega,omegaPR=omegaPR,gammaPR=gammaPR,enantiomer=False)\n",
    "mirror_2 = ct.helicity_preserving_mirror(omega,omegaPR=omegaPR,gammaPR=gammaPR,enantiomer=True)\n",
    "\n",
    "mls_HP = ct.MultiLayerScatt([air_infty, mirror_1, air_thin, molecules, air_thin, mirror_2, air_infty], lambda_vac, theta0=0.)"
   ]
  },
  {
   "cell_type": "markdown",
   "id": "be8a5231-9b60-40f1-8da0-8ac8da4ffbaf",
   "metadata": {},
   "source": [
    "### Plot"
   ]
  },
  {
   "cell_type": "code",
   "execution_count": null,
   "id": "6abffc23-08b6-4342-8c12-6d8345e548f0",
   "metadata": {},
   "outputs": [],
   "source": [
    "plt.pcolormesh(d, omega, mls_HP.Tsp, cmap=\"turbo\", shading=\"gouraud\")\n",
    "cbar = plt.colorbar()\n",
    "plt.xlabel(r\"$L$ (nm)\")\n",
    "plt.ylabel(r\"$\\hbar\\omega$ (eV)\")\n",
    "cbar.set_label(r\"$T_{\\perp,+}$\")"
   ]
  }
 ],
 "metadata": {
  "language_info": {
   "name": "python"
  }
 },
 "nbformat": 4,
 "nbformat_minor": 5
}
