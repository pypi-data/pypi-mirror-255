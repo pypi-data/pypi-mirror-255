{
 "cells": [
  {
   "cell_type": "markdown",
   "id": "indonesian-battle",
   "metadata": {},
   "source": [
    "# Example UL CLs asymptotic frequentist using tau_upperlimitstools_fitting module"
   ]
  },
  {
   "cell_type": "markdown",
   "id": "juvenile-upper",
   "metadata": {},
   "source": [
    "#### This example works for both the 1D and 2D cases; you just need to change the name of the ROOT file where the workspace is located."
   ]
  },
  {
   "cell_type": "code",
   "execution_count": 1,
   "id": "nonprofit-academy",
   "metadata": {},
   "outputs": [
    {
     "name": "stdout",
     "output_type": "stream",
     "text": [
      "Welcome to JupyROOT 6.26/02\n"
     ]
    }
   ],
   "source": [
    "import ROOT"
   ]
  },
  {
   "cell_type": "code",
   "execution_count": 2,
   "id": "surface-editor",
   "metadata": {},
   "outputs": [],
   "source": [
    "import tau_upperlimitstools_fitting as tau_tools"
   ]
  },
  {
   "cell_type": "markdown",
   "id": "postal-breakfast",
   "metadata": {},
   "source": [
    "### Specification for UL calculation  (Asymptotic CLs)"
   ]
  },
  {
   "cell_type": "code",
   "execution_count": 3,
   "id": "lyric-bulgarian",
   "metadata": {},
   "outputs": [],
   "source": [
    "upperlimit_configuration={'asymptotic_CLs':{ \"workspace\":{\n",
    "                                                          \"filename\": \"workspace_model_sb.root\", \n",
    "                                                          \"name\":\"myWorkSpace\"},\n",
    "                                             \"upper_limit\":{\n",
    "                                                             \"one_side\":True,\n",
    "                                                             \"confidence_level\":0.90,\n",
    "                                                             \"points_to_scan\":30,\n",
    "                                                             \"poi_min\":0,\n",
    "                                                             \"poi_max\":100,\n",
    "                                                             \"set_verbose\":False,\n",
    "                                                             \"set_print_level\":-1}\n",
    "                                           }\n",
    "                    }"
   ]
  },
  {
   "cell_type": "code",
   "execution_count": 4,
   "id": "opposed-generic",
   "metadata": {
    "scrolled": true,
    "tags": []
   },
   "outputs": [
    {
     "name": "stdout",
     "output_type": "stream",
     "text": [
      "Configurating S+B Model and B Model\n",
      "Cheking Workspace\n",
      "......................................\n",
      "Creating Asymptotic Calculator with S+b and B Model\n",
      "................................\n",
      "The hypothesis test for CLs will be between:\n",
      "\n",
      "poi:  0 100\n",
      "The next number of points will be scanned: 30\n",
      "................................\n",
      "\n",
      "RooWorkspace(myWorkSpace) myWorkSpace contents\n",
      "\n",
      "variables\n",
      "---------\n",
      "(n_bkg,n_sig,x_var)\n",
      "\n",
      "p.d.f.s\n",
      "-------\n",
      "RooHistPdf::background_pdf[ pdfObs=(x_var) ] = 180\n",
      "RooAddPdf::model_sb[ n_sig * signal_pdf + n_bkg * background_pdf ] = 180\n",
      "RooHistPdf::signal_pdf[ pdfObs=(x_var) ] = 850\n",
      "\n",
      "datasets\n",
      "--------\n",
      "RooDataSet::pseudo_data(x_var)\n",
      "RooDataHist::pseudo_data_binned(x_var)\n",
      "\n",
      "embedded datasets (in pdfs and functions)\n",
      "-----------------------------------------\n",
      "RooDataHist::datahist_vars_signal(x_var)\n",
      "RooDataHist::datahist_vars_background(x_var)\n",
      "\n",
      "parameter snapshots\n",
      "-------------------\n",
      "S+B Model__snapshot = (n_sig=-13.1553 +/- (0,26.7566))\n",
      "B Model__snapshot = (n_sig=0 +/- (0,26.7566))\n",
      "\n",
      "named sets\n",
      "----------\n",
      "B Model__snapshot:(n_sig)\n",
      "ModelConfig_NuisParams:(n_bkg)\n",
      "ModelConfig_Observables:(x_var)\n",
      "ModelConfig_POI:(n_sig)\n",
      "S+B Model__snapshot:(n_sig)\n",
      "\n",
      "generic objects\n",
      "---------------\n",
      "RooStats::ModelConfig::S+B Model\n",
      "RooStats::ModelConfig::B Model\n",
      "\n",
      "[#0] PROGRESS:Eval -- AsymptoticCalculator::Initialize....\n",
      "[#0] PROGRESS:Eval -- AsymptoticCalculator::Initialize - Find  best unconditional NLL on observed data\n",
      "AsymptoticCalculator::EvaluateNLL  ........ using Minuit / Migrad with strategy  1 and tolerance 1\n",
      " **********\n",
      " **    1 **SET PRINT           0\n",
      " **********\n",
      " **********\n",
      " **    2 **SET NOGRAD\n",
      " **********\n",
      " PARAMETER DEFINITIONS:\n",
      "    NO.   NAME         VALUE      STEP SIZE      LIMITS\n",
      "     1 n_bkg        2.01428e+03  5.21571e+01   -1.00000e+01  3.00000e+03\n",
      "     2 n_sig        0.00000e+00  2.58708e+01   -2.00000e+01  1.00000e+03\n",
      " MINUIT WARNING IN PARAMETR\n",
      " ============== VARIABLE2 BROUGHT BACK INSIDE LIMITS.\n",
      " **********\n",
      " **    3 **SET ERR         0.5\n",
      " **********\n",
      " **********\n",
      " **    4 **SET PRINT           0\n",
      " **********\n",
      " **********\n",
      " **    5 **SET STR           1\n",
      " **********\n",
      " **********\n",
      " **    6 **MIGRAD        1000           1\n",
      " **********\n",
      " MIGRAD MINIMIZATION HAS CONVERGED.\n",
      " MIGRAD WILL VERIFY CONVERGENCE AND ERROR MATRIX.\n",
      " FCN=-9145.87 FROM MIGRAD    STATUS=CONVERGED      36 CALLS          37 TOTAL\n",
      "                     EDM=5.50439e-05    STRATEGY= 1      ERROR MATRIX ACCURATE \n",
      "  EXT PARAMETER                                   STEP         FIRST   \n",
      "  NO.   NAME      VALUE            ERROR          SIZE      DERIVATIVE \n",
      "   1  n_bkg        2.01383e+03   5.29246e+01   2.09369e-03  -1.37825e-01\n",
      "   2  n_sig       -1.30314e+01   2.62256e+01   1.58585e-02   1.01991e-02\n",
      "                               ERR DEF= 0.5\n",
      "AsymptoticCalculator::EvaluateNLL -  value = -9145.87\tfit time : Real time 0:00:00, CP time 0.050\n",
      "[#0] PROGRESS:Eval -- Best fitted POI value = -13.0314 +/- 26.2256\n",
      "[#0] PROGRESS:Eval -- AsymptoticCalculator: Building Asimov data Set\n",
      "[#1] INFO:InputArguments -- AsymptoticCalculator: Asimov data will be generated using fitted nuisance parameter values\n",
      "MakeAsimov: Setting poi n_sig to a constant value = 0\n",
      "MakeAsimov: doing a conditional fit for finding best nuisance values \n",
      " **********\n",
      " **    1 **SET PRINT           0\n",
      " **********\n",
      " **********\n",
      " **    2 **SET NOGRAD\n",
      " **********\n",
      " PARAMETER DEFINITIONS:\n",
      "    NO.   NAME         VALUE      STEP SIZE      LIMITS\n",
      "     1 n_bkg        2.01383e+03  5.29246e+01   -1.00000e+01  3.00000e+03\n",
      " **********\n",
      " **    3 **SET ERR         0.5\n",
      " **********\n",
      " **********\n",
      " **    4 **SET PRINT           0\n",
      " **********\n",
      " **********\n",
      " **    5 **SET STR           1\n",
      " **********\n",
      " **********\n",
      " **    6 **MIGRAD         500           1\n",
      " **********\n",
      " MIGRAD MINIMIZATION HAS CONVERGED.\n",
      " MIGRAD WILL VERIFY CONVERGENCE AND ERROR MATRIX.\n",
      " FCN=-9145.74 FROM MIGRAD    STATUS=CONVERGED      10 CALLS          11 TOTAL\n",
      "                     EDM=1.0614e-05    STRATEGY= 1      ERROR MATRIX ACCURATE \n",
      "  EXT PARAMETER                                   STEP         FIRST   \n",
      "  NO.   NAME      VALUE            ERROR          SIZE      DERIVATIVE \n",
      "   1  n_bkg        2.00085e+03   4.47210e+01   2.10802e-03  -1.03243e-01\n",
      "                               ERR DEF= 0.5\n",
      "fit time Real time 0:00:00, CP time 0.000\n",
      "RooDataSet::AsimovData[x_var,weight:binWeightAsimov] = 100 entries (2000.85 weighted)\n",
      "Generated Asimov data for observables RooArgSet:: = (x_var)\n",
      "[#0] PROGRESS:Eval -- AsymptoticCalculator::Initialize Find  best conditional NLL on ASIMOV data set for given alt POI ( n_sig ) = 0\n",
      "AsymptoticCalculator::EvaluateNLL  ........ using Minuit / Migrad with strategy  1 and tolerance 1\n",
      " **********\n",
      " **    7 **SET PRINT           0\n",
      " **********\n",
      " **********\n",
      " **    8 **SET NOGRAD\n",
      " **********\n",
      " PARAMETER DEFINITIONS:\n",
      "    NO.   NAME         VALUE      STEP SIZE      LIMITS\n",
      "     1 n_bkg        2.00085e+03  4.47210e+01   -1.00000e+01  3.00000e+03\n",
      " **********\n",
      " **    9 **SET ERR         0.5\n",
      " **********\n",
      " **********\n",
      " **   10 **SET PRINT           0\n",
      " **********\n",
      " **********\n",
      " **   11 **SET STR           1\n",
      " **********\n",
      " **********\n",
      " **   12 **MIGRAD         500           1\n",
      " **********\n",
      " MIGRAD MINIMIZATION HAS CONVERGED.\n",
      " FCN=-9124.72 FROM MIGRAD    STATUS=CONVERGED      17 CALLS          18 TOTAL\n",
      "                     EDM=2.59274e-12    STRATEGY= 1      ERROR MATRIX ACCURATE \n",
      "  EXT PARAMETER                                   STEP         FIRST   \n",
      "  NO.   NAME      VALUE            ERROR          SIZE      DERIVATIVE \n",
      "   1  n_bkg        2.00085e+03   4.47235e+01   0.00000e+00  -7.21592e-05\n",
      "                               ERR DEF= 0.5\n",
      "AsymptoticCalculator::EvaluateNLL -  value = -9124.72 for poi fixed at = 0\tfit time : Real time 0:00:00, CP time 0.000\n",
      "[#1] INFO:InputArguments -- HypoTestInverter ---- Input models: \n",
      "\t\t using as S+B (null) model     : S+B Model\n",
      "\t\t using as B (alternate) model  : B Model\n",
      "\n",
      "[#1] INFO:Eval -- HypoTestInverter::GetInterval - run a fixed scan\n",
      "[#1] INFO:ObjectHandling -- RooWorkspace::saveSnaphot(myWorkSpace) replacing previous snapshot with name S+B Model__snapshot\n",
      "[#1] INFO:InputArguments -- Minimum of POI is -20 is different to alt snapshot 0 - using standard q asymptotic formulae  \n",
      "[#1] INFO:ObjectHandling -- RooWorkspace::saveSnaphot(myWorkSpace) replacing previous snapshot with name S+B Model__snapshot\n",
      "[#1] INFO:ObjectHandling -- RooWorkspace::saveSnaphot(myWorkSpace) replacing previous snapshot with name S+B Model__snapshot\n",
      "[#1] INFO:ObjectHandling -- RooWorkspace::saveSnaphot(myWorkSpace) replacing previous snapshot with name S+B Model__snapshot\n",
      "[#1] INFO:ObjectHandling -- RooWorkspace::saveSnaphot(myWorkSpace) replacing previous snapshot with name S+B Model__snapshot\n",
      "[#1] INFO:ObjectHandling -- RooWorkspace::saveSnaphot(myWorkSpace) replacing previous snapshot with name S+B Model__snapshot\n",
      "[#1] INFO:ObjectHandling -- RooWorkspace::saveSnaphot(myWorkSpace) replacing previous snapshot with name S+B Model__snapshot\n",
      "[#1] INFO:ObjectHandling -- RooWorkspace::saveSnaphot(myWorkSpace) replacing previous snapshot with name S+B Model__snapshot\n",
      "[#1] INFO:ObjectHandling -- RooWorkspace::saveSnaphot(myWorkSpace) replacing previous snapshot with name S+B Model__snapshot\n",
      "[#1] INFO:ObjectHandling -- RooWorkspace::saveSnaphot(myWorkSpace) replacing previous snapshot with name S+B Model__snapshot\n",
      "[#1] INFO:ObjectHandling -- RooWorkspace::saveSnaphot(myWorkSpace) replacing previous snapshot with name S+B Model__snapshot\n",
      "[#1] INFO:ObjectHandling -- RooWorkspace::saveSnaphot(myWorkSpace) replacing previous snapshot with name S+B Model__snapshot\n",
      "[#1] INFO:ObjectHandling -- RooWorkspace::saveSnaphot(myWorkSpace) replacing previous snapshot with name S+B Model__snapshot\n",
      "[#1] INFO:ObjectHandling -- RooWorkspace::saveSnaphot(myWorkSpace) replacing previous snapshot with name S+B Model__snapshot\n",
      "[#1] INFO:ObjectHandling -- RooWorkspace::saveSnaphot(myWorkSpace) replacing previous snapshot with name S+B Model__snapshot\n",
      "[#1] INFO:ObjectHandling -- RooWorkspace::saveSnaphot(myWorkSpace) replacing previous snapshot with name S+B Model__snapshot\n",
      "[#1] INFO:ObjectHandling -- RooWorkspace::saveSnaphot(myWorkSpace) replacing previous snapshot with name S+B Model__snapshot\n",
      "[#1] INFO:ObjectHandling -- RooWorkspace::saveSnaphot(myWorkSpace) replacing previous snapshot with name S+B Model__snapshot\n",
      "[#1] INFO:ObjectHandling -- RooWorkspace::saveSnaphot(myWorkSpace) replacing previous snapshot with name S+B Model__snapshot\n",
      "[#1] INFO:ObjectHandling -- RooWorkspace::saveSnaphot(myWorkSpace) replacing previous snapshot with name S+B Model__snapshot\n",
      "[#1] INFO:ObjectHandling -- RooWorkspace::saveSnaphot(myWorkSpace) replacing previous snapshot with name S+B Model__snapshot\n",
      "[#1] INFO:ObjectHandling -- RooWorkspace::saveSnaphot(myWorkSpace) replacing previous snapshot with name S+B Model__snapshot\n",
      "[#1] INFO:ObjectHandling -- RooWorkspace::saveSnaphot(myWorkSpace) replacing previous snapshot with name S+B Model__snapshot\n",
      "[#1] INFO:ObjectHandling -- RooWorkspace::saveSnaphot(myWorkSpace) replacing previous snapshot with name S+B Model__snapshot\n",
      "[#1] INFO:ObjectHandling -- RooWorkspace::saveSnaphot(myWorkSpace) replacing previous snapshot with name S+B Model__snapshot\n",
      "[#1] INFO:ObjectHandling -- RooWorkspace::saveSnaphot(myWorkSpace) replacing previous snapshot with name S+B Model__snapshot\n",
      "[#1] INFO:ObjectHandling -- RooWorkspace::saveSnaphot(myWorkSpace) replacing previous snapshot with name S+B Model__snapshot\n",
      "[#1] INFO:ObjectHandling -- RooWorkspace::saveSnaphot(myWorkSpace) replacing previous snapshot with name S+B Model__snapshot\n",
      "[#1] INFO:ObjectHandling -- RooWorkspace::saveSnaphot(myWorkSpace) replacing previous snapshot with name S+B Model__snapshot\n",
      "[#1] INFO:ObjectHandling -- RooWorkspace::saveSnaphot(myWorkSpace) replacing previous snapshot with name S+B Model__snapshot\n",
      "\n",
      "Results HypoTestAsymptotic_result: \n",
      " - Null p-value = 2.68428e-05\n",
      " - Significance = 4.03897\n",
      " - CL_b: 2.68428e-05\n",
      " - CL_s+b: 0.325782\n",
      " - CL_s: 12136.7\n"
     ]
    }
   ],
   "source": [
    "upper_limit_result, ac_result =tau_tools.calculate_upperlimit_asymptotic_CLs(upperlimit_configuration)"
   ]
  },
  {
   "cell_type": "code",
   "execution_count": 5,
   "id": "racial-clearance",
   "metadata": {
    "tags": []
   },
   "outputs": [
    {
     "name": "stdout",
     "output_type": "stream",
     "text": [
      "The observed CLs upper limit is:  37.31437163281051\n",
      "Expected upper limits, using the B (alternate) model : \n",
      " expected limit (median)  44.64318018621834\n",
      " expected limit (-1 sig)  30.931964457963822\n",
      " expected limit (+1 sig)  65.2057157405719\n",
      " expected limit (-2 sig)  22.607974537309644\n",
      " expected limit (+2 sig)  91.5382173905235\n",
      "################\n"
     ]
    }
   ],
   "source": [
    "tau_tools.print_save_results(upper_limit_result, \"results.txt\")"
   ]
  },
  {
   "cell_type": "markdown",
   "id": "welsh-refund",
   "metadata": {},
   "source": [
    "### Brazil Band Plot"
   ]
  },
  {
   "cell_type": "code",
   "execution_count": 6,
   "id": "soviet-senegal",
   "metadata": {},
   "outputs": [
    {
     "name": "stdout",
     "output_type": "stream",
     "text": [
      "Saving the plot in brazil_band_1D.png.\n"
     ]
    },
    {
     "name": "stderr",
     "output_type": "stream",
     "text": [
      "Info in <TCanvas::Print>: png file brazil_band_1D.png has been created\n"
     ]
    }
   ],
   "source": [
    "canvas_brazil_band=tau_tools.make_brazil_band(upper_limit_result, \"brazil_band_1D.png\")"
   ]
  },
  {
   "cell_type": "code",
   "execution_count": 7,
   "id": "separated-egyptian",
   "metadata": {},
   "outputs": [
    {
     "data": {
      "image/png": "[encoded data removed]",
      "text/plain": [
       "<IPython.core.display.Image object>"
      ]
     },
     "metadata": {},
     "output_type": "display_data"
    }
   ],
   "source": [
    "canvas_brazil_band.Draw()"
   ]
  }
 ],
 "metadata": {
  "kernelspec": {
   "display_name": "Python [conda env:newroot26]",
   "language": "python",
   "name": "conda-env-newroot26-py"
  },
  "language_info": {
   "codemirror_mode": {
    "name": "ipython",
    "version": 3
   },
   "file_extension": ".py",
   "mimetype": "text/x-python",
   "name": "python",
   "nbconvert_exporter": "python",
   "pygments_lexer": "ipython3",
   "version": "3.10.4"
  }
 },
 "nbformat": 4,
 "nbformat_minor": 5
}
