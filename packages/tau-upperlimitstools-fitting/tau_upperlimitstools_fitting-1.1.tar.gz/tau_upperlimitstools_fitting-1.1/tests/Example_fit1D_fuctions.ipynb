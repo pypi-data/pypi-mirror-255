{
 "cells": [
  {
   "cell_type": "markdown",
   "id": "determined-local",
   "metadata": {},
   "source": [
    "# Example Fit 1D using tau_upperlimitstools_fitting module"
   ]
  },
  {
   "cell_type": "code",
   "execution_count": 1,
   "id": "broadband-mills",
   "metadata": {},
   "outputs": [
    {
     "name": "stdout",
     "output_type": "stream",
     "text": [
      "Welcome to JupyROOT 6.26/02\n"
     ]
    }
   ],
   "source": [
    "import ROOT"
   ]
  },
  {
   "cell_type": "code",
   "execution_count": 2,
   "id": "unusual-cream",
   "metadata": {},
   "outputs": [],
   "source": [
    "import sys\n",
    "sys.path.append(\"/home/marcela/Documents/kek_postdoc/tau_upperlimitstools_fitting/src/tau_upperlimitstools_fitting/\")\n",
    "import functions_fit as tau_tools"
   ]
  },
  {
   "cell_type": "code",
   "execution_count": 3,
   "id": "revolutionary-bangladesh",
   "metadata": {},
   "outputs": [],
   "source": [
    "import imp"
   ]
  },
  {
   "cell_type": "code",
   "execution_count": 4,
   "id": "historic-silly",
   "metadata": {},
   "outputs": [
    {
     "data": {
      "text/plain": [
       "<module 'functions_fit' from '/home/marcela/Documents/kek_postdoc/tau_upperlimitstools_fitting/src/tau_upperlimitstools_fitting/functions_fit.py'>"
      ]
     },
     "execution_count": 4,
     "metadata": {},
     "output_type": "execute_result"
    }
   ],
   "source": [
    "imp.reload(tau_tools)"
   ]
  },
  {
   "cell_type": "markdown",
   "id": "psychological-castle",
   "metadata": {},
   "source": [
    "### Specification of the extended s+b model  (from analytical functions)"
   ]
  },
  {
   "cell_type": "markdown",
   "id": "unusual-sensitivity",
   "metadata": {},
   "source": [
    "TO DO: This can be generalized."
   ]
  },
  {
   "cell_type": "code",
   "execution_count": 5,
   "id": "furnished-underwear",
   "metadata": {
    "tags": []
   },
   "outputs": [],
   "source": [
    "model_configuration={'model_sb': {'signal': \n",
    "                                        {'function':\"gaussian\", \n",
    "                                         'mean':\"m[5]\",\n",
    "                                         'sigma':\"s[1]\",\n",
    "                                         'pdf_name':'signal_pdf', \n",
    "                                         'nsig_yield_range':'[-20,1000]'}, \n",
    "                                  'background':{'function':\"exponential\", \n",
    "                                                 'coefficient':'c[-1/4]',\n",
    "                                                'pdf_name':'background_pdf',\n",
    "                                                'nbkg_yield_range':'[-10,3000]'},\n",
    "                                  'variables_names':['x'],\n",
    "                                  'variables_ranges':['[0,10]'],\n",
    "                                  'dimension':\"1D\",\n",
    "                                  'generate_data': True,\n",
    "                                  'include_binned_data':True,\n",
    "                                  'data_bins' : 100, \n",
    "                                  'pseudo_data_yields':{'n_sig':1, 'n_bkg':2000}\n",
    "                                 }\n",
    "                    }"
   ]
  },
  {
   "cell_type": "code",
   "execution_count": 6,
   "id": "advisory-stevens",
   "metadata": {},
   "outputs": [
    {
     "name": "stdout",
     "output_type": "stream",
     "text": [
      "[#0] WARNING:InputArguments -- The parameter 's' with range [-1e+30, 1e+30] of the RooGaussian 'signal_pdf' exceeds the safe range of (0, inf). Advise to limit its range.\n",
      "[#1] INFO:ObjectHandling -- RooWorkspace::import(myWorkSpace) importing dataset pseudo_data\n",
      "[#1] INFO:ObjectHandling -- RooWorkspace::import(myWorkSpace) importing dataset pseudo_data_binned\n"
     ]
    }
   ],
   "source": [
    "# Create the workspace given the dictionary created before, and Add model configuration to the workspace\n",
    "mywspace = tau_tools.create_workspace_extended_gausExp(model_configuration)"
   ]
  },
  {
   "cell_type": "code",
   "execution_count": 7,
   "id": "heard-speech",
   "metadata": {},
   "outputs": [
    {
     "name": "stdout",
     "output_type": "stream",
     "text": [
      "\n",
      "RooWorkspace(myWorkSpace) myWorkSpace contents\n",
      "\n",
      "variables\n",
      "---------\n",
      "(c,m,n_bkg,n_sig,s,x)\n",
      "\n",
      "p.d.f.s\n",
      "-------\n",
      "RooExponential::background_pdf[ x=x c=c ] = 0.00673795\n",
      "RooAddPdf::model_sb[ n_sig * signal_pdf + n_bkg * background_pdf ] = 0.00723433\n",
      "RooGaussian::signal_pdf[ x=x mean=m sigma=s ] = 1\n",
      "\n",
      "datasets\n",
      "--------\n",
      "RooDataSet::pseudo_data(x)\n",
      "RooDataHist::pseudo_data_binned(x)\n",
      "\n",
      "named sets\n",
      "----------\n",
      "ModelConfig_NuisParams:(n_bkg)\n",
      "ModelConfig_Observables:(x)\n",
      "ModelConfig_POI:(n_sig)\n",
      "\n",
      "generic objects\n",
      "---------------\n",
      "RooStats::ModelConfig::ModelConfig\n",
      "\n"
     ]
    }
   ],
   "source": [
    "mywspace.Print()"
   ]
  },
  {
   "cell_type": "markdown",
   "id": "accredited-police",
   "metadata": {},
   "source": [
    "Note: \n",
    "<br>\n",
    "After setting the values for generate_pseudodata_fromW, this will be the initial points for the FIT"
   ]
  },
  {
   "cell_type": "code",
   "execution_count": 8,
   "id": "short-generic",
   "metadata": {},
   "outputs": [
    {
     "name": "stdout",
     "output_type": "stream",
     "text": [
      "1.0\n",
      "2000.0\n"
     ]
    }
   ],
   "source": [
    "print(mywspace.var(\"n_sig\").getVal())\n",
    "print(mywspace.var(\"n_bkg\").getVal())"
   ]
  },
  {
   "cell_type": "markdown",
   "id": "exterior-lewis",
   "metadata": {},
   "source": [
    "### Fit to the pseudo_data"
   ]
  },
  {
   "cell_type": "code",
   "execution_count": 9,
   "id": "several-restoration",
   "metadata": {},
   "outputs": [
    {
     "name": "stdout",
     "output_type": "stream",
     "text": [
      "[#1] INFO:Minimization -- createConstraintTerm: caching constraint set under name CACHE_CONSTR_OF_PDF_model_sb_FOR_OBS_x with 0 entries\n",
      "[#1] INFO:Minimization -- RooAbsMinimizerFcn::setOptimizeConst: activating const optimization\n",
      "[#1] INFO:Eval -- RooAbsTestStatistic::initMPMode: started 12 remote server process.\n",
      "[#1] INFO:Minimization --  The following expressions have been identified as constant and will be precalculated and cached: (signal_pdf,background_pdf)\n",
      "[#1] INFO:Minimization --  The following expressions have been identified as constant and will be precalculated and cached: (signal_pdf,background_pdf)\n",
      "[#1] INFO:Minimization --  The following expressions have been identified as constant and will be precalculated and cached: (signal_pdf,background_pdf)\n",
      "[#1] INFO:Minimization --  The following expressions have been identified as constant and will be precalculated and cached: (signal_pdf,background_pdf)\n",
      "[#1] INFO:Minimization --  The following expressions have been identified as constant and will be precalculated and cached: (signal_pdf,background_pdf)\n",
      "[#1] INFO:Minimization --  The following expressions have been identified as constant and will be precalculated and cached: (signal_pdf,background_pdf)\n",
      "[#1] INFO:Minimization --  The following expressions have been identified as constant and will be precalculated and cached: (signal_pdf,background_pdf)\n",
      "[#1] INFO:Minimization --  The following expressions have been identified as constant and will be precalculated and cached: (signal_pdf,background_pdf)\n",
      "[#1] INFO:Minimization --  The following expressions have been identified as constant and will be precalculated and cached: (signal_pdf,background_pdf)\n",
      "[#1] INFO:Minimization --  The following expressions have been identified as constant and will be precalculated and cached: (signal_pdf,background_pdf)\n",
      "[#1] INFO:Minimization --  The following expressions have been identified as constant and will be precalculated and cached: (signal_pdf,background_pdf)\n",
      "[#1] INFO:Minimization --  The following expressions have been identified as constant and will be precalculated and cached: (signal_pdf,background_pdf)\n",
      "[#1] INFO:Minimization -- RooAbsMinimizerFcn::setOptimizeConst: deactivating const optimization\n"
     ]
    }
   ],
   "source": [
    "pdf = mywspace.pdf('model_sb')\n",
    "data=mywspace.data(\"pseudo_data\")\n",
    "#Specify configuration for fitting, default minuit/migrat y strategy 1\n",
    "fitResult = pdf.fitTo(data,\n",
    "                      ROOT.RooFit.Extended(True),\n",
    "                      ROOT.RooFit.Minos(True),\n",
    "                      ROOT.RooFit.SumW2Error(False), \n",
    "                      ROOT.RooFit.Save(True), \n",
    "                      ROOT.RooFit.NumCPU(12),\n",
    "                      ROOT.RooFit.PrintLevel(-1))"
   ]
  },
  {
   "cell_type": "code",
   "execution_count": 10,
   "id": "cosmetic-persian",
   "metadata": {},
   "outputs": [
    {
     "data": {
      "image/png": "[encoded data removed]",
      "text/plain": [
       "<IPython.core.display.Image object>"
      ]
     },
     "metadata": {},
     "output_type": "display_data"
    }
   ],
   "source": [
    "canvas_x = ROOT.TCanvas(\"test\",\"tes\", 800, 600)\n",
    "frame = mywspace.var('x').frame()\n",
    "data.plotOn(frame)\n",
    "pdf.plotOn(frame)\n",
    "pdf.paramOn(frame,ROOT.RooFit.Layout(0.32, 0.47, 0.9))\n",
    "frame.Draw()\n",
    "canvas_x.Draw()"
   ]
  },
  {
   "cell_type": "code",
   "execution_count": 11,
   "id": "superior-sending",
   "metadata": {},
   "outputs": [
    {
     "name": "stdout",
     "output_type": "stream",
     "text": [
      "\n",
      "  RooFitResult: minimized FCN value: -11185.4, estimated distance to minimum: 7.63115e-06\n",
      "                covariance matrix quality: Full, accurate covariance matrix\n",
      "                Status : MINIMIZE=0 HESSE=0 MINOS=0 \n",
      "\n",
      "    Floating Parameter    FinalValue +/-  Error   \n",
      "  --------------------  --------------------------\n",
      "                 n_bkg    1.9967e+03 +/-  4.51e+01\n",
      "                 n_sig    4.4072e+00 +/-  6.65e+00\n",
      "\n"
     ]
    }
   ],
   "source": [
    "fitResult.Print()"
   ]
  },
  {
   "cell_type": "markdown",
   "id": "ordinary-cowboy",
   "metadata": {},
   "source": [
    "Note: \n",
    "<br>\n",
    "After the fit n_sig is updated, this will be the value in the workspace."
   ]
  },
  {
   "cell_type": "code",
   "execution_count": 12,
   "id": "monetary-anderson",
   "metadata": {},
   "outputs": [
    {
     "name": "stdout",
     "output_type": "stream",
     "text": [
      "-------------------------------------------\n",
      "A small edm value indicates effective convergence of the fit.\n",
      "edm 7.631154544324778e-06 \n",
      "\n",
      "A low minNll value indicates a successful fit finding a good description for the data.\n",
      "minNll -11185.358102992523 \n",
      "\n",
      "A value of 0 typically indicates a successful fit.\n",
      "status 0 \n",
      "\n",
      "A high covQual value (3) indicates good quality of the covariance matrix.\n",
      "covQual 3 \n",
      "\n",
      "A value of 0 suggests that all likelihood evaluations were valid.\n",
      "numInvalidNll 0 \n",
      "\n",
      "--------------------------------------------\n"
     ]
    }
   ],
   "source": [
    "tau_tools.check_status_fit(fitResult)"
   ]
  },
  {
   "cell_type": "markdown",
   "id": "understood-wallace",
   "metadata": {},
   "source": [
    "### Save the workspace in a root file"
   ]
  },
  {
   "cell_type": "code",
   "execution_count": 13,
   "id": "proprietary-institute",
   "metadata": {},
   "outputs": [
    {
     "name": "stdout",
     "output_type": "stream",
     "text": [
      "Workspace saved to workspace_model_sb.root with the name myWorkSpace\n"
     ]
    }
   ],
   "source": [
    "#Save the WorkSpace in a root file to used later\n",
    "tau_tools.save_myworkspace_infile(mywspace)"
   ]
  },
  {
   "cell_type": "code",
   "execution_count": null,
   "id": "silver-roller",
   "metadata": {},
   "outputs": [],
   "source": []
  }
 ],
 "metadata": {
  "kernelspec": {
   "display_name": "Python [conda env:newroot26]",
   "language": "python",
   "name": "conda-env-newroot26-py"
  },
  "language_info": {
   "codemirror_mode": {
    "name": "ipython",
    "version": 3
   },
   "file_extension": ".py",
   "mimetype": "text/x-python",
   "name": "python",
   "nbconvert_exporter": "python",
   "pygments_lexer": "ipython3",
   "version": "3.10.4"
  }
 },
 "nbformat": 4,
 "nbformat_minor": 5
}
