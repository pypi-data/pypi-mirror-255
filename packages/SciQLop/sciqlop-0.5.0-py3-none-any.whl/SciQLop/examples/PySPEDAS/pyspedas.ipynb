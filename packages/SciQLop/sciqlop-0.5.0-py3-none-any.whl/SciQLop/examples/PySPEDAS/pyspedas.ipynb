{
 "cells": [
  {
   "cell_type": "code",
   "execution_count": null,
   "id": "initial_id",
   "metadata": {
    "collapsed": true
   },
   "outputs": [],
   "source": [
    "import pyspedas\n",
    "pyspedas.ace.mfi()\n",
    "import pytplot\n",
    "pytplot.tplot(\"Magnitude\")"
   ]
  },
  {
   "cell_type": "code",
   "outputs": [],
   "source": [
    "await background_run(pyspedas.ace.mfi, notplot=True, no_update=True, varnames=['BRTN'])"
   ],
   "metadata": {
    "collapsed": false
   },
   "id": "d4c6018d5cd333fc"
  }
 ],
 "metadata": {
  "kernelspec": {
   "display_name": "Python 3",
   "language": "python",
   "name": "python3"
  },
  "language_info": {
   "codemirror_mode": {
    "name": "ipython",
    "version": 2
   },
   "file_extension": ".py",
   "mimetype": "text/x-python",
   "name": "python",
   "nbconvert_exporter": "python",
   "pygments_lexer": "ipython2",
   "version": "2.7.6"
  }
 },
 "nbformat": 4,
 "nbformat_minor": 5
}
