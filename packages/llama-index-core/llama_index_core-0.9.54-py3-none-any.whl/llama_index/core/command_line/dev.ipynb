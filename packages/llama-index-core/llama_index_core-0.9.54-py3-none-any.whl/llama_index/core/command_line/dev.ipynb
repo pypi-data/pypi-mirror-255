{
 "cells": [
  {
   "cell_type": "code",
   "execution_count": 2,
   "id": "4ec9dcae-8901-4eba-98f2-5bb59d7cc9e3",
   "metadata": {},
   "outputs": [],
   "source": [
    "from llama_index.core.command_line.upgrade import upgrade_nb_file"
   ]
  },
  {
   "cell_type": "code",
   "execution_count": 10,
   "id": "aa9dad71-7e4f-400e-b598-60abeda50231",
   "metadata": {},
   "outputs": [],
   "source": [
    "file_path = \"/Users/nerdai/Projects/migration/llama_index/managed/zcpDemo.ipynb\""
   ]
  },
  {
   "cell_type": "code",
   "execution_count": 11,
   "id": "fa62712c-fcd4-4da7-9245-67b8e6c61a93",
   "metadata": {},
   "outputs": [],
   "source": [
    "upgrade_nb_file(file_path)"
   ]
  },
  {
   "cell_type": "code",
   "execution_count": null,
   "id": "610992d6-810f-461b-a5d4-92baa1c7e0ab",
   "metadata": {},
   "outputs": [],
   "source": []
  }
 ],
 "metadata": {
  "kernelspec": {
   "display_name": "llama-index-core",
   "language": "python",
   "name": "llama-index-core"
  },
  "language_info": {
   "codemirror_mode": {
    "name": "ipython",
    "version": 3
   },
   "file_extension": ".py",
   "mimetype": "text/x-python",
   "name": "python",
   "nbconvert_exporter": "python",
   "pygments_lexer": "ipython3",
   "version": "3.10.13"
  }
 },
 "nbformat": 4,
 "nbformat_minor": 5
}
