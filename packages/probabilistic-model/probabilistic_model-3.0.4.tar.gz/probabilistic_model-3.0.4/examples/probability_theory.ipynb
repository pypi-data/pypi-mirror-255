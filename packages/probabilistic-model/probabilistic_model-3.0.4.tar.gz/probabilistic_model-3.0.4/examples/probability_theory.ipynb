{
 "cells": [
  {
   "cell_type": "markdown",
   "source": [
    "# Probability Theory\n",
    "\n",
    "This notebook will walk through essential concepts of probability theory with practical examples.\n",
    "\n",
    "\n",
    "### $\\sigma Algebra$\n",
    "\n",
    "A $\\sigma$ algebra is a set of sets that contains all set-differences that can be constructed by combining arbitrary subsets of said set. Furthermore, it contains all finite unions of sets and all infinite intersection of the set. More formally, according to Kolmogoroff: \n",
    "\n",
    "Let $E$ be a space of elementary events. Consider the powerset $2^E$ and le $\\Im \\subset 2^E$ be a set of subsets of $E$. Elements of $\\Im$ are called random events. If $\\Im$ satisfies the following properties,it is called a $\\sigma$-algebra.\n",
    "\n",
    "1. $E \\in \\Im$\n",
    "2. $(A, B) \\in \\Im \\Rightarrow (A - B) \\in \\Im$\n",
    "3. $(A_1, A_2, ... \\in \\Im) \\Rightarrow \\left( \\cup_{i=1}^\\mathbb{N} A_i \\in \\Im \\wedge \\cap_{i=1}^\\infty \\in \\Im  \\right)$\n",
    "\n",
    "An example of such a set a set is the following: "
   ],
   "metadata": {
    "collapsed": false
   },
   "id": "ce07f94ef81d1bd6"
  },
  {
   "cell_type": "code",
   "execution_count": 1,
   "id": "initial_id",
   "metadata": {
    "collapsed": true,
    "ExecuteTime": {
     "end_time": "2024-02-04T18:40:18.734675400Z",
     "start_time": "2024-02-04T18:40:18.703844Z"
    }
   },
   "outputs": [
    {
     "data": {
      "text/plain": "[(),\n ('b',),\n ('c',),\n ('a',),\n ('b', 'c'),\n ('b', 'a'),\n ('c', 'a'),\n ('b', 'c', 'a')]"
     },
     "execution_count": 1,
     "metadata": {},
     "output_type": "execute_result"
    }
   ],
   "source": [
    "from itertools import chain, combinations\n",
    "\n",
    "def powerset(iterable):\n",
    "    s = list(iterable)\n",
    "    return list(chain.from_iterable(combinations(s, r) for r in range(len(s)+1)))\n",
    "\n",
    "E = {\"a\", \"b\", \"c\"}\n",
    "powerset_of_E = powerset(E)\n",
    "powerset_of_E"
   ]
  },
  {
   "cell_type": "markdown",
   "source": [
    "The reason why the $\\sigma$-algebra is the set of interest for probability theory is, bluntly speaking, knowing the probability of every atomic event is knowing the probability of every possible event.\n",
    "\n",
    "Formally,\n",
    "\n",
    "## Probability Measure\n",
    " Let $(E, \\Im)$ be a  $\\sigma$-algebra. A non-negative real function $P \\rightarrow \\mathbb{R}_{0, +}$\n",
    " is called a measure if it satisfies the following properties:\n",
    " \n",
    "1. $P(\\emptyset) = 0$\n",
    "2. For any countable sequence $\\{A_i \\in \\Im \\}_{i=1,...,}$ of pairwise disjoints sets $A_i \\cap A_j = \\emptyset$ if $i \\neq j, P$ satisfies countable additivity ($\\sigma$-additivity):\n",
    "$$P \\left( \\cup_{i=1}^\\infty A_i  \\right) = \\sum_{i=1}^\\infty P(A_i)$$ \n",
    "3. $P(A \\cup B) = P(A) + P(B) + P(A,B)$\n",
    "\n",
    "\n",
    "The probability measure just tells, that for non-intersecting sets, you can determine the probability of the union by adding the atomic probabilities. Furthermore, for intersecting sets you have to subtract the intersection, because it is added in there twice otherwise. A common way to visually think about those things are venn diagrams. "
   ],
   "metadata": {
    "collapsed": false
   },
   "id": "e66df1c7c81b1d3c"
  }
 ],
 "metadata": {
  "kernelspec": {
   "display_name": "Python 3",
   "language": "python",
   "name": "python3"
  },
  "language_info": {
   "codemirror_mode": {
    "name": "ipython",
    "version": 2
   },
   "file_extension": ".py",
   "mimetype": "text/x-python",
   "name": "python",
   "nbconvert_exporter": "python",
   "pygments_lexer": "ipython2",
   "version": "2.7.6"
  }
 },
 "nbformat": 4,
 "nbformat_minor": 5
}
