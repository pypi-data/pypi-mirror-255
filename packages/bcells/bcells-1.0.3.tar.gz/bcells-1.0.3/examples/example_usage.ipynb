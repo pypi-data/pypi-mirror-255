{
 "cells": [
  {
   "cell_type": "markdown",
   "metadata": {},
   "source": [
    "# Example Usage"
   ]
  },
  {
   "cell_type": "markdown",
   "metadata": {},
   "source": [
    "This notebook is meant to show how the `bcells` package can be used easily.\n",
    "\n",
    "To actually run this example, multiple .nd2 image sequence files are needed. These files are not provided with the package as these are usually very large.\n",
    "\n",
    "Firstly, we will import the `bcells` package. Code is run in a Jupyter notebook by either pressing `Shift + Enter` or by clicking the `Run` button in the toolbar."
   ]
  },
  {
   "cell_type": "code",
   "execution_count": 1,
   "metadata": {},
   "outputs": [],
   "source": [
    "import bcells"
   ]
  },
  {
   "cell_type": "markdown",
   "metadata": {},
   "source": [
    "We need to set the correct paths to the .nd2 files. The easiest way to do this is by copying this notebook into the same directory as the .nd2 files. In that case, the (relative) path to the .nd2 folder is just \".\"."
   ]
  },
  {
   "cell_type": "code",
   "execution_count": 2,
   "metadata": {},
   "outputs": [],
   "source": [
    "path_to_folder = '.'\n",
    "# path_to_folder = '/example/yesterday/' # e.g. when .nd2 files lie in the subfolder yesterday which lies in the subfolder example of this jupyter notebook"
   ]
  },
  {
   "cell_type": "markdown",
   "metadata": {},
   "source": [
    "List all .nd2 files in that directory."
   ]
  },
  {
   "cell_type": "code",
   "execution_count": 3,
   "metadata": {},
   "outputs": [
    {
     "name": "stdout",
     "output_type": "stream",
     "text": [
      "Found 10 files for the following concentrations (in muM):\n",
      "0.0  0.1  0.5  1.0  5.0  10.0  50.0  100.0  500.0  1000.0\n",
      "20220218_ADHEK293-OptoRyR2_Ex2_Tetracaine_0 µM_046.nd2\n",
      "20220218_ADHEK293-OptoRyR2_Ex2_Tetracaine_0.1 µM_031.nd2\n",
      "20220218_ADHEK293-OptoRyR2_Ex2_Tetracaine_0.5 µM_029.nd2\n",
      "20220218_ADHEK293-OptoRyR2_Ex2_Tetracaine_1 µM_023.nd2\n",
      "20220218_ADHEK293-OptoRyR2_Ex2_Tetracaine_5 µM_025.nd2\n",
      "20220218_ADHEK293-OptoRyR2_Ex2_Tetracaine_10 µM_027.nd2\n",
      "20220218_ADHEK293-OptoRyR2_Ex2_Tetracaine_50 µM_036.nd2\n",
      "20220218_ADHEK293-OptoRyR2_Ex2_Tetracaine_100 µM_038.nd2\n",
      "20220218_ADHEK293-OptoRyR2_Ex2_Tetracaine_500 µM_040.nd2\n",
      "20220218_ADHEK293-OptoRyR2_Ex2_Tetracaine_1 mM_042.nd2\n"
     ]
    }
   ],
   "source": [
    "filenames, concs, _ = bcells.util.load.files_with_ending(path_to_folder, file_ending='.nd2')"
   ]
  },
  {
   "cell_type": "markdown",
   "metadata": {},
   "source": [
    "Run pipeline function. This might take up to 5 minutes to run for each .nd2 file, meaning that for 10 .nd2 files, this might take up to 50 minutes to run."
   ]
  },
  {
   "cell_type": "code",
   "execution_count": null,
   "metadata": {},
   "outputs": [],
   "source": [
    "bcells.processing.pipeline.pipeline_files(path_to_folder, filenames, concs)"
   ]
  },
  {
   "cell_type": "markdown",
   "metadata": {},
   "source": [
    "After this has been run, a subdirectory should have been created with corresponding data files and plots/images.\n",
    "The segmentation folder should now contain images of the segmentation process for each concentration. The plot folder should contain possibly relevant plots of the traces (and characteristics). And finally the data folder should contain data on the segmentation. If one wants to use the trace/characteristic data one probably only needs to use the 'traces_list.pkl file' from the all_traces folder. In Python, this file can be imported using code as follows: \n",
    "```\n",
    "import pickle\n",
    "path_to_traces_list = './all_traces/traces_list.pkl' # needs to be adjusted\n",
    "with open(path_to_traces_list, 'rb') as f:\n",
    "    traces_list = pickle.load(f)\n",
    "```"
   ]
  }
 ],
 "metadata": {
  "kernelspec": {
   "display_name": "Python 3",
   "language": "python",
   "name": "python3"
  },
  "language_info": {
   "codemirror_mode": {
    "name": "ipython",
    "version": 3
   },
   "file_extension": ".py",
   "mimetype": "text/x-python",
   "name": "python",
   "nbconvert_exporter": "python",
   "pygments_lexer": "ipython3",
   "version": "3.10.12"
  }
 },
 "nbformat": 4,
 "nbformat_minor": 2
}
