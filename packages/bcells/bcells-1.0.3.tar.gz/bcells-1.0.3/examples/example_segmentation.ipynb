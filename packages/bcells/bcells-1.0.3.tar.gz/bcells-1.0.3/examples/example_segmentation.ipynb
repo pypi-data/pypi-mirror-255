{
 "cells": [
  {
   "cell_type": "markdown",
   "metadata": {},
   "source": [
    "# Step by step segmentation example\n",
    "This example is meant to show how to main function works and how the intermediate results relate to each other. This is not supposed to be an example of how the package is actually used in practice. Here, intermediate results of the segmentation process are shown, whereas in practice (using the `pipeline` function) nothing similar is shown (though some intermediate results are saved and can be reviewed)."
   ]
  },
  {
   "cell_type": "markdown",
   "metadata": {},
   "source": [
    "To actually run this example, one .nd2 image sequence file is needed. This file is not provided with the package as these are usually very large."
   ]
  },
  {
   "cell_type": "markdown",
   "metadata": {},
   "source": [
    "First, we will import the `bcells` package and also some other packages that we will need later. We will also set some options to be able to view plots."
   ]
  },
  {
   "cell_type": "markdown",
   "metadata": {},
   "source": [
    "Cells containing code will run if the desired cell is marked and then `Shift+Enter` is pressed (if the keyboard shortcuts have not been changed). Alternatively, there should also be a run button which can be clicked so that the marked cell is run."
   ]
  },
  {
   "cell_type": "code",
   "execution_count": 1,
   "metadata": {},
   "outputs": [],
   "source": [
    "import bcells\n",
    "import os\n",
    "import nd2\n",
    "import numpy as np\n",
    "from skimage.color import label2rgb\n",
    "import matplotlib.pyplot as plt\n",
    "%matplotlib inline"
   ]
  },
  {
   "cell_type": "markdown",
   "metadata": {},
   "source": [
    "Now, we will need to load the actual data with the .nd2 file. We will need the correct path to one such file. You will need to adjust the path to the file to match your system and setup. \n",
    "\n",
    "One easy way to do this would be to copy this jupyter notebook file we are currently running to the same folder as the .nd2 file. In that case, only the file name would be needed."
   ]
  },
  {
   "cell_type": "markdown",
   "metadata": {},
   "source": [
    "You will need to uncomment some lines below and use the appropriate path to the file and the right filename. Uncommenting can be done by removing the `#` character from the beginning of the line. For the file name, the third line in the following cell should be uncommented and the correct file name should be entered between the quotation marks instead of `example_file.nd2`."
   ]
  },
  {
   "cell_type": "code",
   "execution_count": 2,
   "metadata": {},
   "outputs": [
    {
     "name": "stdout",
     "output_type": "stream",
     "text": [
      "../../data/20220218/NIS Acquisition Data/20220218_ADHEK293-OptoRyR2_Ex2_Tetracaine_0 µM_046.nd2\n"
     ]
    }
   ],
   "source": [
    "# path_to_folder = '/data/' # e.g. when the .nd2 file is in the subfolder 'data' relative to this jupyter notebook\n",
    "path_to_folder = '.' # ADJUST # '.' is correct if .nd2 file is in the same folder as this jupyter notebook\n",
    "filename = 'example_10muM_000.nd2' # ADJUST\n",
    "path_to_nd2_file = os.path.join(path_to_folder, filename)\n",
    "\n",
    "print(path_to_nd2_file) # print the path"
   ]
  },
  {
   "cell_type": "markdown",
   "metadata": {},
   "source": [
    "We can check if we are in the right folder by listing all files in that folder. Furthermore, we can check if the file we are looking for is in that list."
   ]
  },
  {
   "cell_type": "code",
   "execution_count": 3,
   "metadata": {},
   "outputs": [
    {
     "name": "stdout",
     "output_type": "stream",
     "text": [
      "['20220218_ADHEK293-OptoRyR2_Ex2_Tetracaine_5 µM_025.nd2', '20220218_ADHEK293-OptoRyR2_Ex2_Tetracaine_500 µM_040.nd2', '20220218_ADHEK293-OptoRyR2_Ex2_Tetracaine_1 µM_023.nd2', '20220218_ADHEK293-OptoRyR2_Ex2_Tetracaine_1 mM_042.nd2', '20220218_ADHEK293-OptoRyR2_Ex2_Tetracaine_50 µM_036.nd2', 'Thumbs.db', '20220218_ADHEK293-OptoRyR2_Ex2_Tetracaine_10 µM_027.nd2', '20220218_ADHEK293-OptoRyR2_Ex2_Tetracaine_100 µM_038.nd2', '20220218_ADHEK293-OptoRyR2_Ex2_Tetracaine_0 µM_046.nd2', '20220218_ADHEK293-OptoRyR2_Ex2_Tetracaine_0.1 µM_031.nd2', '20220218_ADHEK293-OptoRyR2_Ex2_Tetracaine_0.5 µM_029.nd2']\n",
      "The file 20220218_ADHEK293-OptoRyR2_Ex2_Tetracaine_0 µM_046.nd2 is contained in the folder: True\n"
     ]
    }
   ],
   "source": [
    "# list files in folder\n",
    "print(os.listdir(path_to_folder))\n",
    "print('The file {} is contained in the folder: {}'.format(filename, filename in os.listdir(path_to_folder)))"
   ]
  },
  {
   "cell_type": "markdown",
   "metadata": {},
   "source": [
    "Equipped with the path, we can actually load the file. This might take roughly 30 seconds."
   ]
  },
  {
   "cell_type": "code",
   "execution_count": 4,
   "metadata": {},
   "outputs": [],
   "source": [
    "# load the nd2 file\n",
    "imgs = nd2.imread(path_to_nd2_file)"
   ]
  },
  {
   "cell_type": "markdown",
   "metadata": {},
   "source": [
    "If there is an error with the import, the most likely reason is that something is wrong with the path to the file."
   ]
  },
  {
   "cell_type": "markdown",
   "metadata": {},
   "source": [
    "Now, show the first frame of the image sequence."
   ]
  },
  {
   "cell_type": "code",
   "execution_count": null,
   "metadata": {},
   "outputs": [],
   "source": [
    "fig, ax = plt.subplots()\n",
    "ax.imshow(imgs[0, :, :], cmap='gray')\n",
    "ax.set_title(\"First frame\")\n",
    "ax.set_axis_off()\n",
    "plt.tight_layout()\n",
    "plt.show()"
   ]
  },
  {
   "cell_type": "markdown",
   "metadata": {},
   "source": [
    "Calculate a denoised version of an averaged version of some frames and show the results afterwards. This might take up to 2 minutes."
   ]
  },
  {
   "cell_type": "code",
   "execution_count": 8,
   "metadata": {},
   "outputs": [],
   "source": [
    "denoised, _ = bcells.processing.process.average_and_denoise(imgs, frames=slice(120, 280))"
   ]
  },
  {
   "cell_type": "code",
   "execution_count": null,
   "metadata": {},
   "outputs": [],
   "source": [
    "fig, ax = plt.subplots()\n",
    "ax.imshow(denoised, cmap='gray')\n",
    "ax.set_title(\"Denoised\")\n",
    "ax.set_axis_off()\n",
    "plt.tight_layout()\n",
    "plt.show()"
   ]
  },
  {
   "cell_type": "markdown",
   "metadata": {},
   "source": [
    "Now, we clip the brightest pixel to prevent one or a few cells being much brighter than most other ones having a big effect. Then, we estimate the background intensity. We plot the estimated background intensity and the current image in this data pipeline where we substracted the estimated background. This might take up to 15 seconds."
   ]
  },
  {
   "cell_type": "code",
   "execution_count": 10,
   "metadata": {},
   "outputs": [],
   "source": [
    "clipped = bcells.processing.process.clip_and_rescale(denoised)\n",
    "c_minus_bg, est_bg = bcells.processing.process.subtract_local_bg(clipped, offset = -0.01)"
   ]
  },
  {
   "cell_type": "code",
   "execution_count": null,
   "metadata": {},
   "outputs": [],
   "source": [
    "fig, axs = plt.subplots(nrows=1, ncols=2, figsize=(10, 5))\n",
    "axs[0].imshow(est_bg, cmap='gray')\n",
    "axs[0].set_title(\"Estimated background\")\n",
    "axs[0].set_axis_off()\n",
    "axs[1].imshow(c_minus_bg, cmap='gray')\n",
    "axs[1].set_title(\"Background substracted\")\n",
    "axs[1].set_axis_off()\n",
    "plt.tight_layout()\n",
    "plt.show()"
   ]
  },
  {
   "cell_type": "markdown",
   "metadata": {},
   "source": [
    "Get local thresholds of the processed image and show the not so strict and strict thresholds. This might take up to 20 seconds."
   ]
  },
  {
   "cell_type": "code",
   "execution_count": 12,
   "metadata": {},
   "outputs": [],
   "source": [
    "local_thresh_img, local_thresh_markers, _, _, _ = bcells.processing.process.local_threshold(c_minus_bg)"
   ]
  },
  {
   "cell_type": "code",
   "execution_count": null,
   "metadata": {},
   "outputs": [],
   "source": [
    "fig, axs = plt.subplots(nrows=1, ncols=2)\n",
    "axs[0].imshow(local_thresh_img, cmap='gray')\n",
    "axs[0].set_title(\"Local threshold\")\n",
    "axs[0].set_axis_off()\n",
    "axs[1].imshow(local_thresh_markers, cmap='gray')\n",
    "axs[1].set_title(\"Strict local threshold\")\n",
    "axs[1].set_axis_off()\n",
    "plt.tight_layout()\n",
    "plt.show()"
   ]
  },
  {
   "cell_type": "markdown",
   "metadata": {},
   "source": [
    "Finally, we compute the segmentation using the thresholded images. Then, we do some slight processing of the output and show those."
   ]
  },
  {
   "cell_type": "code",
   "execution_count": 14,
   "metadata": {},
   "outputs": [],
   "source": [
    "seg_out = bcells.segmentation.segment.segment(img=local_thresh_img, markers=local_thresh_markers)\n",
    "seg = bcells.segmentation.segment.process_segmentation(seg_out)"
   ]
  },
  {
   "cell_type": "code",
   "execution_count": null,
   "metadata": {},
   "outputs": [],
   "source": [
    "seg_out_color = label2rgb(seg_out, bg_label=0)\n",
    "seg_color = label2rgb(seg, bg_label=0)\n",
    "fig, axs = plt.subplots(nrows=1, ncols=2)\n",
    "axs[0].imshow(seg_out_color)\n",
    "axs[0].set_title(\"Segmentation\")\n",
    "axs[0].set_axis_off()\n",
    "axs[1].imshow(seg_color)\n",
    "axs[1].set_title(\"Segmentation (processed)\")\n",
    "axs[1].set_axis_off()\n",
    "plt.tight_layout()\n",
    "plt.show()"
   ]
  },
  {
   "cell_type": "markdown",
   "metadata": {},
   "source": [
    "We compute the brightness of the detected cells over the image sequence. Additionally, we calculate local background intensity traces of each cell and finally the intensity traces of the cells where we substracted the calculated local background intensity. This might take up to a minute."
   ]
  },
  {
   "cell_type": "code",
   "execution_count": 16,
   "metadata": {},
   "outputs": [],
   "source": [
    "imgs = np.transpose(imgs, (1, 2, 0)) # regionprops_table expects last dimension to be time dimension\n",
    "seg_props = bcells.segmentation.extract.seg_properties(seg_lbl=seg, imgs=imgs)"
   ]
  },
  {
   "cell_type": "code",
   "execution_count": 17,
   "metadata": {},
   "outputs": [],
   "source": [
    "seg_local_bg_cells = bcells.segmentation.extract.local_bg_intensity(imgs=imgs, seg_bg=(seg == 0).astype(np.int8), cells_slice=seg_props['slice'])\n",
    "del imgs"
   ]
  },
  {
   "cell_type": "code",
   "execution_count": 18,
   "metadata": {},
   "outputs": [],
   "source": [
    "traces_bg = bcells.segmentation.extract.traces_minus_bg(seg_props, seg_local_bg_cells)"
   ]
  },
  {
   "cell_type": "markdown",
   "metadata": {},
   "source": [
    "Plot resulting traces."
   ]
  },
  {
   "cell_type": "code",
   "execution_count": null,
   "metadata": {},
   "outputs": [],
   "source": [
    "fig, ax = plt.subplots()\n",
    "ax.plot(traces_bg.T)\n",
    "ax.set_title(\"Traces\")\n",
    "plt.show()"
   ]
  }
 ],
 "metadata": {
  "kernelspec": {
   "display_name": "Python 3 (ipykernel)",
   "language": "python",
   "name": "python3"
  },
  "language_info": {
   "codemirror_mode": {
    "name": "ipython",
    "version": 3
   },
   "file_extension": ".py",
   "mimetype": "text/x-python",
   "name": "python",
   "nbconvert_exporter": "python",
   "pygments_lexer": "ipython3",
   "version": "3.10.12"
  }
 },
 "nbformat": 4,
 "nbformat_minor": 4
}
