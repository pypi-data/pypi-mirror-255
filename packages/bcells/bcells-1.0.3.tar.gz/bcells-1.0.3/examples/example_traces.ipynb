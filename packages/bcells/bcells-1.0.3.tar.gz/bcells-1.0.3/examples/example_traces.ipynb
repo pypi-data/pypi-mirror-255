{
 "cells": [
  {
   "cell_type": "markdown",
   "metadata": {},
   "source": [
    "# Example of analysis"
   ]
  },
  {
   "cell_type": "markdown",
   "metadata": {},
   "source": [
    "Import the necessary libraries"
   ]
  },
  {
   "cell_type": "code",
   "execution_count": 1,
   "metadata": {},
   "outputs": [],
   "source": [
    "import bcells\n",
    "from bcells.data.fetchers import get_example_traces\n",
    "from bcells.processing.plotting import plot_traces\n",
    "import numpy as np\n",
    "import pandas as pd\n",
    "import matplotlib.pyplot as plt\n",
    "%matplotlib inline"
   ]
  },
  {
   "cell_type": "markdown",
   "metadata": {},
   "source": [
    "The package contains a few trace examples on which we will perform the analysis in this example notebook. We remark that the plots are thus not very insightful since very few data is actually used to generate these plots. They are created for the purposes of this example and not because the describe some scientific phenomenon well. We start by loading the data and plotting the traces."
   ]
  },
  {
   "cell_type": "code",
   "execution_count": 2,
   "metadata": {},
   "outputs": [],
   "source": [
    "example_traces = get_example_traces()"
   ]
  },
  {
   "cell_type": "code",
   "execution_count": null,
   "metadata": {},
   "outputs": [],
   "source": [
    "fig, axs = plt.subplots(1, len(example_traces), figsize=(10, 5))\n",
    "for i in range(axs.size):\n",
    "    dat = example_traces[i]['traces'].to_numpy()\n",
    "    conc = example_traces[i]['conc']\n",
    "    axs[i].plot(np.arange(dat.shape[1]) / 2, dat.T, linewidth=0.5)\n",
    "    axs[i].set_xlabel(\"Time (s)\")\n",
    "    axs[i].set_title(\"Example traces for {} muM\".format(conc))\n",
    "plt.show()"
   ]
  },
  {
   "cell_type": "markdown",
   "metadata": {},
   "source": [
    "Now, we call the analysis function which calculates a standardization of the traces, certain characerteristics of the traces and a quick approximate barycenter."
   ]
  },
  {
   "cell_type": "code",
   "execution_count": 4,
   "metadata": {},
   "outputs": [],
   "source": [
    "for i in range(len(example_traces)):\n",
    "    traces_stand, characs, app_bary, charac_bary = bcells.processing.pipeline.process_traces(example_traces[i]['traces'])\n",
    "    example_traces[i]['traces_stand'] = traces_stand\n",
    "    example_traces[i]['charac'] = characs\n",
    "    example_traces[i]['app_bary'] = app_bary\n",
    "    example_traces[i]['charac_bary'] = charac_bary\n",
    "    log_0_val_plot = 5e-2\n",
    "    if example_traces[i]['conc'] == 0:\n",
    "        example_traces[i]['charac']['conc_plot'] = log_0_val_plot\n",
    "        example_traces[i]['charac_bary']['conc_plot'] = log_0_val_plot\n",
    "    else:\n",
    "        example_traces[i]['charac']['conc_plot'] = example_traces[i]['conc']\n",
    "        example_traces[i]['charac_bary']['conc_plot'] = example_traces[i]['conc']\n",
    "charac_df_all = pd.concat([elem['charac'] for elem in example_traces], ignore_index=True)\n",
    "charac_barys = pd.concat([elem['charac_bary'] for elem in example_traces], ignore_index=True)"
   ]
  },
  {
   "cell_type": "markdown",
   "metadata": {},
   "source": [
    "Now, we plot the standardized traces and the barycenter as an example."
   ]
  },
  {
   "cell_type": "code",
   "execution_count": null,
   "metadata": {},
   "outputs": [],
   "source": [
    "fig, axs = plt.subplots(1, len(example_traces), figsize=(10, 5))\n",
    "for i in range(axs.size):\n",
    "    dat = example_traces[i]['traces_stand']\n",
    "    conc = example_traces[i]['conc']\n",
    "    axs[i] = plot_traces(dat, conc=conc, ax=axs[i])\n",
    "plt.show()"
   ]
  },
  {
   "cell_type": "code",
   "execution_count": null,
   "metadata": {},
   "outputs": [],
   "source": [
    "from bcells.processing.plotting import plot_traces\n",
    "\n",
    "fig, axs = plt.subplots(1, len(example_traces), figsize=(10, 5))\n",
    "for i in range(axs.size):\n",
    "    dat = example_traces[i]['traces_stand']\n",
    "    conc = example_traces[i]['conc']\n",
    "    bary = bcells.processing.standardization.divide_by_abs_mean_before_light(example_traces[i]['app_bary'])\n",
    "    axs[i] = plot_traces(dat, conc=conc, bary=bary, ax=axs[i])\n",
    "plt.show()"
   ]
  },
  {
   "cell_type": "markdown",
   "metadata": {},
   "source": [
    "Furthermore, we can plot the characteristics of the traces and the characteristics of the barycenter."
   ]
  },
  {
   "cell_type": "code",
   "execution_count": 11,
   "metadata": {},
   "outputs": [],
   "source": [
    "characteristics = []\n",
    "for elem in charac_df_all.columns.values.tolist():\n",
    "    if elem != \"conc_plot\":\n",
    "        characteristics.append(elem)"
   ]
  },
  {
   "cell_type": "code",
   "execution_count": null,
   "metadata": {},
   "outputs": [],
   "source": [
    "concs_true = [elem['conc'] for elem in example_traces]\n",
    "concs_plot = [elem['charac']['conc_plot'].iloc[0] for elem in example_traces]\n",
    "fig, ax = plt.subplots(1, 1, figsize=(11, 5))\n",
    "ax = bcells.processing.plotting.plot_all_charac(dat=charac_df_all, y='peak_time', concs_true=concs_true, concs_plot=concs_plot, ax=ax)\n",
    "plt.show()"
   ]
  },
  {
   "cell_type": "markdown",
   "metadata": {},
   "source": [
    "The following is a scatter plot since we have only on characteristics value for each barycenter."
   ]
  },
  {
   "cell_type": "code",
   "execution_count": null,
   "metadata": {},
   "outputs": [],
   "source": [
    "fig, ax = plt.subplots(1, 1, figsize=(10, 5))\n",
    "ax = bcells.processing.plotting.plot_charac_barys(dat=charac_barys, y='peak_time', concs_true=concs_true, concs_plot=concs_plot, ax=ax)\n",
    "plt.show()"
   ]
  },
  {
   "cell_type": "code",
   "execution_count": null,
   "metadata": {},
   "outputs": [],
   "source": []
  }
 ],
 "metadata": {
  "kernelspec": {
   "display_name": "Python 3",
   "language": "python",
   "name": "python3"
  },
  "language_info": {
   "codemirror_mode": {
    "name": "ipython",
    "version": 3
   },
   "file_extension": ".py",
   "mimetype": "text/x-python",
   "name": "python",
   "nbconvert_exporter": "python",
   "pygments_lexer": "ipython3",
   "version": "3.10.12"
  }
 },
 "nbformat": 4,
 "nbformat_minor": 2
}
