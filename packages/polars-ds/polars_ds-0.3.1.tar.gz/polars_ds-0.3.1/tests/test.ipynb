{
 "cells": [
  {
   "cell_type": "code",
   "execution_count": null,
   "metadata": {},
   "outputs": [],
   "source": [
    "import polars as pl\n",
    "import polars_ds as pld\n",
    "import numpy as np"
   ]
  },
  {
   "cell_type": "code",
   "execution_count": null,
   "metadata": {},
   "outputs": [],
   "source": [
    "import polars_ds as pld\n",
    "size = 2000\n",
    "df = pl.DataFrame({\n",
    "    \"id\": range(size),\n",
    "    \"val1\": np.random.random(size=size), \n",
    "    \"val2\": np.random.random(size=size), \n",
    "    \"val3\": np.random.random(size=size),\n",
    "    \"r\": np.random.random(size=size),\n",
    "    \"rh\": np.random.random(size=size)*10,\n",
    "}).with_columns(\n",
    "    pl.col(\"id\").cast(pl.UInt64)\n",
    ")"
   ]
  },
  {
   "cell_type": "code",
   "execution_count": null,
   "metadata": {},
   "outputs": [],
   "source": [
    "\n",
    "df = df.with_columns(\n",
    "    pl.col(\"id\").num.query_radius_ptwise(\n",
    "        pl.col(\"val1\"), pl.col(\"val2\"), pl.col(\"val3\"), # Columns used as the coordinates in n-d space\n",
    "        r = 0.05, \n",
    "        dist = \"l2\", # actually this is squared l2\n",
    "        parallel = True,\n",
    "    ).alias(\"best friends\")\n",
    ") \n",
    "df"
   ]
  },
  {
   "cell_type": "code",
   "execution_count": null,
   "metadata": {},
   "outputs": [],
   "source": [
    "df.select(\n",
    "    pl.col(\"best friends\").list.len()\n",
    ")"
   ]
  },
  {
   "cell_type": "code",
   "execution_count": null,
   "metadata": {},
   "outputs": [],
   "source": [
    "df.select(\n",
    "    pl.col(\"best friends\").graph.shortest_path_const_cost(19, parallel=True)\n",
    ")"
   ]
  },
  {
   "cell_type": "code",
   "execution_count": null,
   "metadata": {},
   "outputs": [],
   "source": []
  },
  {
   "cell_type": "code",
   "execution_count": null,
   "metadata": {},
   "outputs": [],
   "source": []
  },
  {
   "cell_type": "code",
   "execution_count": null,
   "metadata": {},
   "outputs": [],
   "source": []
  },
  {
   "cell_type": "code",
   "execution_count": null,
   "metadata": {},
   "outputs": [],
   "source": [
    "df.with_columns(\n",
    "    pl.col(\"a\").stats.rand_str(min_size=4,max_size=6).alias(\"s1\"),\n",
    "    # pl.col(\"a\").stats.rand_str(min_size=4,max_size=6).alias(\"s2\"),\n",
    ") "
   ]
  },
  {
   "cell_type": "code",
   "execution_count": null,
   "metadata": {},
   "outputs": [],
   "source": [
    "df.with_columns(\n",
    "    pl.col(\"s1\").str2.hamming(pl.col(\"s2\"), pad = True).alias(\"hamming pad\"),\n",
    "    pl.col(\"s1\").str2.hamming(pl.col(\"s2\"), pad = False).alias(\"hamming no pad\"),\n",
    ")"
   ]
  },
  {
   "cell_type": "code",
   "execution_count": null,
   "metadata": {},
   "outputs": [],
   "source": [
    "df.with_columns(\n",
    "    pl.col(\"s1\").str2.hamming(pl.col(\"s2\")).alias(\"hamming\")\n",
    ").filter(\n",
    "    pl.col(\"s1\").str2.hamming_filter(pl.col(\"s2\"), bound = 2)\n",
    ")"
   ]
  },
  {
   "cell_type": "code",
   "execution_count": null,
   "metadata": {},
   "outputs": [],
   "source": [
    "%%timeit\n",
    "df.select(\n",
    "    pl.col(\"s1\").str2.levenshtein(pl.col(\"s2\")) < 3\n",
    ") # 3.25ms"
   ]
  },
  {
   "cell_type": "code",
   "execution_count": null,
   "metadata": {},
   "outputs": [],
   "source": [
    "%%timeit\n",
    "df.select(\n",
    "    pl.col(\"s1\").str2.levenshtein_filter(pl.col(\"s2\"), 3)\n",
    ") # 2.43ms"
   ]
  },
  {
   "cell_type": "code",
   "execution_count": null,
   "metadata": {},
   "outputs": [],
   "source": []
  },
  {
   "cell_type": "code",
   "execution_count": null,
   "metadata": {},
   "outputs": [],
   "source": []
  }
 ],
 "metadata": {
  "kernelspec": {
   "display_name": ".venv",
   "language": "python",
   "name": "python3"
  },
  "language_info": {
   "codemirror_mode": {
    "name": "ipython",
    "version": 3
   },
   "file_extension": ".py",
   "mimetype": "text/x-python",
   "name": "python",
   "nbconvert_exporter": "python",
   "pygments_lexer": "ipython3",
   "version": "3.11.6"
  }
 },
 "nbformat": 4,
 "nbformat_minor": 2
}
