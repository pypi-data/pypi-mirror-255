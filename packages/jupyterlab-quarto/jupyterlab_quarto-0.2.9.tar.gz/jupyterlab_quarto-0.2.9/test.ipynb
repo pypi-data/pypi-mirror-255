{
 "cells": [
  {
   "cell_type": "markdown",
   "id": "dba1aed8-fe2b-4b7c-9f1c-d1c08a3a5d36",
   "metadata": {},
   "source": [
    "---\n",
    "title: Hello World\n",
    "author: Charles Teague\n",
    "format: html\n",
    "---\n"
   ]
  },
  {
   "cell_type": "code",
   "execution_count": null,
   "id": "eb42be59-beb6-4da1-adca-0a3e93d70cfd",
   "metadata": {},
   "outputs": [],
   "source": []
  }
 ],
 "metadata": {
  "kernelspec": {
   "display_name": "Python 3 (ipykernel)",
   "language": "python",
   "name": "python3"
  },
  "language_info": {
   "codemirror_mode": {
    "name": "ipython",
    "version": 3
   },
   "file_extension": ".py",
   "mimetype": "text/x-python",
   "name": "python",
   "nbconvert_exporter": "python",
   "pygments_lexer": "ipython3",
   "version": "3.11.7"
  }
 },
 "nbformat": 4,
 "nbformat_minor": 5
}
